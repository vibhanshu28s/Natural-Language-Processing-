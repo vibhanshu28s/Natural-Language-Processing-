{
 "cells": [
  {
   "cell_type": "code",
   "execution_count": 37,
   "id": "094142d4-2f35-4d87-bacb-a35c585b6356",
   "metadata": {},
   "outputs": [],
   "source": [
    "import nltk\n",
    "from nltk.tokenize import word_tokenize, sent_tokenize, RegexpTokenizer\n",
    "from nltk.corpus import stopwords\n",
    "from nltk.stem import PorterStemmer, LancasterStemmer\n",
    "from nltk.stem import WordNetLemmatizer\n",
    "import string\n",
    "import re"
   ]
  },
  {
   "cell_type": "code",
   "execution_count": 39,
   "id": "661a1775-0836-45bb-9068-c2abd8e4d06c",
   "metadata": {},
   "outputs": [],
   "source": [
    "stop_words = set(stopwords.words(\"english\"))\n",
    "porter = PorterStemmer()\n",
    "lancaster = LancasterStemmer()\n",
    "lemmatizer = WordNetLemmatizer()\n",
    "regex_tokenizer = RegexpTokenizer(r'\\w+')"
   ]
  },
  {
   "cell_type": "raw",
   "id": "6b861077-3a41-4231-b377-3de7a07c1455",
   "metadata": {},
   "source": [
    "1. Tokenize a simple sentence using word_tokenize. ( \"Natural Language Processing with Python is fun.\")"
   ]
  },
  {
   "cell_type": "code",
   "execution_count": 13,
   "id": "833f4276-ef4d-4fae-ab28-8d0f0c5db5ca",
   "metadata": {},
   "outputs": [
    {
     "name": "stdout",
     "output_type": "stream",
     "text": [
      "['Natural', 'Language', 'Processing', 'with', 'Python', 'is', 'fun', '.']\n"
     ]
    }
   ],
   "source": [
    "sentence1 = \"Natural Language Processing with Python is fun.\"\n",
    "tokens1 = word_tokenize(sentence1)\n",
    "print(tokens1)"
   ]
  },
  {
   "cell_type": "raw",
   "id": "42d14c17-8dc9-49de-ac1a-a27536e395ea",
   "metadata": {},
   "source": [
    "2.Remove punctuation from a sentence using NLTK. (\"Hello there! How's the weather today?\")."
   ]
  },
  {
   "cell_type": "code",
   "execution_count": 19,
   "id": "99708c17-673f-4458-bd03-8fa7de5ec884",
   "metadata": {},
   "outputs": [
    {
     "name": "stdout",
     "output_type": "stream",
     "text": [
      "Hello there Hows the weather today\n"
     ]
    }
   ],
   "source": [
    "sentence2 = \"Hello there! How's the weather today?\"\n",
    "no_punct2 = ''.join([char for char in sentence2 if char not in string.punctuation])\n",
    "print(no_punct2)"
   ]
  },
  {
   "cell_type": "raw",
   "id": "fd3c7747-a22c-4214-b567-4727a1df7f01",
   "metadata": {},
   "source": [
    "3. Remove stopwords from a sentence. (\"This is a simple sentence for stopword removal.\")"
   ]
  },
  {
   "cell_type": "code",
   "execution_count": 33,
   "id": "937ec663-79f2-4bce-afef-ce0fbab54166",
   "metadata": {},
   "outputs": [
    {
     "name": "stdout",
     "output_type": "stream",
     "text": [
      "['simple', 'sentence', 'stopword', 'removal', '.']\n"
     ]
    }
   ],
   "source": [
    "stop_words = set(stopwords.words(\"english\"))\n",
    "sentence3 = \"This is a simple sentence for stopword removal.\"\n",
    "tokens3 = word_tokenize(sentence3)\n",
    "filtered3 = [word for word in tokens3 if word.lower() not in stop_words]\n",
    "print(filtered3)"
   ]
  },
  {
   "cell_type": "raw",
   "id": "9cb1a2f3-c7d7-4d9f-b69f-56965a06348e",
   "metadata": {},
   "source": [
    "4. Perform stemming using PorterStemmer. (\"The striped bats are hanging on their feet for best.\")"
   ]
  },
  {
   "cell_type": "code",
   "execution_count": 41,
   "id": "13181059-b74b-4fb9-b3de-0338fd4caccb",
   "metadata": {},
   "outputs": [
    {
     "name": "stdout",
     "output_type": "stream",
     "text": [
      "4. Stemming with PorterStemmer: ['the', 'stripe', 'bat', 'are', 'hang', 'on', 'their', 'feet', 'for', 'best', '.']\n"
     ]
    }
   ],
   "source": [
    "sentence4 = \"The striped bats are hanging on their feet for best.\"\n",
    "tokens4 = word_tokenize(sentence4)\n",
    "stemmed4 = [porter.stem(word) for word in tokens4]\n",
    "print(\"4. Stemming with PorterStemmer:\", stemmed4)"
   ]
  },
  {
   "cell_type": "raw",
   "id": "142b1044-3e70-4fa1-806a-4f10edca1303",
   "metadata": {},
   "source": [
    "5. Perform lemmatization using WordNetLemmatizer. (\"The geese are flying south for the winter.\")"
   ]
  },
  {
   "cell_type": "code",
   "execution_count": 43,
   "id": "d626990e-a5ba-4a57-a877-e0ffcdaa7170",
   "metadata": {},
   "outputs": [
    {
     "name": "stdout",
     "output_type": "stream",
     "text": [
      "['The', 'goose', 'are', 'flying', 'south', 'for', 'the', 'winter', '.']\n"
     ]
    }
   ],
   "source": [
    "sentence5 = \"The geese are flying south for the winter.\"\n",
    "tokens5 = word_tokenize(sentence5)\n",
    "lemmatized5 = [lemmatizer.lemmatize(word) for word in tokens5]\n",
    "print(lemmatized5)"
   ]
  },
  {
   "cell_type": "raw",
   "id": "ec2034fd-8cae-4d39-a3a3-adcc5c9287a4",
   "metadata": {},
   "source": [
    "6. Convert text to lowercase and remove punctuation. (\"Hello, World! NLP with Python.\")"
   ]
  },
  {
   "cell_type": "code",
   "execution_count": 45,
   "id": "af1a8cce-110e-425e-8ee9-a7a52b348ebf",
   "metadata": {},
   "outputs": [
    {
     "name": "stdout",
     "output_type": "stream",
     "text": [
      "hello world nlp with python\n"
     ]
    }
   ],
   "source": [
    "sentence6 = \"Hello, World! NLP with Python.\"\n",
    "lower_no_punct6 = ''.join([char.lower() for char in sentence6 if char not in string.punctuation])\n",
    "print(lower_no_punct6)"
   ]
  },
  {
   "cell_type": "raw",
   "id": "f17af89c-b659-48b3-987e-eb912f9455ad",
   "metadata": {},
   "source": [
    "7.  Tokenize a sentence into sentences using sent_tokenize. (\"Hello World. This is NLTK. Let's explore NLP!\")"
   ]
  },
  {
   "cell_type": "code",
   "execution_count": 47,
   "id": "8e641401-c0b5-4768-8504-73fd2cc2e887",
   "metadata": {},
   "outputs": [
    {
     "name": "stdout",
     "output_type": "stream",
     "text": [
      "['Hello World.', 'This is NLTK.', \"Let's explore NLP!\"]\n"
     ]
    }
   ],
   "source": [
    "sentence7 = \"Hello World. This is NLTK. Let's explore NLP!\"\n",
    "sentences7 = sent_tokenize(sentence7)\n",
    "print(sentences7)"
   ]
  },
  {
   "cell_type": "raw",
   "id": "1d6ac195-3045-49c4-a943-77de979b5103",
   "metadata": {},
   "source": [
    "8. Stem words in a sentence using LancasterStemmer. (“Loving the experience of learning NLTK”)"
   ]
  },
  {
   "cell_type": "code",
   "execution_count": 51,
   "id": "00108632-e95d-4207-9039-949a790a2315",
   "metadata": {},
   "outputs": [
    {
     "name": "stdout",
     "output_type": "stream",
     "text": [
      "['lov', 'the', 'expery', 'of', 'learn', 'nltk']\n"
     ]
    }
   ],
   "source": [
    "sentence8 = \"Loving the experience of learning NLTK\"\n",
    "tokens8 = word_tokenize(sentence8)\n",
    "stemmed8 = [lancaster.stem(word) for word in tokens8]\n",
    "print(stemmed8)"
   ]
  },
  {
   "cell_type": "raw",
   "id": "6511d5ca-4d5c-45a1-9bac-22400a2dc6d2",
   "metadata": {},
   "source": [
    "9. Remove both stopwords and punctuation from a sentence. (\"This is a test sentence, with stopwords and punctuation!\")"
   ]
  },
  {
   "cell_type": "code",
   "execution_count": 53,
   "id": "5a502739-5387-45be-ad0f-45b03789e76d",
   "metadata": {},
   "outputs": [
    {
     "name": "stdout",
     "output_type": "stream",
     "text": [
      "['test', 'sentence', 'stopwords', 'punctuation']\n"
     ]
    }
   ],
   "source": [
    "sentence9 = \"This is a test sentence, with stopwords and punctuation!\"\n",
    "tokens9 = word_tokenize(sentence9)\n",
    "filtered9 = [word.lower() for word in tokens9 if word.lower() not in stop_words and word not in string.punctuation]\n",
    "print(filtered9)"
   ]
  },
  {
   "cell_type": "raw",
   "id": "23e9fc98-5e0d-40f1-8555-6041fe5d2a47",
   "metadata": {},
   "source": [
    "10. Lemmatize words with their part-of-speech (POS) tag. (\"The striped bats are hanging on their feet.\")"
   ]
  },
  {
   "cell_type": "code",
   "execution_count": 63,
   "id": "26d00d0a-d535-4a7b-bf85-e85f517fb056",
   "metadata": {},
   "outputs": [
    {
     "name": "stdout",
     "output_type": "stream",
     "text": [
      "['The', 'striped', 'bat', 'be', 'hang', 'on', 'their', 'foot', '.']\n"
     ]
    }
   ],
   "source": [
    "sentence10 = \"The striped bats are hanging on their feet.\"\n",
    "tokens10 = word_tokenize(sentence10)\n",
    "pos_tags10 = nltk.pos_tag(tokens10)\n",
    "lemmatized10 = [lemmatizer.lemmatize(word, pos='v' if pos.startswith('V') else 'n') for word, pos in pos_tags10]\n",
    "print(lemmatized10)"
   ]
  },
  {
   "cell_type": "raw",
   "id": "8cad645f-09ed-4993-a149-8e604772540e",
   "metadata": {},
   "source": [
    "11. Tokenize and remove stopwords, punctuation, and perform stemming. (\"Running through the forest, the fox is faster.\")"
   ]
  },
  {
   "cell_type": "code",
   "execution_count": 65,
   "id": "c07bf597-9b48-4401-8444-3f1421dd3c7b",
   "metadata": {},
   "outputs": [
    {
     "name": "stdout",
     "output_type": "stream",
     "text": [
      "['run', 'forest', 'fox', 'faster']\n"
     ]
    }
   ],
   "source": [
    "sentence11 = \"Running through the forest, the fox is faster.\"\n",
    "tokens11 = word_tokenize(sentence11)\n",
    "filtered11 = [porter.stem(word.lower()) for word in tokens11 if word.lower() not in stop_words and word not in string.punctuation]\n",
    "print(filtered11)"
   ]
  },
  {
   "cell_type": "raw",
   "id": "60ad9fcf-f4cf-4793-851b-5004c22ca9ca",
   "metadata": {},
   "source": [
    "12. Count stopwords in a sentence. (\"This is an example sentence for counting stopwords.\")"
   ]
  },
  {
   "cell_type": "code",
   "execution_count": 67,
   "id": "6f37a815-726b-40bb-a824-682070367b47",
   "metadata": {},
   "outputs": [
    {
     "name": "stdout",
     "output_type": "stream",
     "text": [
      "4\n"
     ]
    }
   ],
   "source": [
    "sentence12 = \"This is an example sentence for counting stopwords.\"\n",
    "tokens12 = word_tokenize(sentence12)\n",
    "stopword_count12 = len([word for word in tokens12 if word.lower() in stop_words])\n",
    "print(stopword_count12)"
   ]
  },
  {
   "cell_type": "raw",
   "id": "7996f269-3a31-4945-8554-fe92f825a75b",
   "metadata": {},
   "source": [
    "13. Perform stemming and remove punctuation using RegexTokenizer. (\"Stemming, punctuation! Removal example.\")"
   ]
  },
  {
   "cell_type": "code",
   "execution_count": 69,
   "id": "1674578c-c00c-49a6-97de-6c24cd1d12df",
   "metadata": {},
   "outputs": [
    {
     "name": "stdout",
     "output_type": "stream",
     "text": [
      "['stem', 'punctuat', 'remov', 'exampl']\n"
     ]
    }
   ],
   "source": [
    "sentence13 = \"Stemming, punctuation! Removal example.\"\n",
    "tokens13 = regex_tokenizer.tokenize(sentence13)\n",
    "stemmed13 = [porter.stem(word) for word in tokens13]\n",
    "print(stemmed13)"
   ]
  },
  {
   "cell_type": "raw",
   "id": "981a1e98-f82e-47b8-bf38-b020598b4217",
   "metadata": {},
   "source": [
    "14. Remove punctuation using regex and NLTK. (\"Punctuation removal with regex in NLP!\")"
   ]
  },
  {
   "cell_type": "code",
   "execution_count": 71,
   "id": "a0861bb7-0c69-4e4a-b296-f9eaebb6a150",
   "metadata": {},
   "outputs": [
    {
     "name": "stdout",
     "output_type": "stream",
     "text": [
      "Punctuation removal with regex in NLP\n"
     ]
    }
   ],
   "source": [
    "sentence14 = \"Punctuation removal with regex in NLP!\"\n",
    "no_punct14 = re.sub(r'[^\\w\\s]', '', sentence14)\n",
    "print(no_punct14)"
   ]
  },
  {
   "cell_type": "raw",
   "id": "23f2408b-e238-481b-9e95-814f55f9552f",
   "metadata": {},
   "source": [
    "15. Tokenize text into words, remove stopwords, and lemmatize. (\"The dogs are barking loudly.\")"
   ]
  },
  {
   "cell_type": "code",
   "execution_count": 73,
   "id": "81b2bda5-9ebc-4059-865c-2f34a71bf3e3",
   "metadata": {},
   "outputs": [
    {
     "name": "stdout",
     "output_type": "stream",
     "text": [
      "['dog', 'barking', 'loudly', '.']\n"
     ]
    }
   ],
   "source": [
    "sentence15 = \"The dogs are barking loudly.\"\n",
    "tokens15 = word_tokenize(sentence15)\n",
    "filtered15 = [lemmatizer.lemmatize(word.lower()) for word in tokens15 if word.lower() not in stop_words]\n",
    "print(filtered15)"
   ]
  }
 ],
 "metadata": {
  "kernelspec": {
   "display_name": "Python 3 (ipykernel)",
   "language": "python",
   "name": "python3"
  },
  "language_info": {
   "codemirror_mode": {
    "name": "ipython",
    "version": 3
   },
   "file_extension": ".py",
   "mimetype": "text/x-python",
   "name": "python",
   "nbconvert_exporter": "python",
   "pygments_lexer": "ipython3",
   "version": "3.11.9"
  }
 },
 "nbformat": 4,
 "nbformat_minor": 5
}
