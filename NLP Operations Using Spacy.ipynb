{
 "cells": [
  {
   "cell_type": "code",
   "execution_count": 2,
   "id": "6d6e9474-105e-4797-a524-b43ff739c921",
   "metadata": {},
   "outputs": [],
   "source": [
    "import spacy"
   ]
  },
  {
   "cell_type": "code",
   "execution_count": 3,
   "id": "3f23ed30-507e-4e0a-bd3f-457848846829",
   "metadata": {},
   "outputs": [],
   "source": [
    "nlp =spacy.load('en_core_web_sm')"
   ]
  },
  {
   "cell_type": "code",
   "execution_count": 4,
   "id": "f9578975-9dfd-46fb-a625-56a71652cf41",
   "metadata": {},
   "outputs": [],
   "source": [
    "#1. Create a Doc object from the file owlcreek.txt"
   ]
  },
  {
   "cell_type": "code",
   "execution_count": 5,
   "id": "8154b607-578e-4da4-bae3-1e30e84fbf36",
   "metadata": {},
   "outputs": [],
   "source": [
    " with open(\"owlcreek.txt\", 'r') as f:\n",
    "     text = f.read()"
   ]
  },
  {
   "cell_type": "code",
   "execution_count": 6,
   "id": "7e7be635-bf31-48b1-9e50-84e8590bfec0",
   "metadata": {},
   "outputs": [],
   "source": [
    "doc=nlp(text)"
   ]
  },
  {
   "cell_type": "code",
   "execution_count": 7,
   "id": "89e8142c-d490-445d-aa1f-607d81f0fbea",
   "metadata": {},
   "outputs": [],
   "source": [
    "#2. How many tokens are contained in the file?"
   ]
  },
  {
   "cell_type": "code",
   "execution_count": 8,
   "id": "52bbe61f-7d9d-4582-b463-6c6d78055571",
   "metadata": {},
   "outputs": [
    {
     "name": "stdout",
     "output_type": "stream",
     "text": [
      "Number of token : 4835\n"
     ]
    }
   ],
   "source": [
    "Tokens = [] \n",
    "for token in doc: \n",
    "    Tokens.append(token) \n",
    "\n",
    "print('Number of token :',len(Tokens))"
   ]
  },
  {
   "cell_type": "code",
   "execution_count": 9,
   "id": "2422d05e-9d6e-42d8-8078-d0d0742300c8",
   "metadata": {},
   "outputs": [],
   "source": [
    "#3. How many sentences are contained in the file?"
   ]
  },
  {
   "cell_type": "code",
   "execution_count": 18,
   "id": "2b673a4c-97d7-4873-8acf-53853d52b32f",
   "metadata": {},
   "outputs": [
    {
     "name": "stdout",
     "output_type": "stream",
     "text": [
      "204\n"
     ]
    }
   ],
   "source": [
    "sentence_count = len(list(doc.sents))\n",
    "print(sentence_count)"
   ]
  },
  {
   "cell_type": "code",
   "execution_count": 20,
   "id": "b6959ce3-3ec3-4350-8bed-398793e7c866",
   "metadata": {},
   "outputs": [],
   "source": [
    "#4. Print the second sentence in the document"
   ]
  },
  {
   "cell_type": "code",
   "execution_count": 22,
   "id": "09c4daa4-c7ac-47a1-92a6-a4ec040ca968",
   "metadata": {},
   "outputs": [],
   "source": [
    "sentence=list(doc.sents)\n",
    "second_sentence=sentence[1]"
   ]
  },
  {
   "cell_type": "code",
   "execution_count": 24,
   "id": "22d8330e-c642-4416-8aac-b807b74904d3",
   "metadata": {},
   "outputs": [
    {
     "data": {
      "text/plain": [
       "The man's hands were behind\n",
       "his back, the wrists bound with a cord.  "
      ]
     },
     "execution_count": 24,
     "metadata": {},
     "output_type": "execute_result"
    }
   ],
   "source": [
    "second_sentence"
   ]
  },
  {
   "cell_type": "code",
   "execution_count": 26,
   "id": "e721dd04-61e1-45e1-b6d7-7b3a951e96e0",
   "metadata": {},
   "outputs": [],
   "source": [
    "#5. For each token in the sentence above, print its text, POS tag, dep tag and lemma."
   ]
  },
  {
   "cell_type": "code",
   "execution_count": 28,
   "id": "283f905b-ff6d-473a-a52c-8a4a0b813856",
   "metadata": {},
   "outputs": [
    {
     "name": "stdout",
     "output_type": "stream",
     "text": [
      "The      DET      det      7425985699627899538\n",
      "man      NOUN     poss     3104811030673030468\n",
      "'s       PART     case     16428057658620181782\n",
      "hands    NOUN     nsubj    10690717480206833971\n",
      "were     AUX      ROOT     10382539506755952630\n",
      "behind   ADP      prep     9368086581607646285\n",
      "\n",
      "        SPACE    dep      962983613142996970\n",
      "his      PRON     poss     2661093235354845946\n",
      "back     NOUN     pobj     15255859468896132977\n",
      ",        PUNCT    punct    2593208677638477497\n",
      "the      DET      det      7425985699627899538\n",
      "wrists   NOUN     appos    40049004327531306\n",
      "bound    VERB     acl      16578919470474021089\n",
      "with     ADP      prep     12510949447758279278\n",
      "a        DET      det      11901859001352538922\n",
      "cord     NOUN     pobj     8978229881582480158\n",
      ".        PUNCT    punct    12646065887601541794\n",
      "         SPACE    dep      8532415787641010193\n"
     ]
    }
   ],
   "source": [
    "for token in second_sentence:\n",
    "    print(f\"{token.text:{8}} {token.pos_:{8}} {token.dep_:{8}} {token.lemma:{8}}\")"
   ]
  },
  {
   "cell_type": "code",
   "execution_count": 15,
   "id": "3d816bc8-1152-4298-87aa-20388a62eb89",
   "metadata": {},
   "outputs": [],
   "source": [
    "#6. Write a matcher called 'Swimming' that finds both occurrences of the phrase \"swimming vigorously\" in the text."
   ]
  },
  {
   "cell_type": "code",
   "execution_count": 12,
   "id": "f205ae87-75ae-4c61-adf9-5969d9e3d15f",
   "metadata": {},
   "outputs": [],
   "source": [
    "from spacy.matcher import PhraseMatcher"
   ]
  },
  {
   "cell_type": "code",
   "execution_count": 14,
   "id": "792068bd-b724-40d1-8ab2-226fcffc84f3",
   "metadata": {},
   "outputs": [],
   "source": [
    "matcher=PhraseMatcher(nlp.vocab)"
   ]
  },
  {
   "cell_type": "code",
   "execution_count": 45,
   "id": "87f828ff-a890-4bae-9bdd-e3c99a6762e9",
   "metadata": {},
   "outputs": [],
   "source": [
    "phrase_list=[\"swimming\"]"
   ]
  },
  {
   "cell_type": "code",
   "execution_count": 47,
   "id": "751f6a95-7ec9-44a6-8620-517309b19546",
   "metadata": {},
   "outputs": [],
   "source": [
    "phrase_patterns=[nlp(text) for text in phrase_list]"
   ]
  },
  {
   "cell_type": "code",
   "execution_count": 49,
   "id": "bf0a0116-af11-45b4-8c6c-5ef97b1c8ad1",
   "metadata": {},
   "outputs": [],
   "source": [
    "matcher.add(\"newproduct\", None,  *phrase_patterns)"
   ]
  },
  {
   "cell_type": "code",
   "execution_count": 51,
   "id": "92e57e76-91e5-48a8-b6fa-60c559b7137f",
   "metadata": {},
   "outputs": [],
   "source": [
    "matches=matcher(doc)"
   ]
  },
  {
   "cell_type": "code",
   "execution_count": 53,
   "id": "ec6e795f-4595-4db0-8195-e731e3ecdddd",
   "metadata": {},
   "outputs": [
    {
     "data": {
      "text/plain": [
       "[(2689272359382549672, 1274, 1275), (2689272359382549672, 3609, 3610)]"
      ]
     },
     "execution_count": 53,
     "metadata": {},
     "output_type": "execute_result"
    }
   ],
   "source": [
    "matches"
   ]
  },
  {
   "cell_type": "code",
   "execution_count": 55,
   "id": "6fd984d9-d604-4b56-a4e0-ab3c0c97d6ca",
   "metadata": {},
   "outputs": [
    {
     "data": {
      "text/plain": [
       "swimming"
      ]
     },
     "execution_count": 55,
     "metadata": {},
     "output_type": "execute_result"
    }
   ],
   "source": [
    "doc[1274:1275]"
   ]
  },
  {
   "cell_type": "code",
   "execution_count": 66,
   "id": "246652e1-61f8-4277-ab54-d96dc64b2508",
   "metadata": {},
   "outputs": [
    {
     "data": {
      "text/plain": [
       "swimming"
      ]
     },
     "execution_count": 66,
     "metadata": {},
     "output_type": "execute_result"
    }
   ],
   "source": [
    "doc[3609:3610]"
   ]
  },
  {
   "cell_type": "code",
   "execution_count": 68,
   "id": "f50a990f-55c2-46ef-ac5b-b3edd36ceaa0",
   "metadata": {},
   "outputs": [],
   "source": [
    "#7. Print the text surrounding each found match."
   ]
  },
  {
   "cell_type": "code",
   "execution_count": 72,
   "id": "09891405-c0d2-46d8-b298-8bd85f8a5ef3",
   "metadata": {
    "scrolled": true
   },
   "outputs": [
    {
     "data": {
      "text/plain": [
       "swimming\n",
       "vigorously, reach the bank, take to the woods and get away home.  My\n",
       "home, thank God, is as yet outside their lines; my wife and little\n",
       "ones are still beyond the invader's farthest advance.\"\n",
       "\n",
       "As these thoughts, which have here to be set down in words, were\n",
       "flashed into the doomed man's brain rather than evolved from it the\n",
       "captain nodded to the sergeant.  The sergeant stepped aside.\n",
       "\n",
       "II\n",
       "\n",
       "Peyton Farquhar was a well to do planter, of an old and highly\n",
       "respected Alabama family.  Being a slave owner and like other slave\n",
       "owners a politician, he was naturally an original secessionist and\n",
       "ardently devoted to the Southern cause.  Circumstances of an imperious\n",
       "nature, which it is unnecessary to relate here, had prevented him from\n",
       "taking service with that gallant army which had fought the disastrous\n",
       "campaigns ending with the fall of Corinth, and he chafed under the\n",
       "inglorious restraint, longing for the release of his energies, the\n",
       "larger life of the soldier, the opportunity for distinction.  That\n",
       "opportunity, he felt, would come, as it comes to all in wartime.\n",
       "Meanwhile he did what he could.  No service was too humble for him to\n",
       "perform in the aid of the South, no adventure too perilous for him to\n",
       "undertake if consistent with the character of a civilian who was at\n",
       "heart a soldier, and who in good faith and without too much\n",
       "qualification assented to at least a part of the frankly villainous\n",
       "dictum that all is fair in love and war.\n",
       "\n",
       "One evening while Farquhar and his wife were sitting on a rustic bench\n",
       "near the entrance to his grounds, a gray-clad soldier rode up to the\n",
       "gate and asked for a drink of water. Mrs. Farquhar was only too happy\n",
       "to serve him with her own white hands.  While she was fetching the\n",
       "water her husband approached the dusty horseman and inquired eagerly\n",
       "for news from the front.\n",
       "\n",
       "\"The Yanks are repairing the railroads,\" said the man, \"and are\n",
       "getting ready for another advance.  They have reached the Owl Creek\n",
       "bridge, put it in order and built a stockade on the north bank.  The\n",
       "commandant has issued an order, which is posted everywhere, declaring\n",
       "that any civilian caught interfering with the railroad, its bridges,\n",
       "tunnels, or trains will be summarily hanged.  I saw the order.\"\n",
       "\n",
       "\"How far is it to the Owl Creek bridge?\" Farquhar asked.\n",
       "\n",
       "\"About thirty miles.\"\n",
       "\n",
       "\"Is there no force on this side of the creek?\"\n",
       "\n",
       "\"Only a picket post half a mile out, on the railroad, and a single\n",
       "sentinel at this end of the bridge.\"\n",
       "\n",
       "\"Suppose a man--a civilian and student of hanging--should elude the\n",
       "picket post and perhaps get the better of the sentinel,\" said\n",
       "Farquhar, smiling, \"what could he accomplish?\"\n",
       "\n",
       "The soldier reflected.  \"I was there a month ago,\" he replied.  \"I\n",
       "observed that the flood of last winter had lodged a great quantity of\n",
       "driftwood against the wooden pier at this end of the bridge.  It is\n",
       "now dry and would burn like tinder.\"\n",
       "\n",
       "The lady had now brought the water, which the soldier drank. He\n",
       "thanked her ceremoniously, bowed to her husband and rode away.  An\n",
       "hour later, after nightfall, he repassed the plantation, going\n",
       "northward in the direction from which he had come.  He was a Federal\n",
       "scout.\n",
       "\n",
       "III\n",
       "\n",
       "As Peyton Farquhar fell straight downward through the bridge he lost\n",
       "consciousness and was as one already dead. From this state he was\n",
       "awakened--ages later, it seemed to him--by the pain of a sharp\n",
       "pressure upon his throat, followed by a sense of suffocation.  Keen,\n",
       "poignant agonies seemed to shoot from his neck downward through every\n",
       "fiber of his body and limbs.  These pains appeared to flash along well\n",
       "defined lines of ramification and to beat with an inconceivably rapid\n",
       "periodicity.  They seemed like streams of pulsating fire heating him\n",
       "to an intolerable temperature.  As to his head, he was conscious of\n",
       "nothing but a feeling of fullness--of congestion.  These sensations\n",
       "were unaccompanied by thought.  The intellectual part of his nature\n",
       "was already effaced; he had power only to feel, and feeling was\n",
       "torment.  He was conscious of motion. Encompassed in a luminous cloud,\n",
       "of which he was now merely the fiery heart, without material\n",
       "substance, he swung through unthinkable arcs of oscillation, like a\n",
       "vast pendulum.  Then all at once, with terrible suddenness, the light\n",
       "about him shot upward with the noise of a loud splash; a frightful\n",
       "roaring was in his ears, and all was cold and dark.  The power of\n",
       "thought was restored; he knew that the rope had broken and he had\n",
       "fallen into the stream.  There was no additional strangulation; the\n",
       "noose about his neck was already suffocating him and kept the water\n",
       "from his lungs.  To die of hanging at the bottom of a river!--the idea\n",
       "seemed to him ludicrous.  He opened his eyes in the darkness and saw\n",
       "above him a gleam of light, but how distant, how inaccessible!  He was\n",
       "still sinking, for the light became fainter and fainter until it was a\n",
       "mere glimmer.  Then it began to grow and brighten, and he knew that he\n",
       "was rising toward the surface--knew it with reluctance, for he was now\n",
       "very comfortable.  \"To be hanged and drowned,\" he thought, \"that is\n",
       "not so bad; but I do not wish to be shot.  No; I will not be shot;\n",
       "that is not fair.\"\n",
       "\n",
       "He was not conscious of an effort, but a sharp pain in his wrist\n",
       "apprised him that he was trying to free his hands.  He gave the\n",
       "struggle his attention, as an idler might observe the feat of a\n",
       "juggler, without interest in the outcome.  What splendid effort!--what\n",
       "magnificent, what superhuman strength!  Ah, that was a fine endeavor!\n",
       "Bravo!  The cord fell away; his arms parted and floated upward, the\n",
       "hands dimly seen on each side in the growing light.  He watched them\n",
       "with a new interest as first one and then the other pounced upon the\n",
       "noose at his neck.  They tore it away and thrust it fiercely aside,\n",
       "its undulations resembling those of a water snake.  \"Put it back, put\n",
       "it back!\"  He thought he shouted these words to his hands, for the\n",
       "undoing of the noose had been succeeded by the direst pang that he had\n",
       "yet experienced.  His neck ached horribly; his brain was on fire, his\n",
       "heart, which had been fluttering faintly, gave a great leap, trying to\n",
       "force itself out at his mouth.  His whole body was racked and wrenched\n",
       "with an insupportable anguish! But his disobedient hands gave no heed\n",
       "to the command.  They beat the water vigorously with quick, downward\n",
       "strokes, forcing him to the surface.  He felt his head emerge; his\n",
       "eyes were blinded by the sunlight; his chest expanded convulsively,\n",
       "and with a supreme and crowning agony his lungs engulfed a great\n",
       "draught of air, which instantly he expelled in a shriek!\n",
       "\n",
       "He was now in full possession of his physical senses.  They were,\n",
       "indeed, preternaturally keen and alert.  Something in the awful\n",
       "disturbance of his organic system had so exalted and refined them that\n",
       "they made record of things never before perceived.  He felt the\n",
       "ripples upon his face and heard their separate sounds as they struck.\n",
       "He looked at the forest on the bank of the stream, saw the individual\n",
       "trees, the leaves and the veining of each leaf--he saw the very\n",
       "insects upon them:  the locusts, the brilliant bodied flies, the gray\n",
       "spiders stretching their webs from twig to twig.  He noted the\n",
       "prismatic colors in all the dewdrops upon a million blades of grass.\n",
       "The humming of the gnats that danced above the eddies of the stream,\n",
       "the beating of the dragon flies' wings, the strokes of the water\n",
       "spiders' legs, like oars which had lifted their boat--all these made\n",
       "audible music.  A fish slid along beneath his eyes and he heard the\n",
       "rush of its body parting the water.\n",
       "\n",
       "He had come to the surface facing down the stream; in a moment the\n",
       "visible world seemed to wheel slowly round, himself the pivotal point,\n",
       "and he saw the bridge, the fort, the soldiers upon the bridge, the\n",
       "captain, the sergeant, the two privates, his executioners.  They were\n",
       "in silhouette against the blue sky.  They shouted and gesticulated,\n",
       "pointing at him.  The captain had drawn his pistol, but did not fire;\n",
       "the others were unarmed.  Their movements were grotesque and horrible,\n",
       "their forms gigantic.\n",
       "\n",
       "Suddenly he heard a sharp report and something struck the water\n",
       "smartly within a few inches of his head, spattering his face with\n",
       "spray.  He heard a second report, and saw one of the sentinels with\n",
       "his rifle at his shoulder, a light cloud of blue smoke rising from the\n",
       "muzzle.  The man in the water saw the eye of the man on the bridge\n",
       "gazing into his own through the sights of the rifle.  He observed that\n",
       "it was a gray eye and remembered having read that gray eyes were\n",
       "keenest, and that all famous marksmen had them. Nevertheless, this one\n",
       "had missed.\n",
       "\n",
       "A counter-swirl had caught Farquhar and turned him half round; he was\n",
       "again looking at the forest on the bank opposite the fort.  The sound\n",
       "of a clear, high voice in a monotonous singsong now rang out behind\n",
       "him and came across the water with a distinctness that pierced and\n",
       "subdued all other sounds, even the beating of the ripples in his ears.\n",
       "Although no soldier, he had frequented camps enough to know the dread\n",
       "significance of that deliberate, drawling, aspirated chant; the\n",
       "lieutenant on shore was taking a part in the morning's work.  How\n",
       "coldly and pitilessly--with what an even, calm intonation, presaging,\n",
       "and enforcing tranquility in the men--with what accurately measured\n",
       "interval fell those cruel words:\n",
       "\n",
       "\"Company! . . . Attention! . . . Shoulder arms! . . . Ready!. . .\n",
       "Aim! . . . Fire!\"\n",
       "\n",
       "Farquhar dived--dived as deeply as he could.  The water roared in his\n",
       "ears like the voice of Niagara, yet he heard the dull thunder of the\n",
       "volley and, rising again toward the surface, met shining bits of\n",
       "metal, singularly flattened, oscillating slowly downward.  Some of\n",
       "them touched him on the face and hands, then fell away, continuing\n",
       "their descent. One lodged between his collar and neck; it was\n",
       "uncomfortably warm and he snatched it out.\n",
       "\n",
       "As he rose to the surface, gasping for breath, he saw that he had been\n",
       "a long time under water; he was perceptibly farther downstream--nearer\n",
       "to safety.  The soldiers had almost finished reloading; the metal\n",
       "ramrods flashed all at once in the sunshine as they were drawn from\n",
       "the barrels, turned in the air, and thrust into their sockets.  The\n",
       "two sentinels fired again, independently and ineffectually.\n",
       "\n",
       "The hunted man saw all this over his shoulder; he was now swimming\n",
       "vigorously with the current.  His brain was as energetic as his arms\n",
       "and legs; he thought with the rapidity of lightning:\n",
       "\n",
       "\"The officer,\" he reasoned, \"will not make that martinet's error a\n",
       "second time.  It is as easy to dodge a volley as a single shot.  He\n",
       "has probably already given the command to fire at will.  God help me,\n",
       "I cannot dodge them all!\"\n",
       "\n",
       "An appalling splash within two yards of him was followed by a loud,\n",
       "rushing sound, DIMINUENDO, which seemed to travel back through the air\n",
       "to the fort and died in an explosion which stirred the very river to\n",
       "its deeps!  A rising sheet of water curved over him, fell down upon\n",
       "him, blinded him, strangled him!  The cannon had taken an hand in the\n",
       "game.  As he shook his head free from the commotion of the smitten\n",
       "water he heard the deflected shot humming through the air ahead, and\n",
       "in an instant it was cracking and smashing the branches in the forest\n",
       "beyond.\n",
       "\n",
       "\"They will not do that again,\" he thought; \"the next time they will\n",
       "use a charge of grape.  I must keep my eye upon the gun; the smoke\n",
       "will apprise me--the report arrives too late; it lags behind the\n",
       "missile.  That is a good gun.\"\n",
       "\n",
       "Suddenly he felt himself whirled round and round--spinning like a top.\n",
       "The water, the banks, the forests, the now distant bridge, fort and\n",
       "men, all were commingled and blurred.  Objects were represented by\n",
       "their colors only; circular horizontal streaks of color--that was all\n",
       "he saw. He had been caught in a vortex and was being whirled on with a\n",
       "velocity of advance and gyration that made him giddy and sick.  In few\n",
       "moments he was flung upon the gravel at the foot of the left bank of\n",
       "the stream--the southern bank--and behind a projecting point which\n",
       "concealed him from his enemies.  The sudden arrest of his motion, the\n",
       "abrasion of one of his hands on the gravel, restored him, and he wept\n",
       "with delight.  He dug his fingers into the sand, threw it over himself\n",
       "in handfuls and audibly blessed it.  It looked like diamonds, rubies,\n",
       "emeralds; he could think of nothing beautiful which it did not\n",
       "resemble.  The trees upon the bank were giant garden plants; he noted\n",
       "a definite order in their arrangement, inhaled the fragrance of their\n",
       "blooms.  A strange roseate light shone through the spaces among their\n",
       "trunks and the wind made in their branches the music of AEolian harps.\n",
       "He had not wish to perfect his escape--he was content to remain in\n",
       "that enchanting spot until retaken.\n",
       "\n",
       "A whiz and a rattle of grapeshot among the branches high above his\n",
       "head roused him from his dream.  The baffled cannoneer had fired him a\n",
       "random farewell.  He sprang to his feet, rushed up the sloping bank,\n",
       "and plunged into the forest.\n",
       "\n",
       "All that day he traveled, laying his course by the rounding sun.  The\n",
       "forest seemed interminable; nowhere did he discover a break in it, not\n",
       "even a woodman's road.  He had not known that he lived in so wild a\n",
       "region.  There was something uncanny in the revelation.\n",
       "\n",
       "By nightfall he was fatigued, footsore, famished.  The thought of his\n",
       "wife and children urged him on.  At last he found a road which led him\n",
       "in what he knew to be the right direction.  It was as wide and\n",
       "straight as a city street, yet it seemed untraveled.  No fields\n",
       "bordered it, no dwelling anywhere.  Not so much as the barking of a\n",
       "dog suggested human habitation.  The black bodies of the trees formed\n",
       "a straight wall on both sides, terminating on the horizon in a point,\n",
       "like a diagram in a lesson in perspective.  Overhead, as he looked up\n",
       "through this rift in the wood, shone great golden stars looking\n",
       "unfamiliar and grouped in strange constellations.  He was sure they\n",
       "were arranged in some order which had a secret and malign\n",
       "significance.  The wood on either side was full of singular noises,\n",
       "among which--once, twice, and again--he distinctly heard whispers in\n",
       "an unknown tongue.\n",
       "\n",
       "His neck was in pain and lifting his hand to it found it horribly\n",
       "swollen.  He knew that it had a circle of black where the rope had\n",
       "bruised it.  His eyes felt congested; he could no longer close them.\n",
       "His tongue was swollen with thirst; he relieved its fever by thrusting\n",
       "it forward from between his teeth into the cold air.  How softly the\n",
       "turf had carpeted the untraveled avenue--he could no longer feel the\n",
       "roadway beneath his feet!\n",
       "\n",
       "Doubtless, despite his suffering, he had fallen asleep while walking,\n",
       "for now he sees another scene--perhaps he has merely recovered from a\n",
       "delirium.  He stands at the gate of his own home.  All is as he left\n",
       "it, and all bright and beautiful in the morning sunshine.  He must\n",
       "have traveled the entire night.  As he pushes open the gate and passes\n",
       "up the wide white walk, he sees a flutter of female garments; his\n",
       "wife, looking fresh and cool and sweet, steps down from the veranda to\n",
       "meet him.  At the bottom of the steps she stands waiting, with a smile\n",
       "of ineffable joy, an attitude of matchless grace and dignity.  Ah, how\n",
       "beautiful she is!  He springs forwards with extended arms.  As he is\n",
       "about to clasp her he feels a stunning blow upon the back of the neck;\n",
       "a blinding white light blazes all about him with a sound like the\n",
       "shock of a cannon--then all is darkness and silence!\n",
       "\n",
       "Peyton Farquhar was dead; his body, with a broken neck, swung gently\n",
       "from side to side beneath the timbers of the Owl Creek bridge.\n"
      ]
     },
     "execution_count": 72,
     "metadata": {},
     "output_type": "execute_result"
    }
   ],
   "source": [
    "doc[1274:]"
   ]
  },
  {
   "cell_type": "code",
   "execution_count": 74,
   "id": "e9297c82-b0b3-4835-b6b5-cad547836876",
   "metadata": {
    "scrolled": true
   },
   "outputs": [
    {
     "data": {
      "text/plain": [
       "swimming\n",
       "vigorously with the current.  His brain was as energetic as his arms\n",
       "and legs; he thought with the rapidity of lightning:\n",
       "\n",
       "\"The officer,\" he reasoned, \"will not make that martinet's error a\n",
       "second time.  It is as easy to dodge a volley as a single shot.  He\n",
       "has probably already given the command to fire at will.  God help me,\n",
       "I cannot dodge them all!\"\n",
       "\n",
       "An appalling splash within two yards of him was followed by a loud,\n",
       "rushing sound, DIMINUENDO, which seemed to travel back through the air\n",
       "to the fort and died in an explosion which stirred the very river to\n",
       "its deeps!  A rising sheet of water curved over him, fell down upon\n",
       "him, blinded him, strangled him!  The cannon had taken an hand in the\n",
       "game.  As he shook his head free from the commotion of the smitten\n",
       "water he heard the deflected shot humming through the air ahead, and\n",
       "in an instant it was cracking and smashing the branches in the forest\n",
       "beyond.\n",
       "\n",
       "\"They will not do that again,\" he thought; \"the next time they will\n",
       "use a charge of grape.  I must keep my eye upon the gun; the smoke\n",
       "will apprise me--the report arrives too late; it lags behind the\n",
       "missile.  That is a good gun.\"\n",
       "\n",
       "Suddenly he felt himself whirled round and round--spinning like a top.\n",
       "The water, the banks, the forests, the now distant bridge, fort and\n",
       "men, all were commingled and blurred.  Objects were represented by\n",
       "their colors only; circular horizontal streaks of color--that was all\n",
       "he saw. He had been caught in a vortex and was being whirled on with a\n",
       "velocity of advance and gyration that made him giddy and sick.  In few\n",
       "moments he was flung upon the gravel at the foot of the left bank of\n",
       "the stream--the southern bank--and behind a projecting point which\n",
       "concealed him from his enemies.  The sudden arrest of his motion, the\n",
       "abrasion of one of his hands on the gravel, restored him, and he wept\n",
       "with delight.  He dug his fingers into the sand, threw it over himself\n",
       "in handfuls and audibly blessed it.  It looked like diamonds, rubies,\n",
       "emeralds; he could think of nothing beautiful which it did not\n",
       "resemble.  The trees upon the bank were giant garden plants; he noted\n",
       "a definite order in their arrangement, inhaled the fragrance of their\n",
       "blooms.  A strange roseate light shone through the spaces among their\n",
       "trunks and the wind made in their branches the music of AEolian harps.\n",
       "He had not wish to perfect his escape--he was content to remain in\n",
       "that enchanting spot until retaken.\n",
       "\n",
       "A whiz and a rattle of grapeshot among the branches high above his\n",
       "head roused him from his dream.  The baffled cannoneer had fired him a\n",
       "random farewell.  He sprang to his feet, rushed up the sloping bank,\n",
       "and plunged into the forest.\n",
       "\n",
       "All that day he traveled, laying his course by the rounding sun.  The\n",
       "forest seemed interminable; nowhere did he discover a break in it, not\n",
       "even a woodman's road.  He had not known that he lived in so wild a\n",
       "region.  There was something uncanny in the revelation.\n",
       "\n",
       "By nightfall he was fatigued, footsore, famished.  The thought of his\n",
       "wife and children urged him on.  At last he found a road which led him\n",
       "in what he knew to be the right direction.  It was as wide and\n",
       "straight as a city street, yet it seemed untraveled.  No fields\n",
       "bordered it, no dwelling anywhere.  Not so much as the barking of a\n",
       "dog suggested human habitation.  The black bodies of the trees formed\n",
       "a straight wall on both sides, terminating on the horizon in a point,\n",
       "like a diagram in a lesson in perspective.  Overhead, as he looked up\n",
       "through this rift in the wood, shone great golden stars looking\n",
       "unfamiliar and grouped in strange constellations.  He was sure they\n",
       "were arranged in some order which had a secret and malign\n",
       "significance.  The wood on either side was full of singular noises,\n",
       "among which--once, twice, and again--he distinctly heard whispers in\n",
       "an unknown tongue.\n",
       "\n",
       "His neck was in pain and lifting his hand to it found it horribly\n",
       "swollen.  He knew that it had a circle of black where the rope had\n",
       "bruised it.  His eyes felt congested; he could no longer close them.\n",
       "His tongue was swollen with thirst; he relieved its fever by thrusting\n",
       "it forward from between his teeth into the cold air.  How softly the\n",
       "turf had carpeted the untraveled avenue--he could no longer feel the\n",
       "roadway beneath his feet!\n",
       "\n",
       "Doubtless, despite his suffering, he had fallen asleep while walking,\n",
       "for now he sees another scene--perhaps he has merely recovered from a\n",
       "delirium.  He stands at the gate of his own home.  All is as he left\n",
       "it, and all bright and beautiful in the morning sunshine.  He must\n",
       "have traveled the entire night.  As he pushes open the gate and passes\n",
       "up the wide white walk, he sees a flutter of female garments; his\n",
       "wife, looking fresh and cool and sweet, steps down from the veranda to\n",
       "meet him.  At the bottom of the steps she stands waiting, with a smile\n",
       "of ineffable joy, an attitude of matchless grace and dignity.  Ah, how\n",
       "beautiful she is!  He springs forwards with extended arms.  As he is\n",
       "about to clasp her he feels a stunning blow upon the back of the neck;\n",
       "a blinding white light blazes all about him with a sound like the\n",
       "shock of a cannon--then all is darkness and silence!\n",
       "\n",
       "Peyton Farquhar was dead; his body, with a broken neck, swung gently\n",
       "from side to side beneath the timbers of the Owl Creek bridge.\n"
      ]
     },
     "execution_count": 74,
     "metadata": {},
     "output_type": "execute_result"
    }
   ],
   "source": [
    "doc[3609:]"
   ]
  },
  {
   "cell_type": "code",
   "execution_count": null,
   "id": "a5e66e48-f839-4b59-b952-090261e5d982",
   "metadata": {},
   "outputs": [],
   "source": []
  }
 ],
 "metadata": {
  "kernelspec": {
   "display_name": "Python 3 (ipykernel)",
   "language": "python",
   "name": "python3"
  },
  "language_info": {
   "codemirror_mode": {
    "name": "ipython",
    "version": 3
   },
   "file_extension": ".py",
   "mimetype": "text/x-python",
   "name": "python",
   "nbconvert_exporter": "python",
   "pygments_lexer": "ipython3",
   "version": "3.11.9"
  }
 },
 "nbformat": 4,
 "nbformat_minor": 5
}
