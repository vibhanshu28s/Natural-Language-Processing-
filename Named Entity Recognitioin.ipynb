{
 "cells": [
  {
   "cell_type": "code",
   "execution_count": 1,
   "id": "1e55cc87-34a2-4596-82df-92601b76b085",
   "metadata": {},
   "outputs": [],
   "source": [
    "#Perform Standard imports"
   ]
  },
  {
   "cell_type": "code",
   "execution_count": 4,
   "id": "8ff430b5-1f46-4c01-8e1c-dacae3e7922a",
   "metadata": {},
   "outputs": [],
   "source": [
    "import spacy"
   ]
  },
  {
   "cell_type": "code",
   "execution_count": 5,
   "id": "6b274d22-4a4d-41c5-a83d-e21b7810283c",
   "metadata": {},
   "outputs": [],
   "source": [
    "nlp=spacy.load(\"en_core_web_sm\")"
   ]
  },
  {
   "cell_type": "code",
   "execution_count": 6,
   "id": "36ddef74-6c1d-4090-8766-ead3a7b492d3",
   "metadata": {},
   "outputs": [],
   "source": [
    "#Write a function to display basic entity info:"
   ]
  },
  {
   "cell_type": "code",
   "execution_count": 16,
   "id": "0bda671d-15a9-4af7-9639-220e0e406451",
   "metadata": {},
   "outputs": [],
   "source": [
    "def show_ents(doc):\n",
    "    if doc.ents:\n",
    "        for ent in doc.ents:\n",
    "            print(ent.text+\" - \"+ent.label_+\" - \"+str(spacy.explain(ent.label_)))\n",
    "    else:\n",
    "        print(\"No named entities found\")"
   ]
  },
  {
   "cell_type": "code",
   "execution_count": 18,
   "id": "9f56781c-0853-483d-a126-a51f7a71677e",
   "metadata": {},
   "outputs": [],
   "source": [
    "doc=nlp(\"May I go to washington, DC next May to see the Washington monument?\")"
   ]
  },
  {
   "cell_type": "code",
   "execution_count": 20,
   "id": "9d176665-b7f3-4bbc-9a5d-bdeb03575a5b",
   "metadata": {},
   "outputs": [
    {
     "name": "stdout",
     "output_type": "stream",
     "text": [
      "washington - GPE - Countries, cities, states\n",
      "DC - GPE - Countries, cities, states\n",
      "next May - DATE - Absolute or relative dates or periods\n",
      "Washington - GPE - Countries, cities, states\n"
     ]
    }
   ],
   "source": [
    "show_ents(doc)"
   ]
  },
  {
   "cell_type": "code",
   "execution_count": 13,
   "id": "f9fcabb9-e09a-479b-aa55-90b56620eb8d",
   "metadata": {},
   "outputs": [],
   "source": [
    "doc=nlp(\"Can I please borrow 500 dollars from you to buy some Microsoft stock?\")"
   ]
  },
  {
   "cell_type": "code",
   "execution_count": 15,
   "id": "ebcc53b6-6ee8-4b5b-813f-550bb538d4dd",
   "metadata": {},
   "outputs": [
    {
     "name": "stdout",
     "output_type": "stream",
     "text": [
      "500 dollars 4 6 20 31 MONEY\n",
      "Microsoft 11 12 53 62 ORG\n"
     ]
    }
   ],
   "source": [
    "for ent in doc.ents:\n",
    "    print(ent.text, ent.start, ent.end, ent.start_char, ent.end_char, ent.label_)"
   ]
  },
  {
   "cell_type": "code",
   "execution_count": 17,
   "id": "24458e16-c38e-48b8-96dc-ff5ec78fa4c5",
   "metadata": {},
   "outputs": [],
   "source": [
    "doc=nlp(\"Tesla to build a U.K. factory for $6 milliion.\")"
   ]
  },
  {
   "cell_type": "code",
   "execution_count": 19,
   "id": "0de4d1ac-83e2-40d1-b5bf-d5f58e6bcee0",
   "metadata": {},
   "outputs": [
    {
     "name": "stdout",
     "output_type": "stream",
     "text": [
      "U.K. 4 5 17 21 GPE\n",
      "$6 milliion 7 10 34 45 MONEY\n"
     ]
    }
   ],
   "source": [
    "for ent in doc.ents:\n",
    "    print(ent.text, ent.start, ent.end, ent.start_char, ent.end_char, ent.label_)"
   ]
  },
  {
   "cell_type": "code",
   "execution_count": 21,
   "id": "76d30e68-5e75-4ea6-8b3c-0b7871f12161",
   "metadata": {},
   "outputs": [],
   "source": [
    "from spacy.tokens import Span"
   ]
  },
  {
   "cell_type": "code",
   "execution_count": 37,
   "id": "fd8fcebc-4b30-4de4-ab43-71172ac66de2",
   "metadata": {},
   "outputs": [],
   "source": [
    "ORG=doc.vocab.strings[\"ORG\"]"
   ]
  },
  {
   "cell_type": "code",
   "execution_count": 39,
   "id": "cc56e48c-ff44-4250-985b-5a61f4ee11a5",
   "metadata": {},
   "outputs": [],
   "source": [
    "new_ent=Span(doc,0,1, label=ORG)"
   ]
  },
  {
   "cell_type": "code",
   "execution_count": 41,
   "id": "b7972e73-e0a1-433b-93a3-f4e2b7e81687",
   "metadata": {},
   "outputs": [],
   "source": [
    "doc.ents=list(doc.ents)+[new_ent]"
   ]
  },
  {
   "cell_type": "code",
   "execution_count": 43,
   "id": "d50742b3-d7bf-446e-9319-8562593663c9",
   "metadata": {},
   "outputs": [
    {
     "name": "stdout",
     "output_type": "stream",
     "text": [
      "to - ORG - Companies, agencies, institutions, etc.\n",
      "U.K. - GPE - Countries, cities, states\n",
      "Tesla - ORG - Companies, agencies, institutions, etc.\n",
      "$6 milliion - MONEY - Monetary values, including unit\n"
     ]
    }
   ],
   "source": [
    "show_ents(doc)"
   ]
  },
  {
   "cell_type": "code",
   "execution_count": 35,
   "id": "c259c1d7-4237-43c7-b9f0-62f1a4b8486d",
   "metadata": {},
   "outputs": [],
   "source": [
    "doc=nlp(\"to build a U.K. factory Tesla will invest $6 milliion.\")"
   ]
  },
  {
   "cell_type": "code",
   "execution_count": 45,
   "id": "8c5f0c78-4d33-40c3-8b40-f1b87cd63187",
   "metadata": {},
   "outputs": [],
   "source": [
    "doc=nlp(\"Our company plans to introduce a new vaccume cleaner. If Successful, the vaccume cleaner will be our first product.\")"
   ]
  },
  {
   "cell_type": "code",
   "execution_count": 47,
   "id": "95aacb05-f731-4b17-9c18-fa7fa36142a2",
   "metadata": {},
   "outputs": [],
   "source": [
    "from spacy.matcher import PhraseMatcher"
   ]
  },
  {
   "cell_type": "code",
   "execution_count": 49,
   "id": "29a908b5-2927-4e9d-8e71-a6b90ba1efdd",
   "metadata": {},
   "outputs": [],
   "source": [
    "matcher=PhraseMatcher(nlp.vocab)"
   ]
  },
  {
   "cell_type": "code",
   "execution_count": 51,
   "id": "19db067b-6e9b-4421-9981-2d20af5b3f1c",
   "metadata": {},
   "outputs": [],
   "source": [
    "phrase_list=[\"vaccume cleaner\",\"Vaccume-cleaner\"]"
   ]
  },
  {
   "cell_type": "code",
   "execution_count": 55,
   "id": "2fd0c0fa-efe3-4264-bb4e-b3393198fc33",
   "metadata": {},
   "outputs": [],
   "source": [
    "phrase_patterns=[nlp(text) for text in phrase_list]"
   ]
  },
  {
   "cell_type": "code",
   "execution_count": 57,
   "id": "b27a96b1-649c-4d29-b86e-6665819735df",
   "metadata": {},
   "outputs": [],
   "source": [
    "matcher.add(\"newproduct\", None,  *phrase_patterns)"
   ]
  },
  {
   "cell_type": "code",
   "execution_count": 59,
   "id": "efded0ec-f4e2-49c6-98b4-ae344c9fe824",
   "metadata": {},
   "outputs": [],
   "source": [
    "matches=matcher(doc)"
   ]
  },
  {
   "cell_type": "code",
   "execution_count": 63,
   "id": "f36b7ad1-e1dc-41a0-95bc-0b13daca5707",
   "metadata": {},
   "outputs": [
    {
     "data": {
      "text/plain": [
       "[(2689272359382549672, 7, 9), (2689272359382549672, 14, 16)]"
      ]
     },
     "execution_count": 63,
     "metadata": {},
     "output_type": "execute_result"
    }
   ],
   "source": [
    "matches"
   ]
  },
  {
   "cell_type": "code",
   "execution_count": 65,
   "id": "b5ed1c1c-b494-42fc-8cd1-55eb2229a643",
   "metadata": {},
   "outputs": [],
   "source": [
    "from spacy.tokens import Span"
   ]
  },
  {
   "cell_type": "code",
   "execution_count": 67,
   "id": "c7a8b984-6ee4-494a-b2a3-7516ea1264be",
   "metadata": {},
   "outputs": [],
   "source": [
    "PROD=doc.vocab.strings[\"PRODUCT\"]"
   ]
  },
  {
   "cell_type": "code",
   "execution_count": 69,
   "id": "872148fa-bbe5-4099-9ac0-056e7e23abd7",
   "metadata": {},
   "outputs": [],
   "source": [
    "new_ents=[Span(doc, match[1],match[2],label=PROD) for match in matches]"
   ]
  },
  {
   "cell_type": "code",
   "execution_count": null,
   "id": "0d26472a-7390-4817-9c2d-a3ac08fc5a83",
   "metadata": {},
   "outputs": [],
   "source": [
    "doc.ents=list"
   ]
  },
  {
   "cell_type": "code",
   "execution_count": 30,
   "id": "d78f77e4-433d-4ed4-a58e-7e5655db8a48",
   "metadata": {},
   "outputs": [],
   "source": [
    "doc=nlp(\"Originaly priced at $29.50, the sweater was marked down to five dollars.\")"
   ]
  },
  {
   "cell_type": "code",
   "execution_count": 42,
   "id": "87e883ba-793c-4d53-9a73-1b16cb7fd536",
   "metadata": {},
   "outputs": [
    {
     "data": {
      "text/plain": [
       "'3.5.3'"
      ]
     },
     "execution_count": 42,
     "metadata": {},
     "output_type": "execute_result"
    }
   ],
   "source": [
    "spacy.__version__"
   ]
  },
  {
   "cell_type": "code",
   "execution_count": 44,
   "id": "5fefbf1a-1310-4a1e-8170-f26803db03b0",
   "metadata": {},
   "outputs": [],
   "source": [
    "doc=nlp(\"Originaly priced at $29.50, \\nthe sweater was marked down to five dollars.\")"
   ]
  },
  {
   "cell_type": "code",
   "execution_count": 46,
   "id": "78f8d011-6f1c-4c91-bd91-7ba00510926f",
   "metadata": {},
   "outputs": [
    {
     "name": "stdout",
     "output_type": "stream",
     "text": [
      "Originaly - PERSON - People, including fictional\n",
      "29.50 - MONEY - Monetary values, including unit\n",
      "five dollars - MONEY - Monetary values, including unit\n"
     ]
    }
   ],
   "source": [
    "show_ents(doc)"
   ]
  },
  {
   "cell_type": "code",
   "execution_count": 48,
   "id": "a7c5e624-60de-4dce-90da-ad0c69daeb2e",
   "metadata": {},
   "outputs": [],
   "source": [
    "###Noun Chunks"
   ]
  },
  {
   "cell_type": "code",
   "execution_count": 86,
   "id": "38cfd7ad-3604-4a4e-8296-52d76b64f58d",
   "metadata": {},
   "outputs": [],
   "source": [
    "doc=nlp(\"Autonomous cars shift insurance liablity towards maunfacturers.\")"
   ]
  },
  {
   "cell_type": "code",
   "execution_count": 88,
   "id": "52f3ec88-c4a9-444f-b6b8-e502229dd194",
   "metadata": {},
   "outputs": [
    {
     "name": "stdout",
     "output_type": "stream",
     "text": [
      "Autonomous cars - cars - nsubj - shift\n",
      "insurance liablity - liablity - dobj - shift\n",
      "maunfacturers - maunfacturers - pobj - towards\n"
     ]
    }
   ],
   "source": [
    "for chunk in doc.noun_chunks:\n",
    "    print(chunk.text+\" - \"+chunk.root.text+\" - \"+chunk.root.dep_+\" - \"+chunk.root.head.text)"
   ]
  },
  {
   "cell_type": "code",
   "execution_count": 90,
   "id": "aa159c7a-517f-4fe6-a34c-3957c08f4900",
   "metadata": {},
   "outputs": [
    {
     "data": {
      "text/plain": [
       "3"
      ]
     },
     "execution_count": 90,
     "metadata": {},
     "output_type": "execute_result"
    }
   ],
   "source": [
    "len(list(doc.noun_chunks))"
   ]
  },
  {
   "cell_type": "code",
   "execution_count": 92,
   "id": "a44b79d9-4cdb-4573-a50d-023043737c40",
   "metadata": {},
   "outputs": [
    {
     "name": "stdout",
     "output_type": "stream",
     "text": [
      "[Autonomous cars, insurance liablity, maunfacturers]\n"
     ]
    }
   ],
   "source": [
    "print(list(doc.noun_chunks))"
   ]
  },
  {
   "cell_type": "code",
   "execution_count": 100,
   "id": "58d17aea-3b40-425e-b5de-01ff7b156ac0",
   "metadata": {},
   "outputs": [],
   "source": [
    "from spacy import displacy"
   ]
  },
  {
   "cell_type": "code",
   "execution_count": 102,
   "id": "84c61114-24ee-4d69-9766-e853a07e9f35",
   "metadata": {},
   "outputs": [],
   "source": [
    "doc=nlp(\"Over the last quater Apple sold nearly 20 thousand iPods for a profit of $6 million.\"\n",
    "        \"By contrast sony sold only 7 thousand walkman music players.\")"
   ]
  },
  {
   "cell_type": "code",
   "execution_count": 104,
   "id": "a60381c4-f511-4962-8d24-84ccd31767be",
   "metadata": {},
   "outputs": [
    {
     "data": {
      "text/html": [
       "<span class=\"tex2jax_ignore\"><div class=\"entities\" style=\"line-height: 2.5; direction: ltr\">Over \n",
       "<mark class=\"entity\" style=\"background: #bfe1d9; padding: 0.45em 0.6em; margin: 0 0.25em; line-height: 1; border-radius: 0.35em;\">\n",
       "    the last quater\n",
       "    <span style=\"font-size: 0.8em; font-weight: bold; line-height: 1; border-radius: 0.35em; vertical-align: middle; margin-left: 0.5rem\">DATE</span>\n",
       "</mark>\n",
       " \n",
       "<mark class=\"entity\" style=\"background: #7aecec; padding: 0.45em 0.6em; margin: 0 0.25em; line-height: 1; border-radius: 0.35em;\">\n",
       "    Apple\n",
       "    <span style=\"font-size: 0.8em; font-weight: bold; line-height: 1; border-radius: 0.35em; vertical-align: middle; margin-left: 0.5rem\">ORG</span>\n",
       "</mark>\n",
       " sold \n",
       "<mark class=\"entity\" style=\"background: #e4e7d2; padding: 0.45em 0.6em; margin: 0 0.25em; line-height: 1; border-radius: 0.35em;\">\n",
       "    nearly 20 thousand\n",
       "    <span style=\"font-size: 0.8em; font-weight: bold; line-height: 1; border-radius: 0.35em; vertical-align: middle; margin-left: 0.5rem\">CARDINAL</span>\n",
       "</mark>\n",
       " \n",
       "<mark class=\"entity\" style=\"background: #bfeeb7; padding: 0.45em 0.6em; margin: 0 0.25em; line-height: 1; border-radius: 0.35em;\">\n",
       "    iPods\n",
       "    <span style=\"font-size: 0.8em; font-weight: bold; line-height: 1; border-radius: 0.35em; vertical-align: middle; margin-left: 0.5rem\">PRODUCT</span>\n",
       "</mark>\n",
       " for a profit of \n",
       "<mark class=\"entity\" style=\"background: #e4e7d2; padding: 0.45em 0.6em; margin: 0 0.25em; line-height: 1; border-radius: 0.35em;\">\n",
       "    $6 million\n",
       "    <span style=\"font-size: 0.8em; font-weight: bold; line-height: 1; border-radius: 0.35em; vertical-align: middle; margin-left: 0.5rem\">MONEY</span>\n",
       "</mark>\n",
       ".By contrast \n",
       "<mark class=\"entity\" style=\"background: #7aecec; padding: 0.45em 0.6em; margin: 0 0.25em; line-height: 1; border-radius: 0.35em;\">\n",
       "    sony\n",
       "    <span style=\"font-size: 0.8em; font-weight: bold; line-height: 1; border-radius: 0.35em; vertical-align: middle; margin-left: 0.5rem\">ORG</span>\n",
       "</mark>\n",
       " sold \n",
       "<mark class=\"entity\" style=\"background: #e4e7d2; padding: 0.45em 0.6em; margin: 0 0.25em; line-height: 1; border-radius: 0.35em;\">\n",
       "    only 7 thousand\n",
       "    <span style=\"font-size: 0.8em; font-weight: bold; line-height: 1; border-radius: 0.35em; vertical-align: middle; margin-left: 0.5rem\">CARDINAL</span>\n",
       "</mark>\n",
       " walkman music players.</div></span>"
      ],
      "text/plain": [
       "<IPython.core.display.HTML object>"
      ]
     },
     "metadata": {},
     "output_type": "display_data"
    }
   ],
   "source": [
    "displacy.render(doc, style=\"ent\", jupyter=True)"
   ]
  },
  {
   "cell_type": "code",
   "execution_count": 120,
   "id": "68e8904a-1ff1-47d3-a10b-06fd42af14ce",
   "metadata": {},
   "outputs": [],
   "source": [
    "doc=nlp(\"Over the last quater Apple sold nearly 20 thousand iPods for a profit of $6 million.\"\n",
    "        \"By contrast, my kids sold a lot of lemonade.\")"
   ]
  },
  {
   "cell_type": "code",
   "execution_count": 122,
   "id": "5a19c72e-735a-4b1a-999e-605dde0eed2b",
   "metadata": {},
   "outputs": [
    {
     "data": {
      "text/html": [
       "<span class=\"tex2jax_ignore\"><div class=\"entities\" style=\"line-height: 2.5; direction: ltr\">Over \n",
       "<mark class=\"entity\" style=\"background: #bfe1d9; padding: 0.45em 0.6em; margin: 0 0.25em; line-height: 1; border-radius: 0.35em;\">\n",
       "    the last quater\n",
       "    <span style=\"font-size: 0.8em; font-weight: bold; line-height: 1; border-radius: 0.35em; vertical-align: middle; margin-left: 0.5rem\">DATE</span>\n",
       "</mark>\n",
       " \n",
       "<mark class=\"entity\" style=\"background: #7aecec; padding: 0.45em 0.6em; margin: 0 0.25em; line-height: 1; border-radius: 0.35em;\">\n",
       "    Apple\n",
       "    <span style=\"font-size: 0.8em; font-weight: bold; line-height: 1; border-radius: 0.35em; vertical-align: middle; margin-left: 0.5rem\">ORG</span>\n",
       "</mark>\n",
       " sold \n",
       "<mark class=\"entity\" style=\"background: #e4e7d2; padding: 0.45em 0.6em; margin: 0 0.25em; line-height: 1; border-radius: 0.35em;\">\n",
       "    nearly 20 thousand\n",
       "    <span style=\"font-size: 0.8em; font-weight: bold; line-height: 1; border-radius: 0.35em; vertical-align: middle; margin-left: 0.5rem\">CARDINAL</span>\n",
       "</mark>\n",
       " \n",
       "<mark class=\"entity\" style=\"background: #bfeeb7; padding: 0.45em 0.6em; margin: 0 0.25em; line-height: 1; border-radius: 0.35em;\">\n",
       "    iPods\n",
       "    <span style=\"font-size: 0.8em; font-weight: bold; line-height: 1; border-radius: 0.35em; vertical-align: middle; margin-left: 0.5rem\">PRODUCT</span>\n",
       "</mark>\n",
       " for a profit of \n",
       "<mark class=\"entity\" style=\"background: #e4e7d2; padding: 0.45em 0.6em; margin: 0 0.25em; line-height: 1; border-radius: 0.35em;\">\n",
       "    $6 million\n",
       "    <span style=\"font-size: 0.8em; font-weight: bold; line-height: 1; border-radius: 0.35em; vertical-align: middle; margin-left: 0.5rem\">MONEY</span>\n",
       "</mark>\n",
       ".</div></span>"
      ],
      "text/plain": [
       "<IPython.core.display.HTML object>"
      ]
     },
     "metadata": {},
     "output_type": "display_data"
    },
    {
     "data": {
      "text/html": [
       "<span class=\"tex2jax_ignore\"><div class=\"entities\" style=\"line-height: 2.5; direction: ltr\">By contrast,\n",
       "<mark class=\"entity\" style=\"background: #7aecec; padding: 0.45em 0.6em; margin: 0 0.25em; line-height: 1; border-radius: 0.35em;\">\n",
       "    sony\n",
       "    <span style=\"font-size: 0.8em; font-weight: bold; line-height: 1; border-radius: 0.35em; vertical-align: middle; margin-left: 0.5rem\">ORG</span>\n",
       "</mark>\n",
       " sold \n",
       "<mark class=\"entity\" style=\"background: #e4e7d2; padding: 0.45em 0.6em; margin: 0 0.25em; line-height: 1; border-radius: 0.35em;\">\n",
       "    only 7 thousand\n",
       "    <span style=\"font-size: 0.8em; font-weight: bold; line-height: 1; border-radius: 0.35em; vertical-align: middle; margin-left: 0.5rem\">CARDINAL</span>\n",
       "</mark>\n",
       " walkman music players.</div></span>"
      ],
      "text/plain": [
       "<IPython.core.display.HTML object>"
      ]
     },
     "metadata": {},
     "output_type": "display_data"
    }
   ],
   "source": [
    "for sent in doc.sents:\n",
    "    displacy.render(nlp(sent.text), style=\"ent\", jupyter=True)"
   ]
  },
  {
   "cell_type": "code",
   "execution_count": 124,
   "id": "e7f0f84f-f094-45c0-9c01-7845f73aaf45",
   "metadata": {},
   "outputs": [],
   "source": [
    "doc=nlp(\"Over the last quater Apple sold nearly 20 thousand iPods for a profit of $6 million.\"\n",
    "        \"By contrast, sony sold only 7 thousand walkman music players.\")"
   ]
  },
  {
   "cell_type": "code",
   "execution_count": 126,
   "id": "6593adb8-3fcb-4620-9b86-de27a49c18ac",
   "metadata": {},
   "outputs": [
    {
     "data": {
      "text/html": [
       "<span class=\"tex2jax_ignore\"><div class=\"entities\" style=\"line-height: 2.5; direction: ltr\">Over \n",
       "<mark class=\"entity\" style=\"background: #bfe1d9; padding: 0.45em 0.6em; margin: 0 0.25em; line-height: 1; border-radius: 0.35em;\">\n",
       "    the last quater\n",
       "    <span style=\"font-size: 0.8em; font-weight: bold; line-height: 1; border-radius: 0.35em; vertical-align: middle; margin-left: 0.5rem\">DATE</span>\n",
       "</mark>\n",
       " \n",
       "<mark class=\"entity\" style=\"background: #7aecec; padding: 0.45em 0.6em; margin: 0 0.25em; line-height: 1; border-radius: 0.35em;\">\n",
       "    Apple\n",
       "    <span style=\"font-size: 0.8em; font-weight: bold; line-height: 1; border-radius: 0.35em; vertical-align: middle; margin-left: 0.5rem\">ORG</span>\n",
       "</mark>\n",
       " sold \n",
       "<mark class=\"entity\" style=\"background: #e4e7d2; padding: 0.45em 0.6em; margin: 0 0.25em; line-height: 1; border-radius: 0.35em;\">\n",
       "    nearly 20 thousand\n",
       "    <span style=\"font-size: 0.8em; font-weight: bold; line-height: 1; border-radius: 0.35em; vertical-align: middle; margin-left: 0.5rem\">CARDINAL</span>\n",
       "</mark>\n",
       " \n",
       "<mark class=\"entity\" style=\"background: #bfeeb7; padding: 0.45em 0.6em; margin: 0 0.25em; line-height: 1; border-radius: 0.35em;\">\n",
       "    iPods\n",
       "    <span style=\"font-size: 0.8em; font-weight: bold; line-height: 1; border-radius: 0.35em; vertical-align: middle; margin-left: 0.5rem\">PRODUCT</span>\n",
       "</mark>\n",
       " for a profit of \n",
       "<mark class=\"entity\" style=\"background: #e4e7d2; padding: 0.45em 0.6em; margin: 0 0.25em; line-height: 1; border-radius: 0.35em;\">\n",
       "    $6 million\n",
       "    <span style=\"font-size: 0.8em; font-weight: bold; line-height: 1; border-radius: 0.35em; vertical-align: middle; margin-left: 0.5rem\">MONEY</span>\n",
       "</mark>\n",
       ".</div></span>"
      ],
      "text/plain": [
       "<IPython.core.display.HTML object>"
      ]
     },
     "metadata": {},
     "output_type": "display_data"
    },
    {
     "data": {
      "text/html": [
       "<span class=\"tex2jax_ignore\"><div class=\"entities\" style=\"line-height: 2.5; direction: ltr\">By contrast, \n",
       "<mark class=\"entity\" style=\"background: #7aecec; padding: 0.45em 0.6em; margin: 0 0.25em; line-height: 1; border-radius: 0.35em;\">\n",
       "    sony\n",
       "    <span style=\"font-size: 0.8em; font-weight: bold; line-height: 1; border-radius: 0.35em; vertical-align: middle; margin-left: 0.5rem\">ORG</span>\n",
       "</mark>\n",
       " sold \n",
       "<mark class=\"entity\" style=\"background: #e4e7d2; padding: 0.45em 0.6em; margin: 0 0.25em; line-height: 1; border-radius: 0.35em;\">\n",
       "    only 7 thousand\n",
       "    <span style=\"font-size: 0.8em; font-weight: bold; line-height: 1; border-radius: 0.35em; vertical-align: middle; margin-left: 0.5rem\">CARDINAL</span>\n",
       "</mark>\n",
       " walkman music players.</div></span>"
      ],
      "text/plain": [
       "<IPython.core.display.HTML object>"
      ]
     },
     "metadata": {},
     "output_type": "display_data"
    }
   ],
   "source": [
    "for sent in doc.sents:\n",
    "    displacy.render(nlp(sent.text), style=\"ent\", jupyter=True)"
   ]
  },
  {
   "cell_type": "code",
   "execution_count": null,
   "id": "d2b2f509-ffb8-4a43-8a69-b18628f61cbe",
   "metadata": {},
   "outputs": [],
   "source": []
  }
 ],
 "metadata": {
  "kernelspec": {
   "display_name": "Python 3 (ipykernel)",
   "language": "python",
   "name": "python3"
  },
  "language_info": {
   "codemirror_mode": {
    "name": "ipython",
    "version": 3
   },
   "file_extension": ".py",
   "mimetype": "text/x-python",
   "name": "python",
   "nbconvert_exporter": "python",
   "pygments_lexer": "ipython3",
   "version": "3.11.9"
  }
 },
 "nbformat": 4,
 "nbformat_minor": 5
}
