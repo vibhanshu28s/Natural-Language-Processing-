{
 "cells": [
  {
   "cell_type": "code",
   "execution_count": 73,
   "id": "b5fce7c9-ab82-4fb9-879d-56b5bc227742",
   "metadata": {},
   "outputs": [],
   "source": [
    "import spacy\n",
    "from collections import Counter\n",
    "from spacy import displacy"
   ]
  },
  {
   "cell_type": "code",
   "execution_count": 8,
   "id": "2357cdd3-928b-41b3-909c-f4dd7208d76b",
   "metadata": {},
   "outputs": [],
   "source": [
    "nlp=spacy.load(\"en_core_web_sm\")"
   ]
  },
  {
   "cell_type": "code",
   "execution_count": 46,
   "id": "4a2e4d54-def2-4581-9e54-55016d9b2537",
   "metadata": {},
   "outputs": [],
   "source": [
    "with open(\"peterrabbit.txt\", \"r\") as file:\n",
    "    text = file.read()"
   ]
  },
  {
   "cell_type": "raw",
   "id": "6d56e40f-870d-4cd4-9492-28076c82cdb9",
   "metadata": {},
   "source": [
    "1. Create a Doc object from the file peterrabbit.txt"
   ]
  },
  {
   "cell_type": "code",
   "execution_count": 53,
   "id": "e0d640fd-60bb-408c-82f3-af4557245746",
   "metadata": {},
   "outputs": [],
   "source": [
    "doc=nlp(text)"
   ]
  },
  {
   "cell_type": "raw",
   "id": "30a10306-dbfb-4ae7-978c-351038101d2e",
   "metadata": {},
   "source": [
    "2. For every token in the third sentence, print the token text, the POS tag, the fine-grained TAG tag, and the description of the \n",
    "fine-grained tag."
   ]
  },
  {
   "cell_type": "code",
   "execution_count": 101,
   "id": "5bffa0f3-8819-4ef1-9378-a772baca309d",
   "metadata": {},
   "outputs": [],
   "source": [
    "sentence=list(doc.sents)\n",
    "third_sentence=sentence[2]"
   ]
  },
  {
   "cell_type": "code",
   "execution_count": 59,
   "id": "09ff38c1-20cf-4e3f-b40c-e116e26aca05",
   "metadata": {},
   "outputs": [
    {
     "data": {
      "text/plain": [
       "They lived with their Mother in a sand-bank, underneath the root of a\n",
       "very big fir-tree.\n"
      ]
     },
     "execution_count": 59,
     "metadata": {},
     "output_type": "execute_result"
    }
   ],
   "source": [
    "third_sentence"
   ]
  },
  {
   "cell_type": "code",
   "execution_count": 65,
   "id": "4b8913b3-3cf2-424c-95ae-6ca9617664a8",
   "metadata": {},
   "outputs": [
    {
     "name": "stdout",
     "output_type": "stream",
     "text": [
      "Token: They\t POS: PRON\t TAG: PRP\t Description: pronoun, personal\n",
      "Token: lived\t POS: VERB\t TAG: VBD\t Description: verb, past tense\n",
      "Token: with\t POS: ADP\t TAG: IN\t Description: conjunction, subordinating or preposition\n",
      "Token: their\t POS: PRON\t TAG: PRP$\t Description: pronoun, possessive\n",
      "Token: Mother\t POS: NOUN\t TAG: NN\t Description: noun, singular or mass\n",
      "Token: in\t POS: ADP\t TAG: IN\t Description: conjunction, subordinating or preposition\n",
      "Token: a\t POS: DET\t TAG: DT\t Description: determiner\n",
      "Token: sand\t POS: NOUN\t TAG: NN\t Description: noun, singular or mass\n",
      "Token: -\t POS: PUNCT\t TAG: HYPH\t Description: punctuation mark, hyphen\n",
      "Token: bank\t POS: NOUN\t TAG: NN\t Description: noun, singular or mass\n",
      "Token: ,\t POS: PUNCT\t TAG: ,\t Description: punctuation mark, comma\n",
      "Token: underneath\t POS: ADP\t TAG: IN\t Description: conjunction, subordinating or preposition\n",
      "Token: the\t POS: DET\t TAG: DT\t Description: determiner\n",
      "Token: root\t POS: NOUN\t TAG: NN\t Description: noun, singular or mass\n",
      "Token: of\t POS: ADP\t TAG: IN\t Description: conjunction, subordinating or preposition\n",
      "Token: a\t POS: DET\t TAG: DT\t Description: determiner\n",
      "Token: \n",
      "\t POS: SPACE\t TAG: _SP\t Description: whitespace\n",
      "Token: very\t POS: ADV\t TAG: RB\t Description: adverb\n",
      "Token: big\t POS: ADJ\t TAG: JJ\t Description: adjective (English), other noun-modifier (Chinese)\n",
      "Token: fir\t POS: NOUN\t TAG: NN\t Description: noun, singular or mass\n",
      "Token: -\t POS: PUNCT\t TAG: HYPH\t Description: punctuation mark, hyphen\n",
      "Token: tree\t POS: NOUN\t TAG: NN\t Description: noun, singular or mass\n",
      "Token: .\t POS: PUNCT\t TAG: .\t Description: punctuation mark, sentence closer\n",
      "Token: \n",
      "\n",
      "\t POS: SPACE\t TAG: _SP\t Description: whitespace\n"
     ]
    }
   ],
   "source": [
    "for token in third_sentence:\n",
    "    print(f\"Token: {token.text}\\t POS: {token.pos_}\\t TAG: {token.tag_}\\t Description: {spacy.explain(token.tag_)}\")"
   ]
  },
  {
   "cell_type": "raw",
   "id": "74f9324e-f20a-4f50-8154-5392df53e4ac",
   "metadata": {},
   "source": [
    "3. Provide a frequency list of POS tags from the entire document"
   ]
  },
  {
   "cell_type": "code",
   "execution_count": 69,
   "id": "87a381f8-6bbd-4290-b3eb-bdb55813655c",
   "metadata": {},
   "outputs": [
    {
     "name": "stdout",
     "output_type": "stream",
     "text": [
      "POS: DET, Count: 90\n",
      "POS: PROPN, Count: 74\n",
      "POS: ADP, Count: 125\n",
      "POS: PUNCT, Count: 171\n",
      "POS: NUM, Count: 9\n",
      "POS: SPACE, Count: 99\n",
      "POS: ADV, Count: 63\n",
      "POS: SCONJ, Count: 19\n",
      "POS: NOUN, Count: 172\n",
      "POS: PRON, Count: 110\n",
      "POS: VERB, Count: 135\n",
      "POS: ADJ, Count: 53\n",
      "POS: CCONJ, Count: 61\n",
      "POS: AUX, Count: 49\n",
      "POS: PART, Count: 28\n"
     ]
    }
   ],
   "source": [
    "pos_counts = Counter(token.pos_ for token in doc)\n",
    "for pos, count in pos_counts.items():\n",
    "    print(f\"POS: {pos}, Count: {count}\")"
   ]
  },
  {
   "cell_type": "raw",
   "id": "a402570d-4841-49ab-9854-aff28ec4deb8",
   "metadata": {},
   "source": [
    "4. CHALLENGE: What percentage of tokens are nouns?"
   ]
  },
  {
   "cell_type": "code",
   "execution_count": 71,
   "id": "792623ac-b4df-4617-abad-831591472d55",
   "metadata": {},
   "outputs": [
    {
     "name": "stdout",
     "output_type": "stream",
     "text": [
      "Percentage of nouns: 19.55%\n"
     ]
    }
   ],
   "source": [
    "total_tokens = 0\n",
    "noun_tokens = 0\n",
    "\n",
    "for token in doc:\n",
    "    total_tokens += 1\n",
    "    if token.pos_ in [\"NOUN\", \"PROPN\"]:\n",
    "        noun_tokens += 1\n",
    "\n",
    "noun_percentage = (noun_tokens / total_tokens) * 100 if total_tokens > 0 else 0\n",
    "\n",
    "print(f\"Percentage of nouns: {noun_percentage:.2f}%\")"
   ]
  },
  {
   "cell_type": "raw",
   "id": "817772c9-8a42-444f-be90-46f179994cd5",
   "metadata": {},
   "source": [
    "5. Display the Dependency Parse for the third sentence."
   ]
  },
  {
   "cell_type": "code",
   "execution_count": 75,
   "id": "cdf96c38-8cb9-4281-b539-64f290866be6",
   "metadata": {},
   "outputs": [
    {
     "name": "stdout",
     "output_type": "stream",
     "text": [
      "Dependency Parse (Text Format):\n",
      "Token: They, Head: lived, Dependency: nsubj\n",
      "Token: lived, Head: lived, Dependency: ROOT\n",
      "Token: with, Head: lived, Dependency: prep\n",
      "Token: their, Head: Mother, Dependency: poss\n",
      "Token: Mother, Head: with, Dependency: pobj\n",
      "Token: in, Head: lived, Dependency: prep\n",
      "Token: a, Head: bank, Dependency: det\n",
      "Token: sand, Head: bank, Dependency: compound\n",
      "Token: -, Head: bank, Dependency: punct\n",
      "Token: bank, Head: in, Dependency: pobj\n",
      "Token: ,, Head: lived, Dependency: punct\n",
      "Token: underneath, Head: lived, Dependency: prep\n",
      "Token: the, Head: root, Dependency: det\n",
      "Token: root, Head: underneath, Dependency: pobj\n",
      "Token: of, Head: root, Dependency: prep\n",
      "Token: a, Head: tree, Dependency: det\n",
      "Token: \n",
      ", Head: a, Dependency: dep\n",
      "Token: very, Head: big, Dependency: advmod\n",
      "Token: big, Head: tree, Dependency: amod\n",
      "Token: fir, Head: tree, Dependency: compound\n",
      "Token: -, Head: tree, Dependency: punct\n",
      "Token: tree, Head: of, Dependency: pobj\n",
      "Token: ., Head: lived, Dependency: punct\n",
      "Token: \n",
      "\n",
      ", Head: ., Dependency: dep\n",
      "\n",
      "Dependency Parse (Graphical Format):\n"
     ]
    },
    {
     "data": {
      "text/html": [
       "<span class=\"tex2jax_ignore\"><svg xmlns=\"http://www.w3.org/2000/svg\" xmlns:xlink=\"http://www.w3.org/1999/xlink\" xml:lang=\"en\" id=\"1e4d665fea8c4374bb6b90f0ae1972e9-0\" class=\"displacy\" width=\"3550\" height=\"574.5\" direction=\"ltr\" style=\"max-width: none; height: 574.5px; color: #000000; background: #ffffff; font-family: Arial; direction: ltr\">\n",
       "<text class=\"displacy-token\" fill=\"currentColor\" text-anchor=\"middle\" y=\"484.5\">\n",
       "    <tspan class=\"displacy-word\" fill=\"currentColor\" x=\"50\">They</tspan>\n",
       "    <tspan class=\"displacy-tag\" dy=\"2em\" fill=\"currentColor\" x=\"50\">PRON</tspan>\n",
       "</text>\n",
       "\n",
       "<text class=\"displacy-token\" fill=\"currentColor\" text-anchor=\"middle\" y=\"484.5\">\n",
       "    <tspan class=\"displacy-word\" fill=\"currentColor\" x=\"225\">lived</tspan>\n",
       "    <tspan class=\"displacy-tag\" dy=\"2em\" fill=\"currentColor\" x=\"225\">VERB</tspan>\n",
       "</text>\n",
       "\n",
       "<text class=\"displacy-token\" fill=\"currentColor\" text-anchor=\"middle\" y=\"484.5\">\n",
       "    <tspan class=\"displacy-word\" fill=\"currentColor\" x=\"400\">with</tspan>\n",
       "    <tspan class=\"displacy-tag\" dy=\"2em\" fill=\"currentColor\" x=\"400\">ADP</tspan>\n",
       "</text>\n",
       "\n",
       "<text class=\"displacy-token\" fill=\"currentColor\" text-anchor=\"middle\" y=\"484.5\">\n",
       "    <tspan class=\"displacy-word\" fill=\"currentColor\" x=\"575\">their</tspan>\n",
       "    <tspan class=\"displacy-tag\" dy=\"2em\" fill=\"currentColor\" x=\"575\">PRON</tspan>\n",
       "</text>\n",
       "\n",
       "<text class=\"displacy-token\" fill=\"currentColor\" text-anchor=\"middle\" y=\"484.5\">\n",
       "    <tspan class=\"displacy-word\" fill=\"currentColor\" x=\"750\">Mother</tspan>\n",
       "    <tspan class=\"displacy-tag\" dy=\"2em\" fill=\"currentColor\" x=\"750\">NOUN</tspan>\n",
       "</text>\n",
       "\n",
       "<text class=\"displacy-token\" fill=\"currentColor\" text-anchor=\"middle\" y=\"484.5\">\n",
       "    <tspan class=\"displacy-word\" fill=\"currentColor\" x=\"925\">in</tspan>\n",
       "    <tspan class=\"displacy-tag\" dy=\"2em\" fill=\"currentColor\" x=\"925\">ADP</tspan>\n",
       "</text>\n",
       "\n",
       "<text class=\"displacy-token\" fill=\"currentColor\" text-anchor=\"middle\" y=\"484.5\">\n",
       "    <tspan class=\"displacy-word\" fill=\"currentColor\" x=\"1100\">a</tspan>\n",
       "    <tspan class=\"displacy-tag\" dy=\"2em\" fill=\"currentColor\" x=\"1100\">DET</tspan>\n",
       "</text>\n",
       "\n",
       "<text class=\"displacy-token\" fill=\"currentColor\" text-anchor=\"middle\" y=\"484.5\">\n",
       "    <tspan class=\"displacy-word\" fill=\"currentColor\" x=\"1275\">sand-</tspan>\n",
       "    <tspan class=\"displacy-tag\" dy=\"2em\" fill=\"currentColor\" x=\"1275\">NOUN</tspan>\n",
       "</text>\n",
       "\n",
       "<text class=\"displacy-token\" fill=\"currentColor\" text-anchor=\"middle\" y=\"484.5\">\n",
       "    <tspan class=\"displacy-word\" fill=\"currentColor\" x=\"1450\">bank,</tspan>\n",
       "    <tspan class=\"displacy-tag\" dy=\"2em\" fill=\"currentColor\" x=\"1450\">NOUN</tspan>\n",
       "</text>\n",
       "\n",
       "<text class=\"displacy-token\" fill=\"currentColor\" text-anchor=\"middle\" y=\"484.5\">\n",
       "    <tspan class=\"displacy-word\" fill=\"currentColor\" x=\"1625\">underneath</tspan>\n",
       "    <tspan class=\"displacy-tag\" dy=\"2em\" fill=\"currentColor\" x=\"1625\">ADP</tspan>\n",
       "</text>\n",
       "\n",
       "<text class=\"displacy-token\" fill=\"currentColor\" text-anchor=\"middle\" y=\"484.5\">\n",
       "    <tspan class=\"displacy-word\" fill=\"currentColor\" x=\"1800\">the</tspan>\n",
       "    <tspan class=\"displacy-tag\" dy=\"2em\" fill=\"currentColor\" x=\"1800\">DET</tspan>\n",
       "</text>\n",
       "\n",
       "<text class=\"displacy-token\" fill=\"currentColor\" text-anchor=\"middle\" y=\"484.5\">\n",
       "    <tspan class=\"displacy-word\" fill=\"currentColor\" x=\"1975\">root</tspan>\n",
       "    <tspan class=\"displacy-tag\" dy=\"2em\" fill=\"currentColor\" x=\"1975\">NOUN</tspan>\n",
       "</text>\n",
       "\n",
       "<text class=\"displacy-token\" fill=\"currentColor\" text-anchor=\"middle\" y=\"484.5\">\n",
       "    <tspan class=\"displacy-word\" fill=\"currentColor\" x=\"2150\">of</tspan>\n",
       "    <tspan class=\"displacy-tag\" dy=\"2em\" fill=\"currentColor\" x=\"2150\">ADP</tspan>\n",
       "</text>\n",
       "\n",
       "<text class=\"displacy-token\" fill=\"currentColor\" text-anchor=\"middle\" y=\"484.5\">\n",
       "    <tspan class=\"displacy-word\" fill=\"currentColor\" x=\"2325\">a</tspan>\n",
       "    <tspan class=\"displacy-tag\" dy=\"2em\" fill=\"currentColor\" x=\"2325\">DET</tspan>\n",
       "</text>\n",
       "\n",
       "<text class=\"displacy-token\" fill=\"currentColor\" text-anchor=\"middle\" y=\"484.5\">\n",
       "    <tspan class=\"displacy-word\" fill=\"currentColor\" x=\"2500\">\n",
       "</tspan>\n",
       "    <tspan class=\"displacy-tag\" dy=\"2em\" fill=\"currentColor\" x=\"2500\">SPACE</tspan>\n",
       "</text>\n",
       "\n",
       "<text class=\"displacy-token\" fill=\"currentColor\" text-anchor=\"middle\" y=\"484.5\">\n",
       "    <tspan class=\"displacy-word\" fill=\"currentColor\" x=\"2675\">very</tspan>\n",
       "    <tspan class=\"displacy-tag\" dy=\"2em\" fill=\"currentColor\" x=\"2675\">ADV</tspan>\n",
       "</text>\n",
       "\n",
       "<text class=\"displacy-token\" fill=\"currentColor\" text-anchor=\"middle\" y=\"484.5\">\n",
       "    <tspan class=\"displacy-word\" fill=\"currentColor\" x=\"2850\">big</tspan>\n",
       "    <tspan class=\"displacy-tag\" dy=\"2em\" fill=\"currentColor\" x=\"2850\">ADJ</tspan>\n",
       "</text>\n",
       "\n",
       "<text class=\"displacy-token\" fill=\"currentColor\" text-anchor=\"middle\" y=\"484.5\">\n",
       "    <tspan class=\"displacy-word\" fill=\"currentColor\" x=\"3025\">fir-</tspan>\n",
       "    <tspan class=\"displacy-tag\" dy=\"2em\" fill=\"currentColor\" x=\"3025\">NOUN</tspan>\n",
       "</text>\n",
       "\n",
       "<text class=\"displacy-token\" fill=\"currentColor\" text-anchor=\"middle\" y=\"484.5\">\n",
       "    <tspan class=\"displacy-word\" fill=\"currentColor\" x=\"3200\">tree.</tspan>\n",
       "    <tspan class=\"displacy-tag\" dy=\"2em\" fill=\"currentColor\" x=\"3200\">PUNCT</tspan>\n",
       "</text>\n",
       "\n",
       "<text class=\"displacy-token\" fill=\"currentColor\" text-anchor=\"middle\" y=\"484.5\">\n",
       "    <tspan class=\"displacy-word\" fill=\"currentColor\" x=\"3375\">\n",
       "\n",
       "</tspan>\n",
       "    <tspan class=\"displacy-tag\" dy=\"2em\" fill=\"currentColor\" x=\"3375\">SPACE</tspan>\n",
       "</text>\n",
       "\n",
       "<g class=\"displacy-arrow\">\n",
       "    <path class=\"displacy-arc\" id=\"arrow-1e4d665fea8c4374bb6b90f0ae1972e9-0-0\" stroke-width=\"2px\" d=\"M70,439.5 C70,352.0 205.0,352.0 205.0,439.5\" fill=\"none\" stroke=\"currentColor\"/>\n",
       "    <text dy=\"1.25em\" style=\"font-size: 0.8em; letter-spacing: 1px\">\n",
       "        <textPath xlink:href=\"#arrow-1e4d665fea8c4374bb6b90f0ae1972e9-0-0\" class=\"displacy-label\" startOffset=\"50%\" side=\"left\" fill=\"currentColor\" text-anchor=\"middle\">nsubj</textPath>\n",
       "    </text>\n",
       "    <path class=\"displacy-arrowhead\" d=\"M70,441.5 L62,429.5 78,429.5\" fill=\"currentColor\"/>\n",
       "</g>\n",
       "\n",
       "<g class=\"displacy-arrow\">\n",
       "    <path class=\"displacy-arc\" id=\"arrow-1e4d665fea8c4374bb6b90f0ae1972e9-0-1\" stroke-width=\"2px\" d=\"M245,439.5 C245,352.0 380.0,352.0 380.0,439.5\" fill=\"none\" stroke=\"currentColor\"/>\n",
       "    <text dy=\"1.25em\" style=\"font-size: 0.8em; letter-spacing: 1px\">\n",
       "        <textPath xlink:href=\"#arrow-1e4d665fea8c4374bb6b90f0ae1972e9-0-1\" class=\"displacy-label\" startOffset=\"50%\" side=\"left\" fill=\"currentColor\" text-anchor=\"middle\">prep</textPath>\n",
       "    </text>\n",
       "    <path class=\"displacy-arrowhead\" d=\"M380.0,441.5 L388.0,429.5 372.0,429.5\" fill=\"currentColor\"/>\n",
       "</g>\n",
       "\n",
       "<g class=\"displacy-arrow\">\n",
       "    <path class=\"displacy-arc\" id=\"arrow-1e4d665fea8c4374bb6b90f0ae1972e9-0-2\" stroke-width=\"2px\" d=\"M595,439.5 C595,352.0 730.0,352.0 730.0,439.5\" fill=\"none\" stroke=\"currentColor\"/>\n",
       "    <text dy=\"1.25em\" style=\"font-size: 0.8em; letter-spacing: 1px\">\n",
       "        <textPath xlink:href=\"#arrow-1e4d665fea8c4374bb6b90f0ae1972e9-0-2\" class=\"displacy-label\" startOffset=\"50%\" side=\"left\" fill=\"currentColor\" text-anchor=\"middle\">poss</textPath>\n",
       "    </text>\n",
       "    <path class=\"displacy-arrowhead\" d=\"M595,441.5 L587,429.5 603,429.5\" fill=\"currentColor\"/>\n",
       "</g>\n",
       "\n",
       "<g class=\"displacy-arrow\">\n",
       "    <path class=\"displacy-arc\" id=\"arrow-1e4d665fea8c4374bb6b90f0ae1972e9-0-3\" stroke-width=\"2px\" d=\"M420,439.5 C420,264.5 735.0,264.5 735.0,439.5\" fill=\"none\" stroke=\"currentColor\"/>\n",
       "    <text dy=\"1.25em\" style=\"font-size: 0.8em; letter-spacing: 1px\">\n",
       "        <textPath xlink:href=\"#arrow-1e4d665fea8c4374bb6b90f0ae1972e9-0-3\" class=\"displacy-label\" startOffset=\"50%\" side=\"left\" fill=\"currentColor\" text-anchor=\"middle\">pobj</textPath>\n",
       "    </text>\n",
       "    <path class=\"displacy-arrowhead\" d=\"M735.0,441.5 L743.0,429.5 727.0,429.5\" fill=\"currentColor\"/>\n",
       "</g>\n",
       "\n",
       "<g class=\"displacy-arrow\">\n",
       "    <path class=\"displacy-arc\" id=\"arrow-1e4d665fea8c4374bb6b90f0ae1972e9-0-4\" stroke-width=\"2px\" d=\"M245,439.5 C245,177.0 915.0,177.0 915.0,439.5\" fill=\"none\" stroke=\"currentColor\"/>\n",
       "    <text dy=\"1.25em\" style=\"font-size: 0.8em; letter-spacing: 1px\">\n",
       "        <textPath xlink:href=\"#arrow-1e4d665fea8c4374bb6b90f0ae1972e9-0-4\" class=\"displacy-label\" startOffset=\"50%\" side=\"left\" fill=\"currentColor\" text-anchor=\"middle\">prep</textPath>\n",
       "    </text>\n",
       "    <path class=\"displacy-arrowhead\" d=\"M915.0,441.5 L923.0,429.5 907.0,429.5\" fill=\"currentColor\"/>\n",
       "</g>\n",
       "\n",
       "<g class=\"displacy-arrow\">\n",
       "    <path class=\"displacy-arc\" id=\"arrow-1e4d665fea8c4374bb6b90f0ae1972e9-0-5\" stroke-width=\"2px\" d=\"M1120,439.5 C1120,264.5 1435.0,264.5 1435.0,439.5\" fill=\"none\" stroke=\"currentColor\"/>\n",
       "    <text dy=\"1.25em\" style=\"font-size: 0.8em; letter-spacing: 1px\">\n",
       "        <textPath xlink:href=\"#arrow-1e4d665fea8c4374bb6b90f0ae1972e9-0-5\" class=\"displacy-label\" startOffset=\"50%\" side=\"left\" fill=\"currentColor\" text-anchor=\"middle\">det</textPath>\n",
       "    </text>\n",
       "    <path class=\"displacy-arrowhead\" d=\"M1120,441.5 L1112,429.5 1128,429.5\" fill=\"currentColor\"/>\n",
       "</g>\n",
       "\n",
       "<g class=\"displacy-arrow\">\n",
       "    <path class=\"displacy-arc\" id=\"arrow-1e4d665fea8c4374bb6b90f0ae1972e9-0-6\" stroke-width=\"2px\" d=\"M1295,439.5 C1295,352.0 1430.0,352.0 1430.0,439.5\" fill=\"none\" stroke=\"currentColor\"/>\n",
       "    <text dy=\"1.25em\" style=\"font-size: 0.8em; letter-spacing: 1px\">\n",
       "        <textPath xlink:href=\"#arrow-1e4d665fea8c4374bb6b90f0ae1972e9-0-6\" class=\"displacy-label\" startOffset=\"50%\" side=\"left\" fill=\"currentColor\" text-anchor=\"middle\">compound</textPath>\n",
       "    </text>\n",
       "    <path class=\"displacy-arrowhead\" d=\"M1295,441.5 L1287,429.5 1303,429.5\" fill=\"currentColor\"/>\n",
       "</g>\n",
       "\n",
       "<g class=\"displacy-arrow\">\n",
       "    <path class=\"displacy-arc\" id=\"arrow-1e4d665fea8c4374bb6b90f0ae1972e9-0-7\" stroke-width=\"2px\" d=\"M945,439.5 C945,177.0 1440.0,177.0 1440.0,439.5\" fill=\"none\" stroke=\"currentColor\"/>\n",
       "    <text dy=\"1.25em\" style=\"font-size: 0.8em; letter-spacing: 1px\">\n",
       "        <textPath xlink:href=\"#arrow-1e4d665fea8c4374bb6b90f0ae1972e9-0-7\" class=\"displacy-label\" startOffset=\"50%\" side=\"left\" fill=\"currentColor\" text-anchor=\"middle\">pobj</textPath>\n",
       "    </text>\n",
       "    <path class=\"displacy-arrowhead\" d=\"M1440.0,441.5 L1448.0,429.5 1432.0,429.5\" fill=\"currentColor\"/>\n",
       "</g>\n",
       "\n",
       "<g class=\"displacy-arrow\">\n",
       "    <path class=\"displacy-arc\" id=\"arrow-1e4d665fea8c4374bb6b90f0ae1972e9-0-8\" stroke-width=\"2px\" d=\"M245,439.5 C245,89.5 1620.0,89.5 1620.0,439.5\" fill=\"none\" stroke=\"currentColor\"/>\n",
       "    <text dy=\"1.25em\" style=\"font-size: 0.8em; letter-spacing: 1px\">\n",
       "        <textPath xlink:href=\"#arrow-1e4d665fea8c4374bb6b90f0ae1972e9-0-8\" class=\"displacy-label\" startOffset=\"50%\" side=\"left\" fill=\"currentColor\" text-anchor=\"middle\">prep</textPath>\n",
       "    </text>\n",
       "    <path class=\"displacy-arrowhead\" d=\"M1620.0,441.5 L1628.0,429.5 1612.0,429.5\" fill=\"currentColor\"/>\n",
       "</g>\n",
       "\n",
       "<g class=\"displacy-arrow\">\n",
       "    <path class=\"displacy-arc\" id=\"arrow-1e4d665fea8c4374bb6b90f0ae1972e9-0-9\" stroke-width=\"2px\" d=\"M1820,439.5 C1820,352.0 1955.0,352.0 1955.0,439.5\" fill=\"none\" stroke=\"currentColor\"/>\n",
       "    <text dy=\"1.25em\" style=\"font-size: 0.8em; letter-spacing: 1px\">\n",
       "        <textPath xlink:href=\"#arrow-1e4d665fea8c4374bb6b90f0ae1972e9-0-9\" class=\"displacy-label\" startOffset=\"50%\" side=\"left\" fill=\"currentColor\" text-anchor=\"middle\">det</textPath>\n",
       "    </text>\n",
       "    <path class=\"displacy-arrowhead\" d=\"M1820,441.5 L1812,429.5 1828,429.5\" fill=\"currentColor\"/>\n",
       "</g>\n",
       "\n",
       "<g class=\"displacy-arrow\">\n",
       "    <path class=\"displacy-arc\" id=\"arrow-1e4d665fea8c4374bb6b90f0ae1972e9-0-10\" stroke-width=\"2px\" d=\"M1645,439.5 C1645,264.5 1960.0,264.5 1960.0,439.5\" fill=\"none\" stroke=\"currentColor\"/>\n",
       "    <text dy=\"1.25em\" style=\"font-size: 0.8em; letter-spacing: 1px\">\n",
       "        <textPath xlink:href=\"#arrow-1e4d665fea8c4374bb6b90f0ae1972e9-0-10\" class=\"displacy-label\" startOffset=\"50%\" side=\"left\" fill=\"currentColor\" text-anchor=\"middle\">pobj</textPath>\n",
       "    </text>\n",
       "    <path class=\"displacy-arrowhead\" d=\"M1960.0,441.5 L1968.0,429.5 1952.0,429.5\" fill=\"currentColor\"/>\n",
       "</g>\n",
       "\n",
       "<g class=\"displacy-arrow\">\n",
       "    <path class=\"displacy-arc\" id=\"arrow-1e4d665fea8c4374bb6b90f0ae1972e9-0-11\" stroke-width=\"2px\" d=\"M1995,439.5 C1995,352.0 2130.0,352.0 2130.0,439.5\" fill=\"none\" stroke=\"currentColor\"/>\n",
       "    <text dy=\"1.25em\" style=\"font-size: 0.8em; letter-spacing: 1px\">\n",
       "        <textPath xlink:href=\"#arrow-1e4d665fea8c4374bb6b90f0ae1972e9-0-11\" class=\"displacy-label\" startOffset=\"50%\" side=\"left\" fill=\"currentColor\" text-anchor=\"middle\">prep</textPath>\n",
       "    </text>\n",
       "    <path class=\"displacy-arrowhead\" d=\"M2130.0,441.5 L2138.0,429.5 2122.0,429.5\" fill=\"currentColor\"/>\n",
       "</g>\n",
       "\n",
       "<g class=\"displacy-arrow\">\n",
       "    <path class=\"displacy-arc\" id=\"arrow-1e4d665fea8c4374bb6b90f0ae1972e9-0-12\" stroke-width=\"2px\" d=\"M2345,439.5 C2345,177.0 3190.0,177.0 3190.0,439.5\" fill=\"none\" stroke=\"currentColor\"/>\n",
       "    <text dy=\"1.25em\" style=\"font-size: 0.8em; letter-spacing: 1px\">\n",
       "        <textPath xlink:href=\"#arrow-1e4d665fea8c4374bb6b90f0ae1972e9-0-12\" class=\"displacy-label\" startOffset=\"50%\" side=\"left\" fill=\"currentColor\" text-anchor=\"middle\">det</textPath>\n",
       "    </text>\n",
       "    <path class=\"displacy-arrowhead\" d=\"M2345,441.5 L2337,429.5 2353,429.5\" fill=\"currentColor\"/>\n",
       "</g>\n",
       "\n",
       "<g class=\"displacy-arrow\">\n",
       "    <path class=\"displacy-arc\" id=\"arrow-1e4d665fea8c4374bb6b90f0ae1972e9-0-13\" stroke-width=\"2px\" d=\"M2345,439.5 C2345,352.0 2480.0,352.0 2480.0,439.5\" fill=\"none\" stroke=\"currentColor\"/>\n",
       "    <text dy=\"1.25em\" style=\"font-size: 0.8em; letter-spacing: 1px\">\n",
       "        <textPath xlink:href=\"#arrow-1e4d665fea8c4374bb6b90f0ae1972e9-0-13\" class=\"displacy-label\" startOffset=\"50%\" side=\"left\" fill=\"currentColor\" text-anchor=\"middle\">dep</textPath>\n",
       "    </text>\n",
       "    <path class=\"displacy-arrowhead\" d=\"M2480.0,441.5 L2488.0,429.5 2472.0,429.5\" fill=\"currentColor\"/>\n",
       "</g>\n",
       "\n",
       "<g class=\"displacy-arrow\">\n",
       "    <path class=\"displacy-arc\" id=\"arrow-1e4d665fea8c4374bb6b90f0ae1972e9-0-14\" stroke-width=\"2px\" d=\"M2695,439.5 C2695,352.0 2830.0,352.0 2830.0,439.5\" fill=\"none\" stroke=\"currentColor\"/>\n",
       "    <text dy=\"1.25em\" style=\"font-size: 0.8em; letter-spacing: 1px\">\n",
       "        <textPath xlink:href=\"#arrow-1e4d665fea8c4374bb6b90f0ae1972e9-0-14\" class=\"displacy-label\" startOffset=\"50%\" side=\"left\" fill=\"currentColor\" text-anchor=\"middle\">advmod</textPath>\n",
       "    </text>\n",
       "    <path class=\"displacy-arrowhead\" d=\"M2695,441.5 L2687,429.5 2703,429.5\" fill=\"currentColor\"/>\n",
       "</g>\n",
       "\n",
       "<g class=\"displacy-arrow\">\n",
       "    <path class=\"displacy-arc\" id=\"arrow-1e4d665fea8c4374bb6b90f0ae1972e9-0-15\" stroke-width=\"2px\" d=\"M2870,439.5 C2870,264.5 3185.0,264.5 3185.0,439.5\" fill=\"none\" stroke=\"currentColor\"/>\n",
       "    <text dy=\"1.25em\" style=\"font-size: 0.8em; letter-spacing: 1px\">\n",
       "        <textPath xlink:href=\"#arrow-1e4d665fea8c4374bb6b90f0ae1972e9-0-15\" class=\"displacy-label\" startOffset=\"50%\" side=\"left\" fill=\"currentColor\" text-anchor=\"middle\">amod</textPath>\n",
       "    </text>\n",
       "    <path class=\"displacy-arrowhead\" d=\"M2870,441.5 L2862,429.5 2878,429.5\" fill=\"currentColor\"/>\n",
       "</g>\n",
       "\n",
       "<g class=\"displacy-arrow\">\n",
       "    <path class=\"displacy-arc\" id=\"arrow-1e4d665fea8c4374bb6b90f0ae1972e9-0-16\" stroke-width=\"2px\" d=\"M3045,439.5 C3045,352.0 3180.0,352.0 3180.0,439.5\" fill=\"none\" stroke=\"currentColor\"/>\n",
       "    <text dy=\"1.25em\" style=\"font-size: 0.8em; letter-spacing: 1px\">\n",
       "        <textPath xlink:href=\"#arrow-1e4d665fea8c4374bb6b90f0ae1972e9-0-16\" class=\"displacy-label\" startOffset=\"50%\" side=\"left\" fill=\"currentColor\" text-anchor=\"middle\">compound</textPath>\n",
       "    </text>\n",
       "    <path class=\"displacy-arrowhead\" d=\"M3045,441.5 L3037,429.5 3053,429.5\" fill=\"currentColor\"/>\n",
       "</g>\n",
       "\n",
       "<g class=\"displacy-arrow\">\n",
       "    <path class=\"displacy-arc\" id=\"arrow-1e4d665fea8c4374bb6b90f0ae1972e9-0-17\" stroke-width=\"2px\" d=\"M245,439.5 C245,2.0 3200.0,2.0 3200.0,439.5\" fill=\"none\" stroke=\"currentColor\"/>\n",
       "    <text dy=\"1.25em\" style=\"font-size: 0.8em; letter-spacing: 1px\">\n",
       "        <textPath xlink:href=\"#arrow-1e4d665fea8c4374bb6b90f0ae1972e9-0-17\" class=\"displacy-label\" startOffset=\"50%\" side=\"left\" fill=\"currentColor\" text-anchor=\"middle\">punct</textPath>\n",
       "    </text>\n",
       "    <path class=\"displacy-arrowhead\" d=\"M3200.0,441.5 L3208.0,429.5 3192.0,429.5\" fill=\"currentColor\"/>\n",
       "</g>\n",
       "\n",
       "<g class=\"displacy-arrow\">\n",
       "    <path class=\"displacy-arc\" id=\"arrow-1e4d665fea8c4374bb6b90f0ae1972e9-0-18\" stroke-width=\"2px\" d=\"M3220,439.5 C3220,352.0 3355.0,352.0 3355.0,439.5\" fill=\"none\" stroke=\"currentColor\"/>\n",
       "    <text dy=\"1.25em\" style=\"font-size: 0.8em; letter-spacing: 1px\">\n",
       "        <textPath xlink:href=\"#arrow-1e4d665fea8c4374bb6b90f0ae1972e9-0-18\" class=\"displacy-label\" startOffset=\"50%\" side=\"left\" fill=\"currentColor\" text-anchor=\"middle\">dep</textPath>\n",
       "    </text>\n",
       "    <path class=\"displacy-arrowhead\" d=\"M3355.0,441.5 L3363.0,429.5 3347.0,429.5\" fill=\"currentColor\"/>\n",
       "</g>\n",
       "</svg></span>"
      ],
      "text/plain": [
       "<IPython.core.display.HTML object>"
      ]
     },
     "metadata": {},
     "output_type": "display_data"
    }
   ],
   "source": [
    "print(\"Dependency Parse (Text Format):\")\n",
    "for token in third_sentence:\n",
    "    print(f\"Token: {token.text}, Head: {token.head.text}, Dependency: {token.dep_}\")\n",
    "\n",
    "# Display the dependency parse in graphical format\n",
    "print(\"\\nDependency Parse (Graphical Format):\")\n",
    "displacy.render(third_sentence, style=\"dep\", jupyter=True)"
   ]
  },
  {
   "cell_type": "raw",
   "id": "e094cc0e-0778-4c13-bd41-2e3064cbe69c",
   "metadata": {},
   "source": [
    "6. Show the first two named entities from Beatrix Potter's The Tale of Peter Rabbit"
   ]
  },
  {
   "cell_type": "code",
   "execution_count": 77,
   "id": "3e018de9-0202-4e71-8752-32224f00fe78",
   "metadata": {},
   "outputs": [
    {
     "name": "stdout",
     "output_type": "stream",
     "text": [
      "Entity 1: Text = 'The Tale of Peter Rabbit', Label = 'WORK_OF_ART'\n",
      "Entity 2: Text = 'Beatrix Potter', Label = 'PERSON'\n"
     ]
    }
   ],
   "source": [
    "named_entities = []\n",
    "\n",
    "# Iterate over the entities in the document and add to the list\n",
    "for ent in doc.ents:\n",
    "    named_entities.append((ent.text, ent.label_))\n",
    "    # Break after we collect the first two named entities\n",
    "    if len(named_entities) == 2:\n",
    "        break\n",
    "\n",
    "# Print the first two named entities\n",
    "for i, (text, label) in enumerate(named_entities, start=1):\n",
    "    print(f\"Entity {i}: Text = '{text}', Label = '{label}'\")"
   ]
  },
  {
   "cell_type": "raw",
   "id": "c753cffd-882b-4346-8f66-1a2e1fefe87d",
   "metadata": {},
   "source": [
    "7. How many sentences are contained in The Tale of Peter Rabbit? "
   ]
  },
  {
   "cell_type": "code",
   "execution_count": 85,
   "id": "300dd29b-41bc-4d9b-a71e-f47ceac5de45",
   "metadata": {},
   "outputs": [
    {
     "name": "stdout",
     "output_type": "stream",
     "text": [
      "The Tale of Peter Rabbit contains 55 sentences.\n"
     ]
    }
   ],
   "source": [
    "num_sentences=len(sentence)\n",
    "print(f\"The Tale of Peter Rabbit contains {num_sentences} sentences.\")"
   ]
  },
  {
   "cell_type": "raw",
   "id": "6ad5b8cc-2154-487b-a7de-432254ab546b",
   "metadata": {},
   "source": [
    "8. CHALLENGE: How many sentences contain named entities?"
   ]
  },
  {
   "cell_type": "code",
   "execution_count": 87,
   "id": "12b497bb-ca1e-4155-aac4-416236220b1f",
   "metadata": {},
   "outputs": [
    {
     "name": "stdout",
     "output_type": "stream",
     "text": [
      "Number of sentences containing named entities: 35\n"
     ]
    }
   ],
   "source": [
    "sentences_with_entities = 0\n",
    "\n",
    "for sentence in doc.sents:\n",
    "    if any(ent for ent in sentence.ents):\n",
    "        sentences_with_entities += 1\n",
    "\n",
    "print(f\"Number of sentences containing named entities: {sentences_with_entities}\")"
   ]
  },
  {
   "cell_type": "raw",
   "id": "ad081db3-555b-447b-9e44-41d1abd260ae",
   "metadata": {},
   "source": [
    "9. Display the named entity visualization for list_of_sents[0] from the previous problem"
   ]
  },
  {
   "cell_type": "code",
   "execution_count": 103,
   "id": "66ae38f0-f337-43e7-9160-0db931c66289",
   "metadata": {},
   "outputs": [
    {
     "data": {
      "text/html": [
       "<span class=\"tex2jax_ignore\"><div class=\"entities\" style=\"line-height: 2.5; direction: ltr\">\n",
       "<mark class=\"entity\" style=\"background: #f0d0ff; padding: 0.45em 0.6em; margin: 0 0.25em; line-height: 1; border-radius: 0.35em;\">\n",
       "    The Tale of Peter Rabbit\n",
       "    <span style=\"font-size: 0.8em; font-weight: bold; line-height: 1; border-radius: 0.35em; vertical-align: middle; margin-left: 0.5rem\">WORK_OF_ART</span>\n",
       "</mark>\n",
       ", by \n",
       "<mark class=\"entity\" style=\"background: #aa9cfc; padding: 0.45em 0.6em; margin: 0 0.25em; line-height: 1; border-radius: 0.35em;\">\n",
       "    Beatrix Potter\n",
       "    <span style=\"font-size: 0.8em; font-weight: bold; line-height: 1; border-radius: 0.35em; vertical-align: middle; margin-left: 0.5rem\">PERSON</span>\n",
       "</mark>\n",
       " (\n",
       "<mark class=\"entity\" style=\"background: #bfe1d9; padding: 0.45em 0.6em; margin: 0 0.25em; line-height: 1; border-radius: 0.35em;\">\n",
       "    1902\n",
       "    <span style=\"font-size: 0.8em; font-weight: bold; line-height: 1; border-radius: 0.35em; vertical-align: middle; margin-left: 0.5rem\">DATE</span>\n",
       "</mark>\n",
       ").</br></br></div></span>"
      ],
      "text/plain": [
       "<IPython.core.display.HTML object>"
      ]
     },
     "metadata": {},
     "output_type": "display_data"
    }
   ],
   "source": [
    "list_of_sents = list(doc.sents)\n",
    "displacy.render(list_of_sents[0], style=\"ent\", jupyter=True)"
   ]
  }
 ],
 "metadata": {
  "kernelspec": {
   "display_name": "Python 3 (ipykernel)",
   "language": "python",
   "name": "python3"
  },
  "language_info": {
   "codemirror_mode": {
    "name": "ipython",
    "version": 3
   },
   "file_extension": ".py",
   "mimetype": "text/x-python",
   "name": "python",
   "nbconvert_exporter": "python",
   "pygments_lexer": "ipython3",
   "version": "3.11.9"
  }
 },
 "nbformat": 4,
 "nbformat_minor": 5
}
