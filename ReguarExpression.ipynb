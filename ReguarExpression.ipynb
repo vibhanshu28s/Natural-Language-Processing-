{
 "cells": [
  {
   "cell_type": "code",
   "execution_count": 1,
   "id": "85058af4-db6d-499d-b241-a2c1891f5292",
   "metadata": {},
   "outputs": [],
   "source": [
    "text=\"The agent's phone number is 408-5555-1234. Call soon!\""
   ]
  },
  {
   "cell_type": "code",
   "execution_count": 2,
   "id": "0a33600e-be42-4440-9420-509ea7f086ce",
   "metadata": {},
   "outputs": [
    {
     "data": {
      "text/plain": [
       "True"
      ]
     },
     "execution_count": 2,
     "metadata": {},
     "output_type": "execute_result"
    }
   ],
   "source": [
    "\"phone\" in text"
   ]
  },
  {
   "cell_type": "code",
   "execution_count": 2,
   "id": "83d9d2d4-19af-43d4-b171-dda1ef9f01fd",
   "metadata": {},
   "outputs": [],
   "source": [
    "import re"
   ]
  },
  {
   "cell_type": "code",
   "execution_count": 4,
   "id": "66fb7652-e0e3-41f4-b9db-6765bff8be26",
   "metadata": {},
   "outputs": [],
   "source": [
    "pattern=\"phone\""
   ]
  },
  {
   "cell_type": "code",
   "execution_count": 5,
   "id": "4c417e57-d740-4de2-accb-755664468fae",
   "metadata": {},
   "outputs": [
    {
     "data": {
      "text/plain": [
       "<re.Match object; span=(12, 17), match='phone'>"
      ]
     },
     "execution_count": 5,
     "metadata": {},
     "output_type": "execute_result"
    }
   ],
   "source": [
    "re.search(pattern,text)"
   ]
  },
  {
   "cell_type": "code",
   "execution_count": 18,
   "id": "70e75eed-5ed0-420c-bace-3290963ed310",
   "metadata": {},
   "outputs": [],
   "source": [
    "pattern=\"NOT IN TEXT\""
   ]
  },
  {
   "cell_type": "code",
   "execution_count": 19,
   "id": "73e9447f-a078-442c-b7c5-b392fc270086",
   "metadata": {},
   "outputs": [],
   "source": [
    "re.search(pattern,text)"
   ]
  },
  {
   "cell_type": "code",
   "execution_count": 20,
   "id": "1a5b9f97-df96-404c-9b8c-3ca53024c4c4",
   "metadata": {},
   "outputs": [],
   "source": [
    "pattern=\"phone\""
   ]
  },
  {
   "cell_type": "code",
   "execution_count": 21,
   "id": "9f6b45b7-9e7b-48dc-a09b-839a2448b120",
   "metadata": {},
   "outputs": [
    {
     "data": {
      "text/plain": [
       "<re.Match object; span=(12, 17), match='phone'>"
      ]
     },
     "execution_count": 21,
     "metadata": {},
     "output_type": "execute_result"
    }
   ],
   "source": [
    "match=re.search(pattern,text)"
   ]
  },
  {
   "cell_type": "code",
   "execution_count": 23,
   "id": "41a71c2c-035a-48e2-bab9-371910d9a0d3",
   "metadata": {},
   "outputs": [
    {
     "data": {
      "text/plain": [
       "12"
      ]
     },
     "execution_count": 23,
     "metadata": {},
     "output_type": "execute_result"
    }
   ],
   "source": [
    "match.start()"
   ]
  },
  {
   "cell_type": "code",
   "execution_count": 24,
   "id": "437f5068-91ce-4654-af70-1fc72cdaa908",
   "metadata": {},
   "outputs": [
    {
     "data": {
      "text/plain": [
       "17"
      ]
     },
     "execution_count": 24,
     "metadata": {},
     "output_type": "execute_result"
    }
   ],
   "source": [
    "match.end()"
   ]
  },
  {
   "cell_type": "code",
   "execution_count": 25,
   "id": "b06cd74f-d60b-4d99-bf88-b852530e4420",
   "metadata": {},
   "outputs": [],
   "source": [
    "#But what if pattern occurs more than one"
   ]
  },
  {
   "cell_type": "code",
   "execution_count": 26,
   "id": "959b51fa-f85b-4b5c-a0bc-1a618409b237",
   "metadata": {},
   "outputs": [],
   "source": [
    "text=\"my phone is a new phone\""
   ]
  },
  {
   "cell_type": "code",
   "execution_count": 27,
   "id": "060b3ca0-49de-4849-bb78-19a00091acee",
   "metadata": {},
   "outputs": [],
   "source": [
    "match=re.search(\"phone\",text)"
   ]
  },
  {
   "cell_type": "code",
   "execution_count": 28,
   "id": "c6b86a7e-e118-4576-875a-995a5d803381",
   "metadata": {},
   "outputs": [
    {
     "data": {
      "text/plain": [
       "(3, 8)"
      ]
     },
     "execution_count": 28,
     "metadata": {},
     "output_type": "execute_result"
    }
   ],
   "source": [
    "match.span()"
   ]
  },
  {
   "cell_type": "code",
   "execution_count": 29,
   "id": "2d38a3c6-6544-407a-a8fd-4c30329e69b5",
   "metadata": {},
   "outputs": [],
   "source": [
    "matches=re.findall(\"phone\",text)"
   ]
  },
  {
   "cell_type": "code",
   "execution_count": 30,
   "id": "20738adf-0c2f-4804-a18e-5b88dcf57f60",
   "metadata": {},
   "outputs": [
    {
     "data": {
      "text/plain": [
       "['phone', 'phone']"
      ]
     },
     "execution_count": 30,
     "metadata": {},
     "output_type": "execute_result"
    }
   ],
   "source": [
    "matches"
   ]
  },
  {
   "cell_type": "code",
   "execution_count": 31,
   "id": "cbd2c000-5cb3-45ea-9eaf-58a0028e5f66",
   "metadata": {},
   "outputs": [
    {
     "data": {
      "text/plain": [
       "2"
      ]
     },
     "execution_count": 31,
     "metadata": {},
     "output_type": "execute_result"
    }
   ],
   "source": [
    "len(matches)"
   ]
  },
  {
   "cell_type": "code",
   "execution_count": 35,
   "id": "057dd24a-946d-494f-aa54-8e4b2a0e391d",
   "metadata": {},
   "outputs": [],
   "source": [
    "#To get the actual matches"
   ]
  },
  {
   "cell_type": "code",
   "execution_count": 36,
   "id": "16bc8801-c2db-420c-bd2d-9f2da1f9573e",
   "metadata": {},
   "outputs": [
    {
     "name": "stdout",
     "output_type": "stream",
     "text": [
      "(3, 8)\n",
      "(18, 23)\n"
     ]
    }
   ],
   "source": [
    "for match in re.finditer(\"phone\",text):\n",
    "    print(match.span())"
   ]
  },
  {
   "cell_type": "code",
   "execution_count": 37,
   "id": "1ee26990-7093-4ea6-880a-c1faa03d8417",
   "metadata": {},
   "outputs": [],
   "source": [
    "text=\"My phone number is 408-555-1234\""
   ]
  },
  {
   "cell_type": "code",
   "execution_count": 41,
   "id": "f279552b-b76c-4f37-9876-a44a0df63c5f",
   "metadata": {},
   "outputs": [],
   "source": [
    "phone=re.search(\"\\d\\d\\d-\\d\\d\\d-\\d\\d\\d\\d\",text)"
   ]
  },
  {
   "cell_type": "code",
   "execution_count": 44,
   "id": "5526bf72-954a-43a5-b6b2-78ef7edd660f",
   "metadata": {},
   "outputs": [
    {
     "data": {
      "text/plain": [
       "'408-555-1234'"
      ]
     },
     "execution_count": 44,
     "metadata": {},
     "output_type": "execute_result"
    }
   ],
   "source": [
    "phone.group()"
   ]
  },
  {
   "cell_type": "code",
   "execution_count": 49,
   "id": "d8fa4360-faa5-4355-a563-9907dab54887",
   "metadata": {},
   "outputs": [],
   "source": [
    "#Also"
   ]
  },
  {
   "cell_type": "code",
   "execution_count": 51,
   "id": "cf3b362e-6bcd-4bdd-b96f-6ea4a7e76e10",
   "metadata": {},
   "outputs": [],
   "source": [
    "phone_pattern=re.compile(r\"(\\d{3})-(\\d{3})-(\\d{4})\")"
   ]
  },
  {
   "cell_type": "code",
   "execution_count": 52,
   "id": "79647141-7f57-41d2-aef7-37cfee13d915",
   "metadata": {},
   "outputs": [],
   "source": [
    "results=re.search(phone_pattern,text)"
   ]
  },
  {
   "cell_type": "code",
   "execution_count": 54,
   "id": "7abbcb05-ac72-4fb8-8bce-45df987ac418",
   "metadata": {},
   "outputs": [
    {
     "data": {
      "text/plain": [
       "'408-555-1234'"
      ]
     },
     "execution_count": 54,
     "metadata": {},
     "output_type": "execute_result"
    }
   ],
   "source": [
    "results.group()"
   ]
  },
  {
   "cell_type": "code",
   "execution_count": 55,
   "id": "0b2d3259-354a-4019-8ba8-2b3d0f8f10fa",
   "metadata": {},
   "outputs": [
    {
     "data": {
      "text/plain": [
       "'408'"
      ]
     },
     "execution_count": 55,
     "metadata": {},
     "output_type": "execute_result"
    }
   ],
   "source": [
    "results.group(1)"
   ]
  },
  {
   "cell_type": "code",
   "execution_count": 56,
   "id": "89002251-186d-481b-93fa-4fefbd616c67",
   "metadata": {},
   "outputs": [
    {
     "data": {
      "text/plain": [
       "'555'"
      ]
     },
     "execution_count": 56,
     "metadata": {},
     "output_type": "execute_result"
    }
   ],
   "source": [
    "results.group(2)"
   ]
  },
  {
   "cell_type": "code",
   "execution_count": 58,
   "id": "ff1c0713-c4ab-4eae-90b3-fe34dd6d4715",
   "metadata": {},
   "outputs": [
    {
     "data": {
      "text/plain": [
       "'1234'"
      ]
     },
     "execution_count": 58,
     "metadata": {},
     "output_type": "execute_result"
    }
   ],
   "source": [
    "results.group(3)"
   ]
  },
  {
   "cell_type": "code",
   "execution_count": 59,
   "id": "822a973a-99d5-4f15-b135-7caeed5ad625",
   "metadata": {},
   "outputs": [
    {
     "ename": "IndexError",
     "evalue": "no such group",
     "output_type": "error",
     "traceback": [
      "\u001b[0;31m---------------------------------------------------------------------------\u001b[0m",
      "\u001b[0;31mIndexError\u001b[0m                                Traceback (most recent call last)",
      "Cell \u001b[0;32mIn[59], line 1\u001b[0m\n\u001b[0;32m----> 1\u001b[0m results\u001b[38;5;241m.\u001b[39mgroup(\u001b[38;5;241m4\u001b[39m)\n",
      "\u001b[0;31mIndexError\u001b[0m: no such group"
     ]
    }
   ],
   "source": [
    "results.group(4)"
   ]
  },
  {
   "cell_type": "code",
   "execution_count": 2,
   "id": "0de43608-a6a0-4673-ae29-77b3392cdb2e",
   "metadata": {},
   "outputs": [],
   "source": [
    "#Addiitioonall Regular Syntax\n",
    "#OR Operator"
   ]
  },
  {
   "cell_type": "code",
   "execution_count": 3,
   "id": "d5f49e1e-8bd1-4cfe-855b-06fc3069c94d",
   "metadata": {},
   "outputs": [
    {
     "data": {
      "text/plain": [
       "<re.Match object; span=(5, 8), match='man'>"
      ]
     },
     "execution_count": 3,
     "metadata": {},
     "output_type": "execute_result"
    }
   ],
   "source": [
    "re.search(r\"man|woman\",\"This man was here.\")"
   ]
  },
  {
   "cell_type": "code",
   "execution_count": 4,
   "id": "eeb1c5e2-598b-48a1-aeff-2fe2ecbc084b",
   "metadata": {},
   "outputs": [],
   "source": [
    "re.search(r\"man|woman\",\"This women was here.\")"
   ]
  },
  {
   "cell_type": "code",
   "execution_count": 5,
   "id": "7e8bd506-987d-48e3-ad37-5e118894f039",
   "metadata": {},
   "outputs": [],
   "source": [
    "#The Wildcard Character"
   ]
  },
  {
   "cell_type": "code",
   "execution_count": 6,
   "id": "8389fe4b-615c-4a5a-8a57-1bcf75f1f8c4",
   "metadata": {},
   "outputs": [
    {
     "data": {
      "text/plain": [
       "['cat', 'hat', 'sat']"
      ]
     },
     "execution_count": 6,
     "metadata": {},
     "output_type": "execute_result"
    }
   ],
   "source": [
    "re.findall(r\".at\",\"The cat is in the hat sat here.\")"
   ]
  },
  {
   "cell_type": "code",
   "execution_count": 8,
   "id": "05f0e51a-cd18-406d-aad1-831119e2bee9",
   "metadata": {},
   "outputs": [
    {
     "data": {
      "text/plain": [
       "['bat', 'lat']"
      ]
     },
     "execution_count": 8,
     "metadata": {},
     "output_type": "execute_result"
    }
   ],
   "source": [
    "re.findall(r\".at\",\"The bat went splat.\")"
   ]
  },
  {
   "cell_type": "code",
   "execution_count": 10,
   "id": "1043e5d4-b20b-4304-b7d4-695c02187503",
   "metadata": {},
   "outputs": [
    {
     "data": {
      "text/plain": [
       "['e bat', 'splat']"
      ]
     },
     "execution_count": 10,
     "metadata": {},
     "output_type": "execute_result"
    }
   ],
   "source": [
    "re.findall(r\"...at\",\"The bat went splat.\")"
   ]
  },
  {
   "cell_type": "code",
   "execution_count": 11,
   "id": "fb91de47-45fc-4175-a5c6-e668f85de36d",
   "metadata": {},
   "outputs": [],
   "source": [
    "#One or more non-whitespace that ends with \"at\""
   ]
  },
  {
   "cell_type": "code",
   "execution_count": 12,
   "id": "af26e9ec-9f2f-4d44-8718-01d80fbb060c",
   "metadata": {},
   "outputs": [
    {
     "data": {
      "text/plain": [
       "['bat', 'splat']"
      ]
     },
     "execution_count": 12,
     "metadata": {},
     "output_type": "execute_result"
    }
   ],
   "source": [
    "re.findall(r\"\\S+at\",\"The bat went splat.\")"
   ]
  },
  {
   "cell_type": "code",
   "execution_count": 19,
   "id": "d40a4498-c474-451d-a3ac-3512a624b29d",
   "metadata": {},
   "outputs": [
    {
     "data": {
      "text/plain": [
       "['bat', 'splat']"
      ]
     },
     "execution_count": 19,
     "metadata": {},
     "output_type": "execute_result"
    }
   ],
   "source": [
    "re.findall(r\"\\S+at\",\"The bat went splat.\")"
   ]
  },
  {
   "cell_type": "code",
   "execution_count": 20,
   "id": "75433a35-c73d-48df-82bf-8114602ce347",
   "metadata": {},
   "outputs": [],
   "source": [
    "##Starts With(^) and Ends With($)\n"
   ]
  },
  {
   "cell_type": "code",
   "execution_count": 22,
   "id": "d69f2d7e-0202-4a02-bc13-27f3813562ea",
   "metadata": {},
   "outputs": [
    {
     "data": {
      "text/plain": [
       "['2']"
      ]
     },
     "execution_count": 22,
     "metadata": {},
     "output_type": "execute_result"
    }
   ],
   "source": [
    "#Ends  with a number\n",
    "re.findall(r\"\\d$\",\"This ends with a number 2\")"
   ]
  },
  {
   "cell_type": "code",
   "execution_count": 24,
   "id": "770d6dc6-8637-4666-b684-c5d3ca0db713",
   "metadata": {},
   "outputs": [
    {
     "data": {
      "text/plain": [
       "[]"
      ]
     },
     "execution_count": 24,
     "metadata": {},
     "output_type": "execute_result"
    }
   ],
   "source": [
    "#starts with a number.\n",
    "re.findall(r\"\\d$\",\"1 is the loneliest  number.\")"
   ]
  },
  {
   "cell_type": "code",
   "execution_count": 25,
   "id": "9748ba37-f731-4b3f-b160-6a986a86033f",
   "metadata": {},
   "outputs": [],
   "source": [
    "#Exclusion"
   ]
  },
  {
   "cell_type": "code",
   "execution_count": 26,
   "id": "48c4fbe9-9ece-4057-b69a-3c823be6e71b",
   "metadata": {},
   "outputs": [],
   "source": [
    "phrase=\"there are 3 numbers 34 inside 5  this sentence.\""
   ]
  },
  {
   "cell_type": "code",
   "execution_count": 27,
   "id": "4e835b35-af30-4416-96eb-8777d69fdfe4",
   "metadata": {
    "scrolled": true
   },
   "outputs": [
    {
     "data": {
      "text/plain": [
       "['t',\n",
       " 'h',\n",
       " 'e',\n",
       " 'r',\n",
       " 'e',\n",
       " ' ',\n",
       " 'a',\n",
       " 'r',\n",
       " 'e',\n",
       " ' ',\n",
       " ' ',\n",
       " 'n',\n",
       " 'u',\n",
       " 'm',\n",
       " 'b',\n",
       " 'e',\n",
       " 'r',\n",
       " 's',\n",
       " ' ',\n",
       " ' ',\n",
       " 'i',\n",
       " 'n',\n",
       " 's',\n",
       " 'i',\n",
       " 'd',\n",
       " 'e',\n",
       " ' ',\n",
       " ' ',\n",
       " ' ',\n",
       " 't',\n",
       " 'h',\n",
       " 'i',\n",
       " 's',\n",
       " ' ',\n",
       " 's',\n",
       " 'e',\n",
       " 'n',\n",
       " 't',\n",
       " 'e',\n",
       " 'n',\n",
       " 'c',\n",
       " 'e',\n",
       " '.']"
      ]
     },
     "execution_count": 27,
     "metadata": {},
     "output_type": "execute_result"
    }
   ],
   "source": [
    "re.findall(r\"[^\\d]\",phrase)"
   ]
  },
  {
   "cell_type": "code",
   "execution_count": 29,
   "id": "feef96a8-3455-46a9-9b58-b650ed31a92f",
   "metadata": {},
   "outputs": [
    {
     "data": {
      "text/plain": [
       "['there are ', ' numbers ', ' inside ', '  this sentence.']"
      ]
     },
     "execution_count": 29,
     "metadata": {},
     "output_type": "execute_result"
    }
   ],
   "source": [
    "re.findall(r\"[^\\d]+\",phrase)"
   ]
  },
  {
   "cell_type": "code",
   "execution_count": 30,
   "id": "db41b927-2017-4a2c-9990-7a9b3fa1d6b8",
   "metadata": {},
   "outputs": [],
   "source": [
    "test_phrase=\"This is a string! But it has punctuation. How can we remove it?\""
   ]
  },
  {
   "cell_type": "code",
   "execution_count": 31,
   "id": "5557e15c-0126-4348-8a99-7f17bd2fe9d1",
   "metadata": {},
   "outputs": [
    {
     "data": {
      "text/plain": [
       "['This is a string', ' But it has punctuation', ' How can we remove it']"
      ]
     },
     "execution_count": 31,
     "metadata": {},
     "output_type": "execute_result"
    }
   ],
   "source": [
    "re.findall(\"[^!.?]+\",test_phrase)"
   ]
  },
  {
   "cell_type": "code",
   "execution_count": 3,
   "id": "fdd58548-f7dd-46f0-8a99-1bd49e552b90",
   "metadata": {},
   "outputs": [
    {
     "ename": "NameError",
     "evalue": "name 'test_phrase' is not defined",
     "output_type": "error",
     "traceback": [
      "\u001b[0;31m---------------------------------------------------------------------------\u001b[0m",
      "\u001b[0;31mNameError\u001b[0m                                 Traceback (most recent call last)",
      "Cell \u001b[0;32mIn[3], line 1\u001b[0m\n\u001b[0;32m----> 1\u001b[0m clean\u001b[38;5;241m=\u001b[39m\u001b[38;5;124m\"\u001b[39m\u001b[38;5;124m \u001b[39m\u001b[38;5;124m\"\u001b[39m\u001b[38;5;241m.\u001b[39mjoin(re\u001b[38;5;241m.\u001b[39mfindall(\u001b[38;5;124m\"\u001b[39m\u001b[38;5;124m[^!.?]+\u001b[39m\u001b[38;5;124m\"\u001b[39m,test_phrase))\n",
      "\u001b[0;31mNameError\u001b[0m: name 'test_phrase' is not defined"
     ]
    }
   ],
   "source": [
    "clean=\" \".join(re.findall(\"[^!.?]+\",test_phrase))"
   ]
  },
  {
   "cell_type": "code",
   "execution_count": 34,
   "id": "63072a11-bd37-409d-b39e-cda06e64a3bb",
   "metadata": {},
   "outputs": [
    {
     "data": {
      "text/plain": [
       "'This is a string  But it has punctuation  How can we remove it'"
      ]
     },
     "execution_count": 34,
     "metadata": {},
     "output_type": "execute_result"
    }
   ],
   "source": [
    "clean"
   ]
  },
  {
   "cell_type": "code",
   "execution_count": 35,
   "id": "7fe540eb-0f4a-4aa0-8cfd-6660c4b22aae",
   "metadata": {},
   "outputs": [],
   "source": [
    "##Brackets for grouping"
   ]
  },
  {
   "cell_type": "code",
   "execution_count": 36,
   "id": "66ce056b-c844-482d-aaa3-076a7aedefee",
   "metadata": {},
   "outputs": [],
   "source": [
    "text=\"Only find the  hypen-words in  this sentence. But you do not know how  long-ish they are\""
   ]
  },
  {
   "cell_type": "code",
   "execution_count": 38,
   "id": "f9f65039-7d37-4b15-a59a-f30df4f19935",
   "metadata": {},
   "outputs": [
    {
     "data": {
      "text/plain": [
       "['hypen-words', 'long-ish']"
      ]
     },
     "execution_count": 38,
     "metadata": {},
     "output_type": "execute_result"
    }
   ],
   "source": [
    "re.findall(r\"[\\w]+-[\\w]+\",text)"
   ]
  },
  {
   "cell_type": "code",
   "execution_count": 39,
   "id": "722d4c0d-e329-41e0-93d3-649fa7c17cee",
   "metadata": {},
   "outputs": [],
   "source": [
    "w=\"Hello123Worlld456\""
   ]
  },
  {
   "cell_type": "code",
   "execution_count": 64,
   "id": "7ab0836a-6851-41ab-b520-a40510e4c4d6",
   "metadata": {},
   "outputs": [
    {
     "ename": "SyntaxError",
     "evalue": "unterminated string literal (detected at line 1) (557405310.py, line 1)",
     "output_type": "error",
     "traceback": [
      "\u001b[0;36m  Cell \u001b[0;32mIn[64], line 1\u001b[0;36m\u001b[0m\n\u001b[0;31m    d='.join(re.findall(r\"[\\D]\")\u001b[0m\n\u001b[0m      ^\u001b[0m\n\u001b[0;31mSyntaxError\u001b[0m\u001b[0;31m:\u001b[0m unterminated string literal (detected at line 1)\n"
     ]
    }
   ],
   "source": [
    "d='.join(re.findall(r\"[\\D]\")')"
   ]
  },
  {
   "cell_type": "code",
   "execution_count": 54,
   "id": "2a9073d5-9823-43e0-991c-8a17a837f9b5",
   "metadata": {},
   "outputs": [],
   "source": [
    "import PyPDF2"
   ]
  },
  {
   "cell_type": "code",
   "execution_count": 55,
   "id": "4efd4b14-ac3c-4357-a693-769b434a13b0",
   "metadata": {},
   "outputs": [],
   "source": [
    "f=open(\"Design and Analysis of Algorithm_Full.pdf\",\"rb\")"
   ]
  },
  {
   "cell_type": "code",
   "execution_count": 58,
   "id": "48d820d8-862f-412a-a992-dc3ac4daf0bf",
   "metadata": {},
   "outputs": [],
   "source": [
    "pdf_reader = PyPDF2.PdfReader(f)"
   ]
  },
  {
   "cell_type": "code",
   "execution_count": 65,
   "id": "ccde8fb8-97ac-45ca-9f2e-5bd3422ec853",
   "metadata": {},
   "outputs": [],
   "source": [
    "page_one=pdf_reader.pages[1]"
   ]
  },
  {
   "cell_type": "code",
   "execution_count": 66,
   "id": "66eb4a3b-ac7a-4e42-9480-692f04565347",
   "metadata": {},
   "outputs": [],
   "source": [
    "page_one_text=page_one.extract_text()"
   ]
  },
  {
   "cell_type": "code",
   "execution_count": 68,
   "id": "cde20863-03df-4a0e-a80a-b56892e19174",
   "metadata": {},
   "outputs": [
    {
     "data": {
      "text/plain": [
       "'Expectation  from  an algorithm  \\n \\n• Correctness: - \\n▪ Correct:  Algorithms  must  produce  correct  result.  \\n▪ Produce  an incorrect  answer:  Even  if it fails to give correct  results  all the time still \\nthere  is a control  on how often  it gives  wrong  result.  Eg. Rabin -Miller  Primality  \\n▪ Test (Used  in RSA  algorithm):  It doesn’t  give correct  answer  all the time.1  out of \\n250 timesit  gives  incorrect  result.  \\n▪ Approximation  algorithm:  Exact  solution  is not found,  but near optimal  solution  \\ncanbe  found out.  (Applied  to optimization  problem.)  \\n• Less  resource  usage:  \\nAlgorithms  should  use less resources  (time  and space).  \\n \\n \\nResource  usage:  \\nHere, the time is considered to be the primary measure of  efficiency. We  are also concerned  \\nwith how much  the respective  algorithm  involves  the computer memory.  Butmostly  time is \\nthe resource that is dealt with. And the actual running time depends on a  variety of  \\nbackgrounds: like the speed of the Computer, the  language  in which  the algorithm is  \\nimplemented,  the compiler/interpreter,  skill of the programmers  etc. \\nSo, mainly  the resource  usage  can be divided  into:  1.Memory  (space)  2.Time  \\n \\n \\nTime  taken  by an algorithm?  \\n➢ performance measurement or Apostoriori Analysis: Implementing the algorithmin a  \\nmachine and then calculating the time taken by the system to execute the program  \\nsuccessfully.  \\n➢ Performance Evaluation or Apriori Analysis. Before implementing the algorithm in a  \\nsystem.  This is done  as follows:  \\n \\n1. How  long the algorithm  takes: -will be represented  as a function  of the size \\nofthe  input.  \\nf(n)→how  long it takes  if ‘n’ is the size of input.  '"
      ]
     },
     "execution_count": 68,
     "metadata": {},
     "output_type": "execute_result"
    }
   ],
   "source": [
    "page_one_text"
   ]
  },
  {
   "cell_type": "code",
   "execution_count": 73,
   "id": "f0dd07fd-b951-4dc2-bf98-2b557e6b2e1e",
   "metadata": {},
   "outputs": [
    {
     "data": {
      "text/plain": [
       "['Rabin -Miller']"
      ]
     },
     "execution_count": 73,
     "metadata": {},
     "output_type": "execute_result"
    }
   ],
   "source": [
    "re.findall(r\"[\\w]+ -[\\w]+\",page_one_text)"
   ]
  },
  {
   "cell_type": "code",
   "execution_count": null,
   "id": "0adfdfab-52f0-431b-980d-e21b31a8b0be",
   "metadata": {},
   "outputs": [],
   "source": []
  }
 ],
 "metadata": {
  "kernelspec": {
   "display_name": "Python 3 (ipykernel)",
   "language": "python",
   "name": "python3"
  },
  "language_info": {
   "codemirror_mode": {
    "name": "ipython",
    "version": 3
   },
   "file_extension": ".py",
   "mimetype": "text/x-python",
   "name": "python",
   "nbconvert_exporter": "python",
   "pygments_lexer": "ipython3",
   "version": "3.11.9"
  }
 },
 "nbformat": 4,
 "nbformat_minor": 5
}
