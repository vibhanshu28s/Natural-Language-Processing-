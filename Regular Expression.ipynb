{
 "cells": [
  {
   "cell_type": "code",
   "execution_count": 29,
   "id": "c90e5ae2-174a-4e63-b33e-5ea21a019f85",
   "metadata": {},
   "outputs": [],
   "source": [
    "import PyPDF2\n",
    "import re"
   ]
  },
  {
   "cell_type": "code",
   "execution_count": 1,
   "id": "31effbd7-fe4e-4d00-9905-f233d0574de2",
   "metadata": {},
   "outputs": [],
   "source": [
    "fstring=\"NLP stands for Natural Language Processing\""
   ]
  },
  {
   "cell_type": "code",
   "execution_count": 2,
   "id": "996e703f-e5c5-46b6-af33-137c38e29ca0",
   "metadata": {},
   "outputs": [
    {
     "name": "stdout",
     "output_type": "stream",
     "text": [
      "NLP stands for Natural Language Processing\n"
     ]
    }
   ],
   "source": [
    "print(f\"{fstring}\")"
   ]
  },
  {
   "cell_type": "code",
   "execution_count": 4,
   "id": "36d1fb52-bce4-4edb-9b99-55598db77a01",
   "metadata": {},
   "outputs": [
    {
     "name": "stdout",
     "output_type": "stream",
     "text": [
      "Overwriting contacts.txt\n"
     ]
    }
   ],
   "source": [
    "%%writefile contacts.txt\n",
    "First_Name, Last_Name, Email"
   ]
  },
  {
   "cell_type": "code",
   "execution_count": 8,
   "id": "5d4238b2-f24c-47bb-aabf-138d87814982",
   "metadata": {},
   "outputs": [
    {
     "name": "stdout",
     "output_type": "stream",
     "text": [
      "First_Name, Last_Name, Email\n",
      "\n"
     ]
    }
   ],
   "source": [
    "with open(\"contacts.txt\",\"r\") as txt:\n",
    "    fields=txt.read()\n",
    "print(fields)"
   ]
  },
  {
   "cell_type": "code",
   "execution_count": 7,
   "id": "72d5462a-5cc7-440c-9144-d4a47efe7752",
   "metadata": {},
   "outputs": [],
   "source": [
    "f_pdf=open(\"Business_Proposal.pdf\",\"rb\")"
   ]
  },
  {
   "cell_type": "code",
   "execution_count": 10,
   "id": "cb70a61a-1a25-470d-a957-6969e828404c",
   "metadata": {},
   "outputs": [],
   "source": [
    "pdf_reader=PyPDF2.PdfReader(f_pdf)"
   ]
  },
  {
   "cell_type": "code",
   "execution_count": 19,
   "id": "f4f401ba-3600-49ab-8735-206b7e615a9d",
   "metadata": {},
   "outputs": [
    {
     "data": {
      "text/plain": [
       "'AUTHORS:  \\nAmy Baker, Finance Chair, x345, abaker@ourcompany.com  \\nChris Donaldson, Accounting Dir., x621, cdonaldson@ourcompany.com  \\nErin Freeman, Sr. VP, x879, efreeman@ourcompany.com  '"
      ]
     },
     "execution_count": 19,
     "metadata": {},
     "output_type": "execute_result"
    }
   ],
   "source": [
    "page_two=pdf_reader.pages[1].extract_text()\n",
    "page_two"
   ]
  },
  {
   "cell_type": "code",
   "execution_count": 31,
   "id": "36884b34-0252-4386-967c-b6d48082a93c",
   "metadata": {},
   "outputs": [],
   "source": [
    "f=open(\"contacts.txt\",\"a+\")"
   ]
  },
  {
   "cell_type": "code",
   "execution_count": 32,
   "id": "8cb65b12-8e4d-4bf5-969d-82a52a7c9e58",
   "metadata": {},
   "outputs": [
    {
     "data": {
      "text/plain": [
       "188"
      ]
     },
     "execution_count": 32,
     "metadata": {},
     "output_type": "execute_result"
    }
   ],
   "source": [
    "f.write(page_two)"
   ]
  },
  {
   "cell_type": "code",
   "execution_count": 48,
   "id": "30528b42-ca00-478b-8ea5-77088f2ad287",
   "metadata": {},
   "outputs": [
    {
     "data": {
      "text/plain": [
       "0"
      ]
     },
     "execution_count": 48,
     "metadata": {},
     "output_type": "execute_result"
    }
   ],
   "source": [
    "f.seek(0)"
   ]
  },
  {
   "cell_type": "code",
   "execution_count": 46,
   "id": "4248c0c3-de51-41b3-b333-497aae8fcada",
   "metadata": {},
   "outputs": [
    {
     "data": {
      "text/plain": [
       "'First_Name, Last_Name, Email\\nAUTHORS:  \\nAmy Baker, Finance Chair, x345, abaker@ourcompany.com  \\nChris Donaldson, Accounting Dir., x621, cdonaldson@ourcompany.com  \\nErin Freeman, Sr. VP, x879, efreeman@ourcompany.com  AUTHORS:  \\nAmy Baker, Finance Chair, x345, abaker@ourcompany.com  \\nChris Donaldson, Accounting Dir., x621, cdonaldson@ourcompany.com  \\nErin Freeman, Sr. VP, x879, efreeman@ourcompany.com  '"
      ]
     },
     "execution_count": 46,
     "metadata": {},
     "output_type": "execute_result"
    }
   ],
   "source": [
    "file_read=f.read()\n",
    "file_read"
   ]
  },
  {
   "cell_type": "code",
   "execution_count": 62,
   "id": "52ebc05d-4c7b-4458-a37e-29072feceae6",
   "metadata": {},
   "outputs": [
    {
     "data": {
      "text/plain": [
       "['abaker@ourcompany.com',\n",
       " 'cdonaldson@ourcompany.com',\n",
       " 'efreeman@ourcompany.com',\n",
       " 'abaker@ourcompany.com',\n",
       " 'cdonaldson@ourcompany.com',\n",
       " 'efreeman@ourcompany.com']"
      ]
     },
     "execution_count": 62,
     "metadata": {},
     "output_type": "execute_result"
    }
   ],
   "source": [
    "re.findall(r\"[\\w]+@[\\w]+.[\\w]+\",file_read)"
   ]
  },
  {
   "cell_type": "code",
   "execution_count": null,
   "id": "56e61f74-1aa3-465e-9cda-3ef99a3ee53e",
   "metadata": {},
   "outputs": [],
   "source": []
  }
 ],
 "metadata": {
  "kernelspec": {
   "display_name": "Python 3 (ipykernel)",
   "language": "python",
   "name": "python3"
  },
  "language_info": {
   "codemirror_mode": {
    "name": "ipython",
    "version": 3
   },
   "file_extension": ".py",
   "mimetype": "text/x-python",
   "name": "python",
   "nbconvert_exporter": "python",
   "pygments_lexer": "ipython3",
   "version": "3.11.4"
  }
 },
 "nbformat": 4,
 "nbformat_minor": 5
}
