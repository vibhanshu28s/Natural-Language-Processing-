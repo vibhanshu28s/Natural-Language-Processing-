{
 "cells": [
  {
   "cell_type": "code",
   "execution_count": 4,
   "id": "d73271d1-2603-492b-a77e-81f67263b8d9",
   "metadata": {},
   "outputs": [],
   "source": [
    "import spacy"
   ]
  },
  {
   "cell_type": "code",
   "execution_count": 5,
   "id": "91e54e7f-4c04-45d2-a505-77d0dba3d606",
   "metadata": {},
   "outputs": [],
   "source": [
    "nlp=spacy.load(\"en_core_web_sm\")"
   ]
  },
  {
   "cell_type": "code",
   "execution_count": 6,
   "id": "f9497236-24d0-4c3d-b37f-0e951bb102ee",
   "metadata": {},
   "outputs": [],
   "source": [
    "doc=nlp(\"Tesla is looking at buying U.S.startup for $6 milliion\")"
   ]
  },
  {
   "cell_type": "code",
   "execution_count": 14,
   "id": "af1a642c-792a-4a1c-b84d-4fabd96ec064",
   "metadata": {},
   "outputs": [
    {
     "name": "stdout",
     "output_type": "stream",
     "text": [
      "Tesla PROPN nsubj\n",
      "is AUX aux\n",
      "looking VERB ROOT\n",
      "at ADP prep\n",
      "buying VERB pcomp\n",
      "U.S.startup NOUN dobj\n",
      "for ADP prep\n",
      "$ SYM nmod\n",
      "6 NUM nummod\n",
      "milliion NOUN pobj\n"
     ]
    }
   ],
   "source": [
    "for token in doc:\n",
    "    print(token.text,token.pos_,token.dep_)"
   ]
  },
  {
   "cell_type": "code",
   "execution_count": 31,
   "id": "3d0b5f66-1c84-4f82-b30f-3df2c26f1d6a",
   "metadata": {},
   "outputs": [
    {
     "data": {
      "text/plain": [
       "[('tok2vec', <spacy.pipeline.tok2vec.Tok2Vec at 0x15acc3050>),\n",
       " ('tagger', <spacy.pipeline.tagger.Tagger at 0x15acc2c90>),\n",
       " ('parser', <spacy.pipeline.dep_parser.DependencyParser at 0x1088892a0>),\n",
       " ('attribute_ruler',\n",
       "  <spacy.pipeline.attributeruler.AttributeRuler at 0x15ae9c3d0>),\n",
       " ('lemmatizer', <spacy.lang.en.lemmatizer.EnglishLemmatizer at 0x155f2e910>),\n",
       " ('ner', <spacy.pipeline.ner.EntityRecognizer at 0x10885f5a0>)]"
      ]
     },
     "execution_count": 31,
     "metadata": {},
     "output_type": "execute_result"
    }
   ],
   "source": [
    "nlp.pipeline"
   ]
  },
  {
   "cell_type": "code",
   "execution_count": 33,
   "id": "814e86bc-3910-4352-af71-b34f9b8e0a7f",
   "metadata": {},
   "outputs": [
    {
     "data": {
      "text/plain": [
       "['tok2vec', 'tagger', 'parser', 'attribute_ruler', 'lemmatizer', 'ner']"
      ]
     },
     "execution_count": 33,
     "metadata": {},
     "output_type": "execute_result"
    }
   ],
   "source": [
    "nlp.pipe_names"
   ]
  },
  {
   "cell_type": "code",
   "execution_count": 35,
   "id": "a7e556cb-aec0-4a5e-95f3-19eeb7040ce9",
   "metadata": {},
   "outputs": [],
   "source": [
    "#Tokenizatiion"
   ]
  },
  {
   "cell_type": "code",
   "execution_count": 71,
   "id": "9176b217-611a-403e-b2f8-6dc76c3faf9f",
   "metadata": {},
   "outputs": [],
   "source": [
    "mystring=\"we \\ r' moving to L.A.!\""
   ]
  },
  {
   "cell_type": "code",
   "execution_count": 73,
   "id": "3257e8e7-5729-4eb5-98d8-f923dc6face5",
   "metadata": {},
   "outputs": [
    {
     "name": "stdout",
     "output_type": "stream",
     "text": [
      "we \\ r' moving to L.A.!\n"
     ]
    }
   ],
   "source": [
    "print(mystring)"
   ]
  },
  {
   "cell_type": "code",
   "execution_count": 75,
   "id": "e1a4f240-0140-4f48-9046-1f527a3af08f",
   "metadata": {},
   "outputs": [],
   "source": [
    "#create a doc object and explore tokens"
   ]
  },
  {
   "cell_type": "code",
   "execution_count": 77,
   "id": "9ae42699-9feb-4d1d-a017-5f92630d522e",
   "metadata": {},
   "outputs": [],
   "source": [
    "doc=nlp(mystring)"
   ]
  },
  {
   "cell_type": "code",
   "execution_count": 79,
   "id": "f1a7f1b9-ece8-42bd-997c-80445353c03b",
   "metadata": {},
   "outputs": [
    {
     "name": "stdout",
     "output_type": "stream",
     "text": [
      "we | \\ | r | ' | moving | to | L.A. | ! | "
     ]
    }
   ],
   "source": [
    "for token in doc:\n",
    "    print(token.text, end=\" | \")"
   ]
  },
  {
   "cell_type": "code",
   "execution_count": 81,
   "id": "05bdbd43-e95f-44c8-b420-0533eb87e1fc",
   "metadata": {},
   "outputs": [],
   "source": [
    "doc2=nlp(\"we 're here to help! Send snail-mail, email support@oursite.com or visit us at http://wwww.oursite.com!\")"
   ]
  },
  {
   "cell_type": "code",
   "execution_count": 83,
   "id": "b95d4ee8-c84a-4e44-9b64-16aea176bb8f",
   "metadata": {},
   "outputs": [
    {
     "name": "stdout",
     "output_type": "stream",
     "text": [
      "we\n",
      "'re\n",
      "here\n",
      "to\n",
      "help\n",
      "!\n",
      "Send\n",
      "snail\n",
      "-\n",
      "mail\n",
      ",\n",
      "email\n",
      "support@oursite.com\n",
      "or\n",
      "visit\n",
      "us\n",
      "at\n",
      "http://wwww.oursite.com\n",
      "!\n"
     ]
    }
   ],
   "source": [
    "for t in doc2:\n",
    "    print(t)"
   ]
  },
  {
   "cell_type": "code",
   "execution_count": 85,
   "id": "9b497b43-b7f0-4472-85ba-d57326707819",
   "metadata": {},
   "outputs": [],
   "source": [
    "doc3=nlp(\"A 5km NYC cab costs $10.30\")"
   ]
  },
  {
   "cell_type": "code",
   "execution_count": 87,
   "id": "18322ac9-5b1a-4ff1-81a8-623498b5721b",
   "metadata": {},
   "outputs": [
    {
     "name": "stdout",
     "output_type": "stream",
     "text": [
      "A\n",
      "5\n",
      "km\n",
      "NYC\n",
      "cab\n",
      "costs\n",
      "$\n",
      "10.30\n"
     ]
    }
   ],
   "source": [
    "for t in doc3:\n",
    "    print(t)"
   ]
  },
  {
   "cell_type": "code",
   "execution_count": 105,
   "id": "26060780-d966-461c-a456-f04b0899d9d3",
   "metadata": {},
   "outputs": [],
   "source": [
    "doc4=nlp(\"Let's visit St. Louis in the U.S. next year.\")"
   ]
  },
  {
   "cell_type": "code",
   "execution_count": 107,
   "id": "5d414ee2-1cbe-4fc9-af25-bc92f2e27f5d",
   "metadata": {},
   "outputs": [
    {
     "name": "stdout",
     "output_type": "stream",
     "text": [
      "Let\n",
      "'s\n",
      "visit\n",
      "St.\n",
      "Louis\n",
      "in\n",
      "the\n",
      "U.S.\n",
      "next\n",
      "year\n",
      ".\n"
     ]
    }
   ],
   "source": [
    "for t in doc4:\n",
    "    print(t)"
   ]
  },
  {
   "cell_type": "code",
   "execution_count": 109,
   "id": "aece6b2b-2075-4e16-9231-f28600b6c678",
   "metadata": {},
   "outputs": [],
   "source": [
    "doc5=nlp(\"It is better to give than  to receive\")"
   ]
  },
  {
   "cell_type": "code",
   "execution_count": 111,
   "id": "e4c4d6b3-2aec-4ac7-865e-a77baca18f2a",
   "metadata": {},
   "outputs": [
    {
     "data": {
      "text/plain": [
       "better to give"
      ]
     },
     "execution_count": 111,
     "metadata": {},
     "output_type": "execute_result"
    }
   ],
   "source": [
    "doc5[2:5]"
   ]
  },
  {
   "cell_type": "code",
   "execution_count": 113,
   "id": "8048bfe9-3cf2-48bb-9d31-7518712519a0",
   "metadata": {},
   "outputs": [
    {
     "data": {
      "text/plain": [
       "better"
      ]
     },
     "execution_count": 113,
     "metadata": {},
     "output_type": "execute_result"
    }
   ],
   "source": [
    "doc5[2]"
   ]
  },
  {
   "cell_type": "code",
   "execution_count": 115,
   "id": "1ecd6f1a-b839-4b6c-a6db-731f950b2733",
   "metadata": {},
   "outputs": [
    {
     "data": {
      "text/plain": [
       "than  to receive"
      ]
     },
     "execution_count": 115,
     "metadata": {},
     "output_type": "execute_result"
    }
   ],
   "source": [
    "doc5[-4:]"
   ]
  },
  {
   "cell_type": "code",
   "execution_count": 1,
   "id": "dd585f79-c75f-4107-b0ca-b5041b65f91f",
   "metadata": {},
   "outputs": [],
   "source": [
    "# Named Entity Recognition. (NER)"
   ]
  },
  {
   "cell_type": "code",
   "execution_count": 142,
   "id": "f589ad7e-cc02-4cfc-aee5-9a08fec64afe",
   "metadata": {},
   "outputs": [],
   "source": [
    "doc8=nlp(\"Apple to build a Hong  Kong Factory for $6 million\")"
   ]
  },
  {
   "cell_type": "code",
   "execution_count": 144,
   "id": "3c6aa06c-e08c-49a9-8c20-ffe3c2de48c5",
   "metadata": {},
   "outputs": [
    {
     "name": "stdout",
     "output_type": "stream",
     "text": [
      "Apple | to | build | a | Hong |   | Kong | Factory | for | $ | 6 | million | "
     ]
    }
   ],
   "source": [
    "for token in doc8:\n",
    "    print(token.text,end=\" | \")"
   ]
  },
  {
   "cell_type": "code",
   "execution_count": 146,
   "id": "6f4fc845-718e-40cc-947f-d44441f31fd9",
   "metadata": {},
   "outputs": [
    {
     "name": "stdout",
     "output_type": "stream",
     "text": [
      "\n",
      "----\n"
     ]
    }
   ],
   "source": [
    "print(\"\\n----\")"
   ]
  },
  {
   "cell_type": "code",
   "execution_count": 148,
   "id": "c5588449-5764-4504-9109-bddba47935a5",
   "metadata": {},
   "outputs": [
    {
     "name": "stdout",
     "output_type": "stream",
     "text": [
      "Apple-ORG-Companies, agencies, institutions, etc.\n",
      "Hong  Kong Factory-GPE-Countries, cities, states\n",
      "$6 million-MONEY-Monetary values, including unit\n"
     ]
    }
   ],
   "source": [
    "for ent in doc8.ents:\n",
    "    print(ent.text+\"-\"+ent.label_+\"-\"+str(spacy.explain(ent.label_)))"
   ]
  },
  {
   "cell_type": "code",
   "execution_count": 150,
   "id": "69276b10-1f2d-45f5-9ef8-38e8e5239f09",
   "metadata": {},
   "outputs": [
    {
     "data": {
      "text/plain": [
       "3"
      ]
     },
     "execution_count": 150,
     "metadata": {},
     "output_type": "execute_result"
    }
   ],
   "source": [
    "len(doc8.ents)"
   ]
  },
  {
   "cell_type": "code",
   "execution_count": 152,
   "id": "3fa21a13-d45b-4cac-8737-7b6b7f0f930c",
   "metadata": {},
   "outputs": [],
   "source": [
    "#Noun Chunnks"
   ]
  },
  {
   "cell_type": "code",
   "execution_count": 154,
   "id": "347cc319-3239-41a7-8151-83016cfdc9ca",
   "metadata": {},
   "outputs": [],
   "source": [
    "doc9=nlp(\"Autonomous cars shifts insurance liability towards manufacturers.\")"
   ]
  },
  {
   "cell_type": "code",
   "execution_count": 158,
   "id": "ee3e0d85-1e67-486b-bbe7-6b378fbc42ec",
   "metadata": {},
   "outputs": [
    {
     "name": "stdout",
     "output_type": "stream",
     "text": [
      "Autonomous cars shifts insurance liability\n",
      "manufacturers\n"
     ]
    }
   ],
   "source": [
    "for chunks in doc9.noun_chunks:\n",
    "    print(chunks.text)"
   ]
  },
  {
   "cell_type": "code",
   "execution_count": 164,
   "id": "3fbe6883-5ce3-460e-ad6f-83a488221f2c",
   "metadata": {},
   "outputs": [],
   "source": [
    "doc10=nlp(\"Red car do  not carry higher insurance rates.\")"
   ]
  },
  {
   "cell_type": "code",
   "execution_count": 166,
   "id": "4d4ecb2a-acea-4f54-8d32-c0d5af32f1d2",
   "metadata": {},
   "outputs": [
    {
     "name": "stdout",
     "output_type": "stream",
     "text": [
      "Red car\n",
      "higher insurance rates\n"
     ]
    }
   ],
   "source": [
    "for chunks in doc10.noun_chunks:\n",
    "    print(chunks.text)"
   ]
  },
  {
   "cell_type": "code",
   "execution_count": 168,
   "id": "3fb7e077-d8f6-494c-b362-68b1a2289178",
   "metadata": {},
   "outputs": [],
   "source": [
    "doc11=nlp(\"He was one-eyed, one-horned, flying, purple-people eater\")"
   ]
  },
  {
   "cell_type": "code",
   "execution_count": 170,
   "id": "1361e126-b96b-45be-9b84-b44e78793e4b",
   "metadata": {},
   "outputs": [
    {
     "name": "stdout",
     "output_type": "stream",
     "text": [
      "He\n",
      "one-eyed, one-horned, flying, purple-people eater\n"
     ]
    }
   ],
   "source": [
    "for chunks in doc11.noun_chunks:\n",
    "    print(chunks.text)"
   ]
  },
  {
   "cell_type": "code",
   "execution_count": 172,
   "id": "bcd365d9-e96c-4aca-9316-fd9b1f12b6fc",
   "metadata": {},
   "outputs": [],
   "source": [
    "#Visualising the Dependency Parse"
   ]
  },
  {
   "cell_type": "code",
   "execution_count": 176,
   "id": "20f3f0d7-d16d-4dc2-9371-8c28418dac96",
   "metadata": {},
   "outputs": [],
   "source": [
    "from spacy import displacy"
   ]
  },
  {
   "cell_type": "code",
   "execution_count": 178,
   "id": "c4d35e55-a2ae-4d20-b957-4e8efc699136",
   "metadata": {},
   "outputs": [],
   "source": [
    "doc=nlp(\"Apple is going to buid a U.K. factory for $6 million.\")"
   ]
  },
  {
   "cell_type": "code",
   "execution_count": 202,
   "id": "9ae3c658-a467-4b87-bc04-eb55881e301c",
   "metadata": {},
   "outputs": [
    {
     "data": {
      "text/html": [
       "<span class=\"tex2jax_ignore\"><svg xmlns=\"http://www.w3.org/2000/svg\" xmlns:xlink=\"http://www.w3.org/1999/xlink\" xml:lang=\"en\" id=\"4b4bf365654a43008bef5fd5d93c094f-0\" class=\"displacy\" width=\"2600\" height=\"437.0\" direction=\"ltr\" style=\"max-width: none; height: 437.0px; color: #000000; background: #ffffff; font-family: Arial; direction: ltr\">\n",
       "<text class=\"displacy-token\" fill=\"currentColor\" text-anchor=\"middle\" y=\"347.0\">\n",
       "    <tspan class=\"displacy-word\" fill=\"currentColor\" x=\"50\">Over</tspan>\n",
       "    <tspan class=\"displacy-tag\" dy=\"2em\" fill=\"currentColor\" x=\"50\">ADP</tspan>\n",
       "</text>\n",
       "\n",
       "<text class=\"displacy-token\" fill=\"currentColor\" text-anchor=\"middle\" y=\"347.0\">\n",
       "    <tspan class=\"displacy-word\" fill=\"currentColor\" x=\"200\">the</tspan>\n",
       "    <tspan class=\"displacy-tag\" dy=\"2em\" fill=\"currentColor\" x=\"200\">DET</tspan>\n",
       "</text>\n",
       "\n",
       "<text class=\"displacy-token\" fill=\"currentColor\" text-anchor=\"middle\" y=\"347.0\">\n",
       "    <tspan class=\"displacy-word\" fill=\"currentColor\" x=\"350\">last</tspan>\n",
       "    <tspan class=\"displacy-tag\" dy=\"2em\" fill=\"currentColor\" x=\"350\">ADJ</tspan>\n",
       "</text>\n",
       "\n",
       "<text class=\"displacy-token\" fill=\"currentColor\" text-anchor=\"middle\" y=\"347.0\">\n",
       "    <tspan class=\"displacy-word\" fill=\"currentColor\" x=\"500\">quarter</tspan>\n",
       "    <tspan class=\"displacy-tag\" dy=\"2em\" fill=\"currentColor\" x=\"500\">NOUN</tspan>\n",
       "</text>\n",
       "\n",
       "<text class=\"displacy-token\" fill=\"currentColor\" text-anchor=\"middle\" y=\"347.0\">\n",
       "    <tspan class=\"displacy-word\" fill=\"currentColor\" x=\"650\">Apple</tspan>\n",
       "    <tspan class=\"displacy-tag\" dy=\"2em\" fill=\"currentColor\" x=\"650\">PROPN</tspan>\n",
       "</text>\n",
       "\n",
       "<text class=\"displacy-token\" fill=\"currentColor\" text-anchor=\"middle\" y=\"347.0\">\n",
       "    <tspan class=\"displacy-word\" fill=\"currentColor\" x=\"800\">sold</tspan>\n",
       "    <tspan class=\"displacy-tag\" dy=\"2em\" fill=\"currentColor\" x=\"800\">VERB</tspan>\n",
       "</text>\n",
       "\n",
       "<text class=\"displacy-token\" fill=\"currentColor\" text-anchor=\"middle\" y=\"347.0\">\n",
       "    <tspan class=\"displacy-word\" fill=\"currentColor\" x=\"950\">nearly</tspan>\n",
       "    <tspan class=\"displacy-tag\" dy=\"2em\" fill=\"currentColor\" x=\"950\">ADV</tspan>\n",
       "</text>\n",
       "\n",
       "<text class=\"displacy-token\" fill=\"currentColor\" text-anchor=\"middle\" y=\"347.0\">\n",
       "    <tspan class=\"displacy-word\" fill=\"currentColor\" x=\"1100\">20</tspan>\n",
       "    <tspan class=\"displacy-tag\" dy=\"2em\" fill=\"currentColor\" x=\"1100\">NUM</tspan>\n",
       "</text>\n",
       "\n",
       "<text class=\"displacy-token\" fill=\"currentColor\" text-anchor=\"middle\" y=\"347.0\">\n",
       "    <tspan class=\"displacy-word\" fill=\"currentColor\" x=\"1250\">thousand</tspan>\n",
       "    <tspan class=\"displacy-tag\" dy=\"2em\" fill=\"currentColor\" x=\"1250\">NUM</tspan>\n",
       "</text>\n",
       "\n",
       "<text class=\"displacy-token\" fill=\"currentColor\" text-anchor=\"middle\" y=\"347.0\">\n",
       "    <tspan class=\"displacy-word\" fill=\"currentColor\" x=\"1400\">iPods</tspan>\n",
       "    <tspan class=\"displacy-tag\" dy=\"2em\" fill=\"currentColor\" x=\"1400\">PROPN</tspan>\n",
       "</text>\n",
       "\n",
       "<text class=\"displacy-token\" fill=\"currentColor\" text-anchor=\"middle\" y=\"347.0\">\n",
       "    <tspan class=\"displacy-word\" fill=\"currentColor\" x=\"1550\">for</tspan>\n",
       "    <tspan class=\"displacy-tag\" dy=\"2em\" fill=\"currentColor\" x=\"1550\">ADP</tspan>\n",
       "</text>\n",
       "\n",
       "<text class=\"displacy-token\" fill=\"currentColor\" text-anchor=\"middle\" y=\"347.0\">\n",
       "    <tspan class=\"displacy-word\" fill=\"currentColor\" x=\"1700\">a</tspan>\n",
       "    <tspan class=\"displacy-tag\" dy=\"2em\" fill=\"currentColor\" x=\"1700\">DET</tspan>\n",
       "</text>\n",
       "\n",
       "<text class=\"displacy-token\" fill=\"currentColor\" text-anchor=\"middle\" y=\"347.0\">\n",
       "    <tspan class=\"displacy-word\" fill=\"currentColor\" x=\"1850\">profit</tspan>\n",
       "    <tspan class=\"displacy-tag\" dy=\"2em\" fill=\"currentColor\" x=\"1850\">NOUN</tspan>\n",
       "</text>\n",
       "\n",
       "<text class=\"displacy-token\" fill=\"currentColor\" text-anchor=\"middle\" y=\"347.0\">\n",
       "    <tspan class=\"displacy-word\" fill=\"currentColor\" x=\"2000\">of</tspan>\n",
       "    <tspan class=\"displacy-tag\" dy=\"2em\" fill=\"currentColor\" x=\"2000\">ADP</tspan>\n",
       "</text>\n",
       "\n",
       "<text class=\"displacy-token\" fill=\"currentColor\" text-anchor=\"middle\" y=\"347.0\">\n",
       "    <tspan class=\"displacy-word\" fill=\"currentColor\" x=\"2150\">$</tspan>\n",
       "    <tspan class=\"displacy-tag\" dy=\"2em\" fill=\"currentColor\" x=\"2150\">SYM</tspan>\n",
       "</text>\n",
       "\n",
       "<text class=\"displacy-token\" fill=\"currentColor\" text-anchor=\"middle\" y=\"347.0\">\n",
       "    <tspan class=\"displacy-word\" fill=\"currentColor\" x=\"2300\">6</tspan>\n",
       "    <tspan class=\"displacy-tag\" dy=\"2em\" fill=\"currentColor\" x=\"2300\">NUM</tspan>\n",
       "</text>\n",
       "\n",
       "<text class=\"displacy-token\" fill=\"currentColor\" text-anchor=\"middle\" y=\"347.0\">\n",
       "    <tspan class=\"displacy-word\" fill=\"currentColor\" x=\"2450\">Million.</tspan>\n",
       "    <tspan class=\"displacy-tag\" dy=\"2em\" fill=\"currentColor\" x=\"2450\">NUM</tspan>\n",
       "</text>\n",
       "\n",
       "<g class=\"displacy-arrow\">\n",
       "    <path class=\"displacy-arc\" id=\"arrow-4b4bf365654a43008bef5fd5d93c094f-0-0\" stroke-width=\"2px\" d=\"M70,302.0 C70,2.0 800.0,2.0 800.0,302.0\" fill=\"none\" stroke=\"currentColor\"/>\n",
       "    <text dy=\"1.25em\" style=\"font-size: 0.8em; letter-spacing: 1px\">\n",
       "        <textPath xlink:href=\"#arrow-4b4bf365654a43008bef5fd5d93c094f-0-0\" class=\"displacy-label\" startOffset=\"50%\" side=\"left\" fill=\"currentColor\" text-anchor=\"middle\">prep</textPath>\n",
       "    </text>\n",
       "    <path class=\"displacy-arrowhead\" d=\"M70,304.0 L62,292.0 78,292.0\" fill=\"currentColor\"/>\n",
       "</g>\n",
       "\n",
       "<g class=\"displacy-arrow\">\n",
       "    <path class=\"displacy-arc\" id=\"arrow-4b4bf365654a43008bef5fd5d93c094f-0-1\" stroke-width=\"2px\" d=\"M220,302.0 C220,152.0 490.0,152.0 490.0,302.0\" fill=\"none\" stroke=\"currentColor\"/>\n",
       "    <text dy=\"1.25em\" style=\"font-size: 0.8em; letter-spacing: 1px\">\n",
       "        <textPath xlink:href=\"#arrow-4b4bf365654a43008bef5fd5d93c094f-0-1\" class=\"displacy-label\" startOffset=\"50%\" side=\"left\" fill=\"currentColor\" text-anchor=\"middle\">det</textPath>\n",
       "    </text>\n",
       "    <path class=\"displacy-arrowhead\" d=\"M220,304.0 L212,292.0 228,292.0\" fill=\"currentColor\"/>\n",
       "</g>\n",
       "\n",
       "<g class=\"displacy-arrow\">\n",
       "    <path class=\"displacy-arc\" id=\"arrow-4b4bf365654a43008bef5fd5d93c094f-0-2\" stroke-width=\"2px\" d=\"M370,302.0 C370,227.0 485.0,227.0 485.0,302.0\" fill=\"none\" stroke=\"currentColor\"/>\n",
       "    <text dy=\"1.25em\" style=\"font-size: 0.8em; letter-spacing: 1px\">\n",
       "        <textPath xlink:href=\"#arrow-4b4bf365654a43008bef5fd5d93c094f-0-2\" class=\"displacy-label\" startOffset=\"50%\" side=\"left\" fill=\"currentColor\" text-anchor=\"middle\">amod</textPath>\n",
       "    </text>\n",
       "    <path class=\"displacy-arrowhead\" d=\"M370,304.0 L362,292.0 378,292.0\" fill=\"currentColor\"/>\n",
       "</g>\n",
       "\n",
       "<g class=\"displacy-arrow\">\n",
       "    <path class=\"displacy-arc\" id=\"arrow-4b4bf365654a43008bef5fd5d93c094f-0-3\" stroke-width=\"2px\" d=\"M70,302.0 C70,77.0 495.0,77.0 495.0,302.0\" fill=\"none\" stroke=\"currentColor\"/>\n",
       "    <text dy=\"1.25em\" style=\"font-size: 0.8em; letter-spacing: 1px\">\n",
       "        <textPath xlink:href=\"#arrow-4b4bf365654a43008bef5fd5d93c094f-0-3\" class=\"displacy-label\" startOffset=\"50%\" side=\"left\" fill=\"currentColor\" text-anchor=\"middle\">pobj</textPath>\n",
       "    </text>\n",
       "    <path class=\"displacy-arrowhead\" d=\"M495.0,304.0 L503.0,292.0 487.0,292.0\" fill=\"currentColor\"/>\n",
       "</g>\n",
       "\n",
       "<g class=\"displacy-arrow\">\n",
       "    <path class=\"displacy-arc\" id=\"arrow-4b4bf365654a43008bef5fd5d93c094f-0-4\" stroke-width=\"2px\" d=\"M670,302.0 C670,227.0 785.0,227.0 785.0,302.0\" fill=\"none\" stroke=\"currentColor\"/>\n",
       "    <text dy=\"1.25em\" style=\"font-size: 0.8em; letter-spacing: 1px\">\n",
       "        <textPath xlink:href=\"#arrow-4b4bf365654a43008bef5fd5d93c094f-0-4\" class=\"displacy-label\" startOffset=\"50%\" side=\"left\" fill=\"currentColor\" text-anchor=\"middle\">nsubj</textPath>\n",
       "    </text>\n",
       "    <path class=\"displacy-arrowhead\" d=\"M670,304.0 L662,292.0 678,292.0\" fill=\"currentColor\"/>\n",
       "</g>\n",
       "\n",
       "<g class=\"displacy-arrow\">\n",
       "    <path class=\"displacy-arc\" id=\"arrow-4b4bf365654a43008bef5fd5d93c094f-0-5\" stroke-width=\"2px\" d=\"M970,302.0 C970,152.0 1240.0,152.0 1240.0,302.0\" fill=\"none\" stroke=\"currentColor\"/>\n",
       "    <text dy=\"1.25em\" style=\"font-size: 0.8em; letter-spacing: 1px\">\n",
       "        <textPath xlink:href=\"#arrow-4b4bf365654a43008bef5fd5d93c094f-0-5\" class=\"displacy-label\" startOffset=\"50%\" side=\"left\" fill=\"currentColor\" text-anchor=\"middle\">advmod</textPath>\n",
       "    </text>\n",
       "    <path class=\"displacy-arrowhead\" d=\"M970,304.0 L962,292.0 978,292.0\" fill=\"currentColor\"/>\n",
       "</g>\n",
       "\n",
       "<g class=\"displacy-arrow\">\n",
       "    <path class=\"displacy-arc\" id=\"arrow-4b4bf365654a43008bef5fd5d93c094f-0-6\" stroke-width=\"2px\" d=\"M1120,302.0 C1120,227.0 1235.0,227.0 1235.0,302.0\" fill=\"none\" stroke=\"currentColor\"/>\n",
       "    <text dy=\"1.25em\" style=\"font-size: 0.8em; letter-spacing: 1px\">\n",
       "        <textPath xlink:href=\"#arrow-4b4bf365654a43008bef5fd5d93c094f-0-6\" class=\"displacy-label\" startOffset=\"50%\" side=\"left\" fill=\"currentColor\" text-anchor=\"middle\">compound</textPath>\n",
       "    </text>\n",
       "    <path class=\"displacy-arrowhead\" d=\"M1120,304.0 L1112,292.0 1128,292.0\" fill=\"currentColor\"/>\n",
       "</g>\n",
       "\n",
       "<g class=\"displacy-arrow\">\n",
       "    <path class=\"displacy-arc\" id=\"arrow-4b4bf365654a43008bef5fd5d93c094f-0-7\" stroke-width=\"2px\" d=\"M1270,302.0 C1270,227.0 1385.0,227.0 1385.0,302.0\" fill=\"none\" stroke=\"currentColor\"/>\n",
       "    <text dy=\"1.25em\" style=\"font-size: 0.8em; letter-spacing: 1px\">\n",
       "        <textPath xlink:href=\"#arrow-4b4bf365654a43008bef5fd5d93c094f-0-7\" class=\"displacy-label\" startOffset=\"50%\" side=\"left\" fill=\"currentColor\" text-anchor=\"middle\">nummod</textPath>\n",
       "    </text>\n",
       "    <path class=\"displacy-arrowhead\" d=\"M1270,304.0 L1262,292.0 1278,292.0\" fill=\"currentColor\"/>\n",
       "</g>\n",
       "\n",
       "<g class=\"displacy-arrow\">\n",
       "    <path class=\"displacy-arc\" id=\"arrow-4b4bf365654a43008bef5fd5d93c094f-0-8\" stroke-width=\"2px\" d=\"M820,302.0 C820,77.0 1395.0,77.0 1395.0,302.0\" fill=\"none\" stroke=\"currentColor\"/>\n",
       "    <text dy=\"1.25em\" style=\"font-size: 0.8em; letter-spacing: 1px\">\n",
       "        <textPath xlink:href=\"#arrow-4b4bf365654a43008bef5fd5d93c094f-0-8\" class=\"displacy-label\" startOffset=\"50%\" side=\"left\" fill=\"currentColor\" text-anchor=\"middle\">dobj</textPath>\n",
       "    </text>\n",
       "    <path class=\"displacy-arrowhead\" d=\"M1395.0,304.0 L1403.0,292.0 1387.0,292.0\" fill=\"currentColor\"/>\n",
       "</g>\n",
       "\n",
       "<g class=\"displacy-arrow\">\n",
       "    <path class=\"displacy-arc\" id=\"arrow-4b4bf365654a43008bef5fd5d93c094f-0-9\" stroke-width=\"2px\" d=\"M820,302.0 C820,2.0 1550.0,2.0 1550.0,302.0\" fill=\"none\" stroke=\"currentColor\"/>\n",
       "    <text dy=\"1.25em\" style=\"font-size: 0.8em; letter-spacing: 1px\">\n",
       "        <textPath xlink:href=\"#arrow-4b4bf365654a43008bef5fd5d93c094f-0-9\" class=\"displacy-label\" startOffset=\"50%\" side=\"left\" fill=\"currentColor\" text-anchor=\"middle\">prep</textPath>\n",
       "    </text>\n",
       "    <path class=\"displacy-arrowhead\" d=\"M1550.0,304.0 L1558.0,292.0 1542.0,292.0\" fill=\"currentColor\"/>\n",
       "</g>\n",
       "\n",
       "<g class=\"displacy-arrow\">\n",
       "    <path class=\"displacy-arc\" id=\"arrow-4b4bf365654a43008bef5fd5d93c094f-0-10\" stroke-width=\"2px\" d=\"M1720,302.0 C1720,227.0 1835.0,227.0 1835.0,302.0\" fill=\"none\" stroke=\"currentColor\"/>\n",
       "    <text dy=\"1.25em\" style=\"font-size: 0.8em; letter-spacing: 1px\">\n",
       "        <textPath xlink:href=\"#arrow-4b4bf365654a43008bef5fd5d93c094f-0-10\" class=\"displacy-label\" startOffset=\"50%\" side=\"left\" fill=\"currentColor\" text-anchor=\"middle\">det</textPath>\n",
       "    </text>\n",
       "    <path class=\"displacy-arrowhead\" d=\"M1720,304.0 L1712,292.0 1728,292.0\" fill=\"currentColor\"/>\n",
       "</g>\n",
       "\n",
       "<g class=\"displacy-arrow\">\n",
       "    <path class=\"displacy-arc\" id=\"arrow-4b4bf365654a43008bef5fd5d93c094f-0-11\" stroke-width=\"2px\" d=\"M1570,302.0 C1570,152.0 1840.0,152.0 1840.0,302.0\" fill=\"none\" stroke=\"currentColor\"/>\n",
       "    <text dy=\"1.25em\" style=\"font-size: 0.8em; letter-spacing: 1px\">\n",
       "        <textPath xlink:href=\"#arrow-4b4bf365654a43008bef5fd5d93c094f-0-11\" class=\"displacy-label\" startOffset=\"50%\" side=\"left\" fill=\"currentColor\" text-anchor=\"middle\">pobj</textPath>\n",
       "    </text>\n",
       "    <path class=\"displacy-arrowhead\" d=\"M1840.0,304.0 L1848.0,292.0 1832.0,292.0\" fill=\"currentColor\"/>\n",
       "</g>\n",
       "\n",
       "<g class=\"displacy-arrow\">\n",
       "    <path class=\"displacy-arc\" id=\"arrow-4b4bf365654a43008bef5fd5d93c094f-0-12\" stroke-width=\"2px\" d=\"M1870,302.0 C1870,227.0 1985.0,227.0 1985.0,302.0\" fill=\"none\" stroke=\"currentColor\"/>\n",
       "    <text dy=\"1.25em\" style=\"font-size: 0.8em; letter-spacing: 1px\">\n",
       "        <textPath xlink:href=\"#arrow-4b4bf365654a43008bef5fd5d93c094f-0-12\" class=\"displacy-label\" startOffset=\"50%\" side=\"left\" fill=\"currentColor\" text-anchor=\"middle\">prep</textPath>\n",
       "    </text>\n",
       "    <path class=\"displacy-arrowhead\" d=\"M1985.0,304.0 L1993.0,292.0 1977.0,292.0\" fill=\"currentColor\"/>\n",
       "</g>\n",
       "\n",
       "<g class=\"displacy-arrow\">\n",
       "    <path class=\"displacy-arc\" id=\"arrow-4b4bf365654a43008bef5fd5d93c094f-0-13\" stroke-width=\"2px\" d=\"M2170,302.0 C2170,152.0 2440.0,152.0 2440.0,302.0\" fill=\"none\" stroke=\"currentColor\"/>\n",
       "    <text dy=\"1.25em\" style=\"font-size: 0.8em; letter-spacing: 1px\">\n",
       "        <textPath xlink:href=\"#arrow-4b4bf365654a43008bef5fd5d93c094f-0-13\" class=\"displacy-label\" startOffset=\"50%\" side=\"left\" fill=\"currentColor\" text-anchor=\"middle\">quantmod</textPath>\n",
       "    </text>\n",
       "    <path class=\"displacy-arrowhead\" d=\"M2170,304.0 L2162,292.0 2178,292.0\" fill=\"currentColor\"/>\n",
       "</g>\n",
       "\n",
       "<g class=\"displacy-arrow\">\n",
       "    <path class=\"displacy-arc\" id=\"arrow-4b4bf365654a43008bef5fd5d93c094f-0-14\" stroke-width=\"2px\" d=\"M2320,302.0 C2320,227.0 2435.0,227.0 2435.0,302.0\" fill=\"none\" stroke=\"currentColor\"/>\n",
       "    <text dy=\"1.25em\" style=\"font-size: 0.8em; letter-spacing: 1px\">\n",
       "        <textPath xlink:href=\"#arrow-4b4bf365654a43008bef5fd5d93c094f-0-14\" class=\"displacy-label\" startOffset=\"50%\" side=\"left\" fill=\"currentColor\" text-anchor=\"middle\">compound</textPath>\n",
       "    </text>\n",
       "    <path class=\"displacy-arrowhead\" d=\"M2320,304.0 L2312,292.0 2328,292.0\" fill=\"currentColor\"/>\n",
       "</g>\n",
       "\n",
       "<g class=\"displacy-arrow\">\n",
       "    <path class=\"displacy-arc\" id=\"arrow-4b4bf365654a43008bef5fd5d93c094f-0-15\" stroke-width=\"2px\" d=\"M2020,302.0 C2020,77.0 2445.0,77.0 2445.0,302.0\" fill=\"none\" stroke=\"currentColor\"/>\n",
       "    <text dy=\"1.25em\" style=\"font-size: 0.8em; letter-spacing: 1px\">\n",
       "        <textPath xlink:href=\"#arrow-4b4bf365654a43008bef5fd5d93c094f-0-15\" class=\"displacy-label\" startOffset=\"50%\" side=\"left\" fill=\"currentColor\" text-anchor=\"middle\">pobj</textPath>\n",
       "    </text>\n",
       "    <path class=\"displacy-arrowhead\" d=\"M2445.0,304.0 L2453.0,292.0 2437.0,292.0\" fill=\"currentColor\"/>\n",
       "</g>\n",
       "</svg></span>"
      ],
      "text/plain": [
       "<IPython.core.display.HTML object>"
      ]
     },
     "metadata": {},
     "output_type": "display_data"
    }
   ],
   "source": [
    "displacy.render(doc, style=\"dep\", jupyter=True, options={\"distance\":150})"
   ]
  },
  {
   "cell_type": "code",
   "execution_count": 182,
   "id": "39f69482-3572-4178-9917-a861cbcfc09e",
   "metadata": {},
   "outputs": [],
   "source": [
    "#Visualising the entity recognizer."
   ]
  },
  {
   "cell_type": "code",
   "execution_count": 184,
   "id": "653ea0c6-bd9b-4f5c-aa59-9229b5284daf",
   "metadata": {},
   "outputs": [],
   "source": [
    "doc=nlp(\"Apple is going to buid a U.K. factory for $6 million.\")"
   ]
  },
  {
   "cell_type": "code",
   "execution_count": 186,
   "id": "c7ec83cc-d0c7-4aab-a4b9-4513e0432e7f",
   "metadata": {},
   "outputs": [
    {
     "data": {
      "text/html": [
       "<span class=\"tex2jax_ignore\"><div class=\"entities\" style=\"line-height: 2.5; direction: ltr\">\n",
       "<mark class=\"entity\" style=\"background: #7aecec; padding: 0.45em 0.6em; margin: 0 0.25em; line-height: 1; border-radius: 0.35em;\">\n",
       "    Apple\n",
       "    <span style=\"font-size: 0.8em; font-weight: bold; line-height: 1; border-radius: 0.35em; vertical-align: middle; margin-left: 0.5rem\">ORG</span>\n",
       "</mark>\n",
       " is going to buid a \n",
       "<mark class=\"entity\" style=\"background: #feca74; padding: 0.45em 0.6em; margin: 0 0.25em; line-height: 1; border-radius: 0.35em;\">\n",
       "    U.K.\n",
       "    <span style=\"font-size: 0.8em; font-weight: bold; line-height: 1; border-radius: 0.35em; vertical-align: middle; margin-left: 0.5rem\">GPE</span>\n",
       "</mark>\n",
       " factory for \n",
       "<mark class=\"entity\" style=\"background: #e4e7d2; padding: 0.45em 0.6em; margin: 0 0.25em; line-height: 1; border-radius: 0.35em;\">\n",
       "    $6 million\n",
       "    <span style=\"font-size: 0.8em; font-weight: bold; line-height: 1; border-radius: 0.35em; vertical-align: middle; margin-left: 0.5rem\">MONEY</span>\n",
       "</mark>\n",
       ".</div></span>"
      ],
      "text/plain": [
       "<IPython.core.display.HTML object>"
      ]
     },
     "metadata": {},
     "output_type": "display_data"
    }
   ],
   "source": [
    "displacy.render(doc, style=\"ent\", jupyter=True)"
   ]
  },
  {
   "cell_type": "code",
   "execution_count": 188,
   "id": "ba8fc6da-3dfc-4d35-82d1-84db44f9a38e",
   "metadata": {},
   "outputs": [],
   "source": [
    "doc=nlp(\"Over the last quarter Apple sold nearly 20 thousand iPods for a profit of $6 Million.\")"
   ]
  },
  {
   "cell_type": "code",
   "execution_count": 190,
   "id": "93ff9503-f2be-4b68-a4d3-d5491fbd87a7",
   "metadata": {},
   "outputs": [
    {
     "data": {
      "text/html": [
       "<span class=\"tex2jax_ignore\"><div class=\"entities\" style=\"line-height: 2.5; direction: ltr\">Over \n",
       "<mark class=\"entity\" style=\"background: #bfe1d9; padding: 0.45em 0.6em; margin: 0 0.25em; line-height: 1; border-radius: 0.35em;\">\n",
       "    the last quarter\n",
       "    <span style=\"font-size: 0.8em; font-weight: bold; line-height: 1; border-radius: 0.35em; vertical-align: middle; margin-left: 0.5rem\">DATE</span>\n",
       "</mark>\n",
       " \n",
       "<mark class=\"entity\" style=\"background: #7aecec; padding: 0.45em 0.6em; margin: 0 0.25em; line-height: 1; border-radius: 0.35em;\">\n",
       "    Apple\n",
       "    <span style=\"font-size: 0.8em; font-weight: bold; line-height: 1; border-radius: 0.35em; vertical-align: middle; margin-left: 0.5rem\">ORG</span>\n",
       "</mark>\n",
       " sold \n",
       "<mark class=\"entity\" style=\"background: #e4e7d2; padding: 0.45em 0.6em; margin: 0 0.25em; line-height: 1; border-radius: 0.35em;\">\n",
       "    nearly 20 thousand\n",
       "    <span style=\"font-size: 0.8em; font-weight: bold; line-height: 1; border-radius: 0.35em; vertical-align: middle; margin-left: 0.5rem\">CARDINAL</span>\n",
       "</mark>\n",
       " \n",
       "<mark class=\"entity\" style=\"background: #bfeeb7; padding: 0.45em 0.6em; margin: 0 0.25em; line-height: 1; border-radius: 0.35em;\">\n",
       "    iPods\n",
       "    <span style=\"font-size: 0.8em; font-weight: bold; line-height: 1; border-radius: 0.35em; vertical-align: middle; margin-left: 0.5rem\">PRODUCT</span>\n",
       "</mark>\n",
       " for a profit of \n",
       "<mark class=\"entity\" style=\"background: #e4e7d2; padding: 0.45em 0.6em; margin: 0 0.25em; line-height: 1; border-radius: 0.35em;\">\n",
       "    $6 Million\n",
       "    <span style=\"font-size: 0.8em; font-weight: bold; line-height: 1; border-radius: 0.35em; vertical-align: middle; margin-left: 0.5rem\">MONEY</span>\n",
       "</mark>\n",
       ".</div></span>"
      ],
      "text/plain": [
       "<IPython.core.display.HTML object>"
      ]
     },
     "metadata": {},
     "output_type": "display_data"
    }
   ],
   "source": [
    "displacy.render(doc, style=\"ent\", jupyter=True)"
   ]
  },
  {
   "cell_type": "code",
   "execution_count": null,
   "id": "f142ae71-a62b-4502-b2fe-1e3d6ba1c8da",
   "metadata": {},
   "outputs": [],
   "source": []
  }
 ],
 "metadata": {
  "kernelspec": {
   "display_name": "Python 3 (ipykernel)",
   "language": "python",
   "name": "python3"
  },
  "language_info": {
   "codemirror_mode": {
    "name": "ipython",
    "version": 3
   },
   "file_extension": ".py",
   "mimetype": "text/x-python",
   "name": "python",
   "nbconvert_exporter": "python",
   "pygments_lexer": "ipython3",
   "version": "3.11.9"
  }
 },
 "nbformat": 4,
 "nbformat_minor": 5
}
