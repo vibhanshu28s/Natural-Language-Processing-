{
 "cells": [
  {
   "cell_type": "code",
   "execution_count": null,
   "id": "f8b22d0a-d17b-4441-bbe5-1546716cac62",
   "metadata": {},
   "outputs": [],
   "source": [
    "#Porter Stemmer"
   ]
  },
  {
   "cell_type": "code",
   "execution_count": 25,
   "id": "41f59144-5a4b-4d21-a063-891f2862ca59",
   "metadata": {},
   "outputs": [],
   "source": [
    "import nltk\n",
    "from nltk.stem.snowball import SnowballStemmer\n",
    "import spacy"
   ]
  },
  {
   "cell_type": "code",
   "execution_count": 15,
   "id": "8e98918c-039d-4e9d-a44f-fbfbb325ef78",
   "metadata": {},
   "outputs": [],
   "source": [
    "from nltk.stem.porter import PorterStemmer"
   ]
  },
  {
   "cell_type": "code",
   "execution_count": 38,
   "id": "590de51d-b770-452f-9723-53cd4d740437",
   "metadata": {},
   "outputs": [],
   "source": [
    "nlp=spacy.load(\"en_core_web_sm\")"
   ]
  },
  {
   "cell_type": "code",
   "execution_count": 17,
   "id": "eb00521a-82a4-4aff-ae23-b9d7359a349a",
   "metadata": {},
   "outputs": [],
   "source": [
    "p_stemmer=PorterStemmer()"
   ]
  },
  {
   "cell_type": "code",
   "execution_count": 7,
   "id": "eb8b898f-6b8b-46a2-9559-283115d4e40d",
   "metadata": {},
   "outputs": [],
   "source": [
    "words=[\"run\",\"runner\",\"running\",\"ran\",\"runs\",\"easily\",\"fairly\"]"
   ]
  },
  {
   "cell_type": "code",
   "execution_count": 11,
   "id": "24f4f7af-31de-41cb-b088-96e4947328cd",
   "metadata": {},
   "outputs": [
    {
     "name": "stdout",
     "output_type": "stream",
     "text": [
      "run --> run\n",
      "runner --> runner\n",
      "running --> run\n",
      "ran --> ran\n",
      "runs --> run\n",
      "easily --> easili\n",
      "fairly --> fairli\n"
     ]
    }
   ],
   "source": [
    "for word in words:\n",
    "    print(word+\" --> \"+p_stemmer.stem(word))"
   ]
  },
  {
   "cell_type": "code",
   "execution_count": 13,
   "id": "c699dc0b-1c7e-4d6d-92d0-d282b4519378",
   "metadata": {},
   "outputs": [],
   "source": [
    "#SnowBall Stemmer"
   ]
  },
  {
   "cell_type": "code",
   "execution_count": 9,
   "id": "613d6b2f-b496-4071-9ad1-5130e87cb7ce",
   "metadata": {},
   "outputs": [],
   "source": [
    "s_stemmer=SnowballStemmer(language=\"english\")"
   ]
  },
  {
   "cell_type": "code",
   "execution_count": 29,
   "id": "361d69e0-c845-4195-aaae-e9a00bc086f1",
   "metadata": {},
   "outputs": [],
   "source": [
    "words=[\"run\",\"runner\",\"running\",\"ran\",\"runs\",\"easily\",\"fairly\"]"
   ]
  },
  {
   "cell_type": "code",
   "execution_count": 31,
   "id": "24a85d86-64e6-4f81-985c-8b2f7b29dd58",
   "metadata": {},
   "outputs": [
    {
     "name": "stdout",
     "output_type": "stream",
     "text": [
      "run --> run\n",
      "runner --> runner\n",
      "running --> run\n",
      "ran --> ran\n",
      "runs --> run\n",
      "easily --> easili\n",
      "fairly --> fair\n"
     ]
    }
   ],
   "source": [
    "for word in words:\n",
    "    print(word+\" --> \"+s_stemmer.stem(word))"
   ]
  },
  {
   "cell_type": "code",
   "execution_count": 5,
   "id": "e8884314-5553-415a-9618-2530bba49f95",
   "metadata": {},
   "outputs": [],
   "source": [
    "words=[\"cocsolingly\"] # - Do both Stemmer H.W."
   ]
  },
  {
   "cell_type": "code",
   "execution_count": 19,
   "id": "e01aeda2-b7a5-4c3f-b261-12307bdb03ae",
   "metadata": {},
   "outputs": [
    {
     "name": "stdout",
     "output_type": "stream",
     "text": [
      "cocsolingly --> cocsolingli\n",
      "cocsolingly --> cocsol\n"
     ]
    }
   ],
   "source": [
    "for word in words:\n",
    "    print(word+\" --> \"+p_stemmer.stem(word))\n",
    "    print(word+\" --> \"+s_stemmer.stem(word))"
   ]
  },
  {
   "cell_type": "code",
   "execution_count": 46,
   "id": "8d20d86d-9f51-4093-8b36-c44b82d230ad",
   "metadata": {},
   "outputs": [],
   "source": [
    "phrase=\"I am meeting him tomarrow at the meeting\""
   ]
  },
  {
   "cell_type": "code",
   "execution_count": 48,
   "id": "27a49f10-aaa5-4c6f-bfae-6253e404c478",
   "metadata": {},
   "outputs": [],
   "source": [
    "phrase1=nlp(\"I am meeting him tomarrow at the meeting\")"
   ]
  },
  {
   "cell_type": "code",
   "execution_count": 50,
   "id": "575353a4-7fdd-4324-9748-472711059654",
   "metadata": {},
   "outputs": [
    {
     "name": "stdout",
     "output_type": "stream",
     "text": [
      "I --> i\n",
      "am --> am\n",
      "meeting --> meet\n",
      "him --> him\n",
      "tomarrow --> tomarrow\n",
      "at --> at\n",
      "the --> the\n",
      "meeting --> meet\n"
     ]
    }
   ],
   "source": [
    "for word in phrase.split():\n",
    "    print(word+\" --> \"+s_stemmer.stem(word))"
   ]
  },
  {
   "cell_type": "code",
   "execution_count": 52,
   "id": "37605c29-1df7-4785-bebe-3e53c9e89c40",
   "metadata": {},
   "outputs": [
    {
     "name": "stdout",
     "output_type": "stream",
     "text": [
      "I PRON nsubj\n",
      "am AUX aux\n",
      "meeting VERB ROOT\n",
      "him PRON dative\n",
      "tomarrow NOUN dobj\n",
      "at ADP prep\n",
      "the DET det\n",
      "meeting NOUN pobj\n"
     ]
    }
   ],
   "source": [
    "for token in phrase1:\n",
    "    print(token.text,token.pos_,token.dep_)"
   ]
  },
  {
   "cell_type": "code",
   "execution_count": 54,
   "id": "5e42c1c2-6e2f-4ad7-90e5-c5364069f4e4",
   "metadata": {},
   "outputs": [],
   "source": [
    "#Lemmatizatioin"
   ]
  },
  {
   "cell_type": "code",
   "execution_count": 56,
   "id": "b724f896-f006-4ac5-ba4b-3bc269bf96a6",
   "metadata": {},
   "outputs": [],
   "source": [
    "doc1=nlp(\"I am a runner running in a race because I love to run since I ran today\")"
   ]
  },
  {
   "cell_type": "code",
   "execution_count": 58,
   "id": "6a60f55b-14fd-4918-b47e-5693985d48c8",
   "metadata": {},
   "outputs": [
    {
     "name": "stdout",
     "output_type": "stream",
     "text": [
      "I \t PRON \t 4690420944186131903 \t I\n",
      "am \t AUX \t 10382539506755952630 \t be\n",
      "a \t DET \t 11901859001352538922 \t a\n",
      "runner \t NOUN \t 12640964157389618806 \t runner\n",
      "running \t VERB \t 12767647472892411841 \t run\n",
      "in \t ADP \t 3002984154512732771 \t in\n",
      "a \t DET \t 11901859001352538922 \t a\n",
      "race \t NOUN \t 8048469955494714898 \t race\n",
      "because \t SCONJ \t 16950148841647037698 \t because\n",
      "I \t PRON \t 4690420944186131903 \t I\n",
      "love \t VERB \t 3702023516439754181 \t love\n",
      "to \t PART \t 3791531372978436496 \t to\n",
      "run \t VERB \t 12767647472892411841 \t run\n",
      "since \t SCONJ \t 10066841407251338481 \t since\n",
      "I \t PRON \t 4690420944186131903 \t I\n",
      "ran \t VERB \t 12767647472892411841 \t run\n",
      "today \t NOUN \t 11042482332948150395 \t today\n"
     ]
    }
   ],
   "source": [
    "for token in doc1:\n",
    "    print(token.text,\"\\t\",token.pos_,\"\\t\",token.lemma,\"\\t\",token.lemma_)"
   ]
  },
  {
   "cell_type": "code",
   "execution_count": 80,
   "id": "a3f89ab7-fee8-4497-99de-b43194dcf71a",
   "metadata": {},
   "outputs": [],
   "source": [
    "words=nlp(\"fairly\")"
   ]
  },
  {
   "cell_type": "code",
   "execution_count": 82,
   "id": "c7c08483-3c6a-4eb8-a5e1-1386bf813f31",
   "metadata": {},
   "outputs": [
    {
     "name": "stdout",
     "output_type": "stream",
     "text": [
      "fairly \t ADV \t 17576046047103189829 \t fairly\n"
     ]
    }
   ],
   "source": [
    "for token in words:\n",
    "    print(token.text,\"\\t\",token.pos_,\"\\t\",token.lemma,\"\\t\",token.lemma_)"
   ]
  },
  {
   "cell_type": "code",
   "execution_count": 84,
   "id": "dabafa04-b820-4bdf-91e7-72c2b84f921f",
   "metadata": {},
   "outputs": [],
   "source": [
    "#Fun. to display lemma"
   ]
  },
  {
   "cell_type": "code",
   "execution_count": 112,
   "id": "ca5212c1-95a1-474e-859e-ff21f6efe553",
   "metadata": {},
   "outputs": [],
   "source": [
    "def show_lemmas(text):\n",
    "    for token in text:\n",
    "        print(f\"{token.text:{12}} {token.pos_:{6}} {token.lemma:<{22}} {token.lemma_}\")"
   ]
  },
  {
   "cell_type": "code",
   "execution_count": 114,
   "id": "a81efafc-6014-418b-8d80-73608a707d0e",
   "metadata": {},
   "outputs": [
    {
     "name": "stdout",
     "output_type": "stream",
     "text": [
      "I            PRON   4690420944186131903    I\n",
      "saw          VERB   11925638236994514241   see\n",
      "eighteen     NUM    9609336664675087640    eighteen\n",
      "mice         NOUN   1384165645700560590    mouse\n",
      "today        NOUN   11042482332948150395   today\n"
     ]
    }
   ],
   "source": [
    "doc2=nlp(\"I saw eighteen mice today\")\n",
    "show_lemmas(doc2)"
   ]
  },
  {
   "cell_type": "code",
   "execution_count": 116,
   "id": "792347b5-85bc-4d55-a12a-2fc99c051ba4",
   "metadata": {},
   "outputs": [
    {
     "name": "stdout",
     "output_type": "stream",
     "text": [
      "I            PRON   4690420944186131903    I\n",
      "am           AUX    10382539506755952630   be\n",
      "meeting      VERB   6880656908171229526    meet\n",
      "him          PRON   1655312771067108281    he\n",
      "tomarrow     NOUN   1645375900801274856    tomarrow\n",
      "at           ADP    11667289587015813222   at\n",
      "the          DET    7425985699627899538    the\n",
      "meeting      NOUN   14798207169164081740   meeting\n"
     ]
    }
   ],
   "source": [
    "doc3=nlp(\"I am meeting him tomarrow at the meeting\")\n",
    "show_lemmas(doc3)"
   ]
  },
  {
   "cell_type": "code",
   "execution_count": 160,
   "id": "eaa01dee-e5f0-4950-aba1-1213746c59d8",
   "metadata": {},
   "outputs": [
    {
     "name": "stdout",
     "output_type": "stream",
     "text": [
      "That         PRON   4380130941430378203    that\n",
      "'s           AUX    10382539506755952630   be\n",
      "an           DET    15099054000809333061   an\n",
      "enormous     ADJ    17917224542039855524   enormous\n",
      "automobile   NOUN   7211811266693931283    automobile\n"
     ]
    }
   ],
   "source": [
    "doc4=nlp(\"That's an enormous automobile\")\n",
    "show_lemmas(doc4)"
   ]
  },
  {
   "cell_type": "code",
   "execution_count": 162,
   "id": "3e130f8d-4eca-4b6f-8239-19662e19e222",
   "metadata": {},
   "outputs": [],
   "source": [
    "##Stop words"
   ]
  },
  {
   "cell_type": "code",
   "execution_count": 164,
   "id": "d3afe311-748c-4631-bd5a-86329ad64886",
   "metadata": {},
   "outputs": [
    {
     "name": "stdout",
     "output_type": "stream",
     "text": [
      "{'alone', 'last', \"'m\", 'some', 'whereafter', 'under', 'both', 'formerly', 'three', 'whoever', 'really', 'ten', 'it', 'often', 'bottom', 'themselves', 'first', 'please', '‘ve', 'ever', 'herein', 'anywhere', '’m', 'regarding', 'whole', 'we', '‘s', 'nothing', 'whereupon', 'him', 'one', 'keep', 'third', 'once', 'ca', 'although', 'therefore', 'anyway', 'hereby', 'much', 'am', 'part', \"n't\", 'upon', 'noone', 'show', '‘d', 'same', 'rather', 'did', 'ourselves', 'just', 'call', 'something', 'who', '‘ll', 'into', 'the', 'from', 'perhaps', 'namely', 'hundred', 'moreover', 'before', 'with', 'whence', 'be', \"'re\", 'an', 'during', 'now', 'whenever', 'on', 'somewhere', 'about', 'sometime', 'none', 'or', 'two', 'put', 'quite', 'since', 'all', 'many', 'himself', 're', '’d', 'here', 'more', 'was', 'everyone', 'otherwise', 'again', 'of', 'me', 'say', 'at', 'for', 'any', 'their', 'those', 'beyond', 'these', 'anything', 'itself', 'per', 'few', 'does', 'give', 'n‘t', 'by', 'no', 'neither', 'nine', 'among', 'amongst', 'nobody', 'whom', 'sixty', 'he', 'is', 'beforehand', 'onto', 'either', 'becomes', 'four', 'towards', 'very', 'in', 'she', 'between', 'empty', 'then', 'off', 'because', 'go', 'after', 'his', 'wherein', 'my', 'mine', 'thru', 'they', 'everywhere', 'indeed', 'whatever', \"'ve\", 'against', 'below', 'if', 'hereupon', 'where', 'up', 'across', 'six', 'us', 'beside', 'back', 'should', 'do', 'never', 'another', 'why', 'almost', 'using', 'whereas', 'btw', 'made', 'several', 'still', 'fifty', 'see', 'unless', 'various', 'might', 'others', 'through', 'too', 'except', 'yet', 'eight', 'will', 'and', 'therein', 'afterwards', 'side', 'so', 'n’t', 'though', \"'ll\", 'move', 'this', 'top', 'only', 'myself', 'full', 'had', 'cannot', 'twenty', '’s', 'behind', 'sometimes', 'your', \"'s\", 'fifteen', '’ll', 'whether', 'well', 'thus', 'along', 'hers', 'becoming', 'down', 'being', \"'d\", 'next', 'doing', 'until', '’re', 'can', 'former', 'whose', 'yourselves', 'hereafter', 'get', 'throughout', 'together', 'further', 'else', 'always', 'take', 'a', 'seem', 'everything', 'were', 'anyone', 'yourself', 'serious', 'make', 'anyhow', 'seemed', 'you', 'must', 'became', 'herself', 'are', 'whereby', 'seems', 'as', 'used', 'has', 'own', 'ours', 'least', 'however', 'somehow', 'enough', 'than', '‘m', 'that', 'them', 'amount', 'within', 'meanwhile', 'even', 'our', 'seeming', 'each', 'done', 'wherever', 'forty', 'would', 'may', 'become', 'mostly', 'thereafter', 'not', 'to', 'could', 'have', 'due', 'above', 'what', 'someone', 'such', 'her', '‘re', 'less', 'hence', 'also', 'there', 'whither', 'which', 'besides', 'already', 'toward', 'every', 'around', 'eleven', 'out', 'other', 'twelve', 'when', 'elsewhere', 'five', 'nor', 'but', 'without', 'nowhere', 'i', 'via', 'latter', 'front', 'while', 'nevertheless', '’ve', 'thence', 'thereby', 'its', 'over', 'most', 'been', 'thereupon', 'name', 'how', 'latterly', 'yours'}\n"
     ]
    }
   ],
   "source": [
    "print(nlp.Defaults.stop_words)"
   ]
  },
  {
   "cell_type": "code",
   "execution_count": 130,
   "id": "b3cdd378-1634-4da5-98a2-6c527d9e96dd",
   "metadata": {},
   "outputs": [
    {
     "data": {
      "text/plain": [
       "326"
      ]
     },
     "execution_count": 130,
     "metadata": {},
     "output_type": "execute_result"
    }
   ],
   "source": [
    "len(nlp.Defaults.stop_words)"
   ]
  },
  {
   "cell_type": "code",
   "execution_count": 132,
   "id": "8ddcdc1e-c845-453f-a9dc-16cd18da2013",
   "metadata": {},
   "outputs": [
    {
     "data": {
      "text/plain": [
       "True"
      ]
     },
     "execution_count": 132,
     "metadata": {},
     "output_type": "execute_result"
    }
   ],
   "source": [
    "nlp.vocab[\"myself\"].is_stop"
   ]
  },
  {
   "cell_type": "code",
   "execution_count": 134,
   "id": "a0e8046d-9195-4f13-8eff-8def806c8cae",
   "metadata": {},
   "outputs": [
    {
     "data": {
      "text/plain": [
       "False"
      ]
     },
     "execution_count": 134,
     "metadata": {},
     "output_type": "execute_result"
    }
   ],
   "source": [
    "nlp.vocab[\"mystery\"].is_stop"
   ]
  },
  {
   "cell_type": "code",
   "execution_count": 136,
   "id": "356676b2-764b-4db8-843e-a940227efdb6",
   "metadata": {},
   "outputs": [],
   "source": [
    "#To add a stopword"
   ]
  },
  {
   "cell_type": "code",
   "execution_count": 144,
   "id": "3ca96384-83bc-4670-ba56-cd2b18a63472",
   "metadata": {},
   "outputs": [
    {
     "data": {
      "text/plain": [
       "False"
      ]
     },
     "execution_count": 144,
     "metadata": {},
     "output_type": "execute_result"
    }
   ],
   "source": [
    "nlp.vocab[\"btw\"].is_stop"
   ]
  },
  {
   "cell_type": "code",
   "execution_count": 146,
   "id": "1dbfb2d7-5c2b-4e43-85f1-56bc24af1cab",
   "metadata": {},
   "outputs": [],
   "source": [
    "nlp.Defaults.stop_words.add(\"btw\")"
   ]
  },
  {
   "cell_type": "code",
   "execution_count": 150,
   "id": "3f388c1d-6223-4ea0-89aa-083565734850",
   "metadata": {},
   "outputs": [],
   "source": [
    "nlp.vocab[\"btw\"].is_stop=True"
   ]
  },
  {
   "cell_type": "code",
   "execution_count": 154,
   "id": "b8fd2b1c-fe51-449e-920b-51a34268345a",
   "metadata": {},
   "outputs": [
    {
     "data": {
      "text/plain": [
       "True"
      ]
     },
     "execution_count": 154,
     "metadata": {},
     "output_type": "execute_result"
    }
   ],
   "source": [
    "nlp.vocab[\"btw\"].is_stop"
   ]
  },
  {
   "cell_type": "code",
   "execution_count": 152,
   "id": "2494cad4-e6aa-4fe1-8273-c683ff872654",
   "metadata": {},
   "outputs": [
    {
     "data": {
      "text/plain": [
       "327"
      ]
     },
     "execution_count": 152,
     "metadata": {},
     "output_type": "execute_result"
    }
   ],
   "source": [
    "len(nlp.Defaults.stop_words)"
   ]
  },
  {
   "cell_type": "code",
   "execution_count": 166,
   "id": "b59adf8a-2bd6-4140-94b5-587e592b1889",
   "metadata": {},
   "outputs": [],
   "source": [
    "#To remove a stopword"
   ]
  },
  {
   "cell_type": "code",
   "execution_count": 168,
   "id": "e1250e6e-d70c-4046-9469-9e90c621342a",
   "metadata": {},
   "outputs": [],
   "source": [
    "nlp.Defaults.stop_words.remove(\"btw\")"
   ]
  },
  {
   "cell_type": "code",
   "execution_count": 170,
   "id": "207ed124-0b45-4318-82e8-a00d03460f75",
   "metadata": {},
   "outputs": [],
   "source": [
    "nlp.vocab[\"btw\"].is_stop=False"
   ]
  },
  {
   "cell_type": "code",
   "execution_count": 172,
   "id": "84c08e6b-fce4-45e0-b220-b106a2288662",
   "metadata": {},
   "outputs": [
    {
     "data": {
      "text/plain": [
       "326"
      ]
     },
     "execution_count": 172,
     "metadata": {},
     "output_type": "execute_result"
    }
   ],
   "source": [
    "len(nlp.Defaults.stop_words)"
   ]
  },
  {
   "cell_type": "code",
   "execution_count": 174,
   "id": "e993dda6-5a8c-488f-aadf-f19e12a09f2a",
   "metadata": {},
   "outputs": [
    {
     "data": {
      "text/plain": [
       "False"
      ]
     },
     "execution_count": 174,
     "metadata": {},
     "output_type": "execute_result"
    }
   ],
   "source": [
    "nlp.vocab[\"btw\"].is_stop"
   ]
  },
  {
   "cell_type": "code",
   "execution_count": null,
   "id": "22d92dd6-7968-49e2-87c0-b72f972ee6c5",
   "metadata": {},
   "outputs": [],
   "source": []
  }
 ],
 "metadata": {
  "kernelspec": {
   "display_name": "Python 3 (ipykernel)",
   "language": "python",
   "name": "python3"
  },
  "language_info": {
   "codemirror_mode": {
    "name": "ipython",
    "version": 3
   },
   "file_extension": ".py",
   "mimetype": "text/x-python",
   "name": "python",
   "nbconvert_exporter": "python",
   "pygments_lexer": "ipython3",
   "version": "3.11.9"
  }
 },
 "nbformat": 4,
 "nbformat_minor": 5
}
