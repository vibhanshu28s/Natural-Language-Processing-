{
 "cells": [
  {
   "cell_type": "code",
   "execution_count": 1,
   "id": "49c57e9b-cf34-4cf0-8295-a64079ae06f0",
   "metadata": {},
   "outputs": [
    {
     "name": "stderr",
     "output_type": "stream",
     "text": [
      "2024-12-11 16:35:16.761652: I tensorflow/core/platform/cpu_feature_guard.cc:210] This TensorFlow binary is optimized to use available CPU instructions in performance-critical operations.\n",
      "To enable the following instructions: AVX2 FMA, in other operations, rebuild TensorFlow with the appropriate compiler flags.\n"
     ]
    }
   ],
   "source": [
    "import spacy\n",
    "from spacy.lang.en.stop_words import STOP_WORDS\n",
    "from string import punctuation"
   ]
  },
  {
   "cell_type": "code",
   "execution_count": 2,
   "id": "47f93293-7ed2-4dd7-bb45-d6691545f518",
   "metadata": {},
   "outputs": [],
   "source": [
    "nlp=spacy.load(\"en_core_web_sm\")"
   ]
  },
  {
   "cell_type": "code",
   "execution_count": 3,
   "id": "2646bada-0ec8-42cd-9f89-2fc5933c568a",
   "metadata": {},
   "outputs": [],
   "source": [
    "text=\"\"\" Nature is an inherent character or constitution,[1] particularly of the ecosphere or the universe as a whole. \n",
    "In this general sense nature refers to the laws, elements and phenomena of the physical world, including life. \n",
    "Although humans are part of nature, human activity or humans as a whole are often described as at times at odds, \n",
    "or outright separate and even superior to nature.[2]\n",
    "During the advent of modern scientific method in the last several centuries, nature became the passive reality, \n",
    "organized and moved by divine laws.[3][4] With the Industrial Revolution, nature increasingly became seen as the \n",
    "part of reality deprived from intentional intervention: it was hence considered as sacred by some traditions \n",
    "(Rousseau, American transcendentalism) or a mere decorum for divine providence or human history (Hegel, Marx). \n",
    "However, a vitalist vision of nature, closer to the pre-Socratic one, got reborn at the same time, especially after Charles Darwin.[2]\n",
    "Within the various uses of the word today, \"nature\" often refers to geology and wildlife. \n",
    "Nature can refer to the general realm of living beings, and in some cases to the processes associated with inanimate objects—the way \n",
    "that particular types of things exist and change of their own accord, such as the weather and geology of the Earth. It is \n",
    "often taken to mean the \"natural environment\" or wilderness—wild animals, rocks, forest, and in general those things that \n",
    "have not been substantially altered by human intervention, or which persist despite human intervention. For example, \n",
    "manufactured objects and human interaction generally are not considered part of nature, unless qualified as, for example, \n",
    "\"human nature\" or \"the whole of nature\". This more traditional concept of natural things that can still be found today implies a distinction\n",
    "between the natural and the artificial, with the artificial being understood as that which has been brought into being by a human \n",
    "consciousness or a human mind. Depending on the particular context, the term \"natural\" might also be distinguished from the unnatural \n",
    "or the supernatural.[2] \"\"\""
   ]
  },
  {
   "cell_type": "code",
   "execution_count": 4,
   "id": "b08e797f-6f73-44d3-85b3-7824e9db3f3a",
   "metadata": {},
   "outputs": [],
   "source": [
    "stopwords=list(STOP_WORDS)"
   ]
  },
  {
   "cell_type": "code",
   "execution_count": 5,
   "id": "5dd1bb1a-d4e0-4e15-9c18-d62426e148e0",
   "metadata": {},
   "outputs": [],
   "source": [
    "doc=nlp(text)"
   ]
  },
  {
   "cell_type": "code",
   "execution_count": 6,
   "id": "b2e4fd1d-ccfd-4d81-b3de-186f68856374",
   "metadata": {},
   "outputs": [
    {
     "name": "stdout",
     "output_type": "stream",
     "text": [
      "[' ', 'Nature', 'is', 'an', 'inherent', 'character', 'or', 'constitution,[1', ']', 'particularly', 'of', 'the', 'ecosphere', 'or', 'the', 'universe', 'as', 'a', 'whole', '.', '\\n', 'In', 'this', 'general', 'sense', 'nature', 'refers', 'to', 'the', 'laws', ',', 'elements', 'and', 'phenomena', 'of', 'the', 'physical', 'world', ',', 'including', 'life', '.', '\\n', 'Although', 'humans', 'are', 'part', 'of', 'nature', ',', 'human', 'activity', 'or', 'humans', 'as', 'a', 'whole', 'are', 'often', 'described', 'as', 'at', 'times', 'at', 'odds', ',', '\\n', 'or', 'outright', 'separate', 'and', 'even', 'superior', 'to', 'nature.[2', ']', '\\n', 'During', 'the', 'advent', 'of', 'modern', 'scientific', 'method', 'in', 'the', 'last', 'several', 'centuries', ',', 'nature', 'became', 'the', 'passive', 'reality', ',', '\\n', 'organized', 'and', 'moved', 'by', 'divine', 'laws.[3][4', ']', 'With', 'the', 'Industrial', 'Revolution', ',', 'nature', 'increasingly', 'became', 'seen', 'as', 'the', '\\n', 'part', 'of', 'reality', 'deprived', 'from', 'intentional', 'intervention', ':', 'it', 'was', 'hence', 'considered', 'as', 'sacred', 'by', 'some', 'traditions', '\\n', '(', 'Rousseau', ',', 'American', 'transcendentalism', ')', 'or', 'a', 'mere', 'decorum', 'for', 'divine', 'providence', 'or', 'human', 'history', '(', 'Hegel', ',', 'Marx', ')', '.', '\\n', 'However', ',', 'a', 'vitalist', 'vision', 'of', 'nature', ',', 'closer', 'to', 'the', 'pre', '-', 'Socratic', 'one', ',', 'got', 'reborn', 'at', 'the', 'same', 'time', ',', 'especially', 'after', 'Charles', 'Darwin.[2', ']', '\\n', 'Within', 'the', 'various', 'uses', 'of', 'the', 'word', 'today', ',', '\"', 'nature', '\"', 'often', 'refers', 'to', 'geology', 'and', 'wildlife', '.', '\\n', 'Nature', 'can', 'refer', 'to', 'the', 'general', 'realm', 'of', 'living', 'beings', ',', 'and', 'in', 'some', 'cases', 'to', 'the', 'processes', 'associated', 'with', 'inanimate', 'objects', '—', 'the', 'way', '\\n', 'that', 'particular', 'types', 'of', 'things', 'exist', 'and', 'change', 'of', 'their', 'own', 'accord', ',', 'such', 'as', 'the', 'weather', 'and', 'geology', 'of', 'the', 'Earth', '.', 'It', 'is', '\\n', 'often', 'taken', 'to', 'mean', 'the', '\"', 'natural', 'environment', '\"', 'or', 'wilderness', '—', 'wild', 'animals', ',', 'rocks', ',', 'forest', ',', 'and', 'in', 'general', 'those', 'things', 'that', '\\n', 'have', 'not', 'been', 'substantially', 'altered', 'by', 'human', 'intervention', ',', 'or', 'which', 'persist', 'despite', 'human', 'intervention', '.', 'For', 'example', ',', '\\n', 'manufactured', 'objects', 'and', 'human', 'interaction', 'generally', 'are', 'not', 'considered', 'part', 'of', 'nature', ',', 'unless', 'qualified', 'as', ',', 'for', 'example', ',', '\\n', '\"', 'human', 'nature', '\"', 'or', '\"', 'the', 'whole', 'of', 'nature', '\"', '.', 'This', 'more', 'traditional', 'concept', 'of', 'natural', 'things', 'that', 'can', 'still', 'be', 'found', 'today', 'implies', 'a', 'distinction', '\\n', 'between', 'the', 'natural', 'and', 'the', 'artificial', ',', 'with', 'the', 'artificial', 'being', 'understood', 'as', 'that', 'which', 'has', 'been', 'brought', 'into', 'being', 'by', 'a', 'human', '\\n', 'consciousness', 'or', 'a', 'human', 'mind', '.', 'Depending', 'on', 'the', 'particular', 'context', ',', 'the', 'term', '\"', 'natural', '\"', 'might', 'also', 'be', 'distinguished', 'from', 'the', 'unnatural', '\\n', 'or', 'the', 'supernatural.[2', ']']\n"
     ]
    }
   ],
   "source": [
    "tokens=[token.text for token in  doc]\n",
    "print(tokens)"
   ]
  },
  {
   "cell_type": "code",
   "execution_count": 7,
   "id": "9cfd3777-f489-4007-9684-dd40af4b065f",
   "metadata": {},
   "outputs": [
    {
     "data": {
      "text/plain": [
       "'!\"#$%&\\'()*+,-./:;<=>?@[\\\\]^_`{|}~'"
      ]
     },
     "execution_count": 7,
     "metadata": {},
     "output_type": "execute_result"
    }
   ],
   "source": [
    "punctuation "
   ]
  },
  {
   "cell_type": "code",
   "execution_count": 8,
   "id": "d6927cac-b9cb-4aa9-9503-e2a77ab43615",
   "metadata": {},
   "outputs": [],
   "source": [
    "punctuation=punctuation+\"\\n\""
   ]
  },
  {
   "cell_type": "code",
   "execution_count": 9,
   "id": "aa68dc67-a5a0-4199-8167-b0483c639263",
   "metadata": {},
   "outputs": [
    {
     "data": {
      "text/plain": [
       "'!\"#$%&\\'()*+,-./:;<=>?@[\\\\]^_`{|}~\\n'"
      ]
     },
     "execution_count": 9,
     "metadata": {},
     "output_type": "execute_result"
    }
   ],
   "source": [
    "punctuation"
   ]
  },
  {
   "cell_type": "markdown",
   "id": "9232b940-62b9-4476-afb7-1ee1e5072882",
   "metadata": {},
   "source": [
    "#2) Text Cleaning"
   ]
  },
  {
   "cell_type": "code",
   "execution_count": 11,
   "id": "affe39da-65dd-4f7a-bb9e-3065067590ed",
   "metadata": {},
   "outputs": [],
   "source": [
    "word_frequencies={}\n",
    "\n",
    "for word in doc:\n",
    "    if word.text.lower() not in stopwords:\n",
    "        if word.text.lower() not in punctuation:\n",
    "            if word.text not in word_frequencies.keys():\n",
    "                word_frequencies[word.text]=1\n",
    "            else:\n",
    "                word_frequencies[word.text]+=1"
   ]
  },
  {
   "cell_type": "code",
   "execution_count": 12,
   "id": "a3760a40-c282-4629-a2d1-47644a1102e3",
   "metadata": {},
   "outputs": [
    {
     "name": "stdout",
     "output_type": "stream",
     "text": [
      "{' ': 1, 'Nature': 2, 'inherent': 1, 'character': 1, 'constitution,[1': 1, 'particularly': 1, 'ecosphere': 1, 'universe': 1, 'general': 3, 'sense': 1, 'nature': 9, 'refers': 2, 'laws': 1, 'elements': 1, 'phenomena': 1, 'physical': 1, 'world': 1, 'including': 1, 'life': 1, 'humans': 2, 'human': 8, 'activity': 1, 'described': 1, 'times': 1, 'odds': 1, 'outright': 1, 'separate': 1, 'superior': 1, 'nature.[2': 1, 'advent': 1, 'modern': 1, 'scientific': 1, 'method': 1, 'centuries': 1, 'passive': 1, 'reality': 2, 'organized': 1, 'moved': 1, 'divine': 2, 'laws.[3][4': 1, 'Industrial': 1, 'Revolution': 1, 'increasingly': 1, 'seen': 1, 'deprived': 1, 'intentional': 1, 'intervention': 3, 'considered': 2, 'sacred': 1, 'traditions': 1, 'Rousseau': 1, 'American': 1, 'transcendentalism': 1, 'mere': 1, 'decorum': 1, 'providence': 1, 'history': 1, 'Hegel': 1, 'Marx': 1, 'vitalist': 1, 'vision': 1, 'closer': 1, 'pre': 1, 'Socratic': 1, 'got': 1, 'reborn': 1, 'time': 1, 'especially': 1, 'Charles': 1, 'Darwin.[2': 1, 'uses': 1, 'word': 1, 'today': 2, 'geology': 2, 'wildlife': 1, 'refer': 1, 'realm': 1, 'living': 1, 'beings': 1, 'cases': 1, 'processes': 1, 'associated': 1, 'inanimate': 1, 'objects': 2, '—': 2, 'way': 1, 'particular': 2, 'types': 1, 'things': 3, 'exist': 1, 'change': 1, 'accord': 1, 'weather': 1, 'Earth': 1, 'taken': 1, 'mean': 1, 'natural': 4, 'environment': 1, 'wilderness': 1, 'wild': 1, 'animals': 1, 'rocks': 1, 'forest': 1, 'substantially': 1, 'altered': 1, 'persist': 1, 'despite': 1, 'example': 2, 'manufactured': 1, 'interaction': 1, 'generally': 1, 'qualified': 1, 'traditional': 1, 'concept': 1, 'found': 1, 'implies': 1, 'distinction': 1, 'artificial': 2, 'understood': 1, 'brought': 1, 'consciousness': 1, 'mind': 1, 'Depending': 1, 'context': 1, 'term': 1, 'distinguished': 1, 'unnatural': 1, 'supernatural.[2': 1}\n"
     ]
    }
   ],
   "source": [
    "print(word_frequencies)"
   ]
  },
  {
   "cell_type": "code",
   "execution_count": 13,
   "id": "418be411-8a92-4f0c-acf9-511c2cb89706",
   "metadata": {},
   "outputs": [],
   "source": [
    "max_frequency=max(word_frequencies.values())"
   ]
  },
  {
   "cell_type": "code",
   "execution_count": 14,
   "id": "8d958c6a-5596-4a13-a57d-023ac53cdc6d",
   "metadata": {},
   "outputs": [
    {
     "data": {
      "text/plain": [
       "9"
      ]
     },
     "execution_count": 14,
     "metadata": {},
     "output_type": "execute_result"
    }
   ],
   "source": [
    "max_frequency"
   ]
  },
  {
   "cell_type": "code",
   "execution_count": 15,
   "id": "3140e186-7882-4c4c-abbd-593c01161eb3",
   "metadata": {},
   "outputs": [],
   "source": [
    "for word in word_frequencies.keys():\n",
    "    word_frequencies[word]=word_frequencies[word]/max_frequency"
   ]
  },
  {
   "cell_type": "code",
   "execution_count": 16,
   "id": "0fa20db7-fe94-4fd6-9cfa-66e9419b5dae",
   "metadata": {},
   "outputs": [
    {
     "name": "stdout",
     "output_type": "stream",
     "text": [
      "{' ': 0.1111111111111111, 'Nature': 0.2222222222222222, 'inherent': 0.1111111111111111, 'character': 0.1111111111111111, 'constitution,[1': 0.1111111111111111, 'particularly': 0.1111111111111111, 'ecosphere': 0.1111111111111111, 'universe': 0.1111111111111111, 'general': 0.3333333333333333, 'sense': 0.1111111111111111, 'nature': 1.0, 'refers': 0.2222222222222222, 'laws': 0.1111111111111111, 'elements': 0.1111111111111111, 'phenomena': 0.1111111111111111, 'physical': 0.1111111111111111, 'world': 0.1111111111111111, 'including': 0.1111111111111111, 'life': 0.1111111111111111, 'humans': 0.2222222222222222, 'human': 0.8888888888888888, 'activity': 0.1111111111111111, 'described': 0.1111111111111111, 'times': 0.1111111111111111, 'odds': 0.1111111111111111, 'outright': 0.1111111111111111, 'separate': 0.1111111111111111, 'superior': 0.1111111111111111, 'nature.[2': 0.1111111111111111, 'advent': 0.1111111111111111, 'modern': 0.1111111111111111, 'scientific': 0.1111111111111111, 'method': 0.1111111111111111, 'centuries': 0.1111111111111111, 'passive': 0.1111111111111111, 'reality': 0.2222222222222222, 'organized': 0.1111111111111111, 'moved': 0.1111111111111111, 'divine': 0.2222222222222222, 'laws.[3][4': 0.1111111111111111, 'Industrial': 0.1111111111111111, 'Revolution': 0.1111111111111111, 'increasingly': 0.1111111111111111, 'seen': 0.1111111111111111, 'deprived': 0.1111111111111111, 'intentional': 0.1111111111111111, 'intervention': 0.3333333333333333, 'considered': 0.2222222222222222, 'sacred': 0.1111111111111111, 'traditions': 0.1111111111111111, 'Rousseau': 0.1111111111111111, 'American': 0.1111111111111111, 'transcendentalism': 0.1111111111111111, 'mere': 0.1111111111111111, 'decorum': 0.1111111111111111, 'providence': 0.1111111111111111, 'history': 0.1111111111111111, 'Hegel': 0.1111111111111111, 'Marx': 0.1111111111111111, 'vitalist': 0.1111111111111111, 'vision': 0.1111111111111111, 'closer': 0.1111111111111111, 'pre': 0.1111111111111111, 'Socratic': 0.1111111111111111, 'got': 0.1111111111111111, 'reborn': 0.1111111111111111, 'time': 0.1111111111111111, 'especially': 0.1111111111111111, 'Charles': 0.1111111111111111, 'Darwin.[2': 0.1111111111111111, 'uses': 0.1111111111111111, 'word': 0.1111111111111111, 'today': 0.2222222222222222, 'geology': 0.2222222222222222, 'wildlife': 0.1111111111111111, 'refer': 0.1111111111111111, 'realm': 0.1111111111111111, 'living': 0.1111111111111111, 'beings': 0.1111111111111111, 'cases': 0.1111111111111111, 'processes': 0.1111111111111111, 'associated': 0.1111111111111111, 'inanimate': 0.1111111111111111, 'objects': 0.2222222222222222, '—': 0.2222222222222222, 'way': 0.1111111111111111, 'particular': 0.2222222222222222, 'types': 0.1111111111111111, 'things': 0.3333333333333333, 'exist': 0.1111111111111111, 'change': 0.1111111111111111, 'accord': 0.1111111111111111, 'weather': 0.1111111111111111, 'Earth': 0.1111111111111111, 'taken': 0.1111111111111111, 'mean': 0.1111111111111111, 'natural': 0.4444444444444444, 'environment': 0.1111111111111111, 'wilderness': 0.1111111111111111, 'wild': 0.1111111111111111, 'animals': 0.1111111111111111, 'rocks': 0.1111111111111111, 'forest': 0.1111111111111111, 'substantially': 0.1111111111111111, 'altered': 0.1111111111111111, 'persist': 0.1111111111111111, 'despite': 0.1111111111111111, 'example': 0.2222222222222222, 'manufactured': 0.1111111111111111, 'interaction': 0.1111111111111111, 'generally': 0.1111111111111111, 'qualified': 0.1111111111111111, 'traditional': 0.1111111111111111, 'concept': 0.1111111111111111, 'found': 0.1111111111111111, 'implies': 0.1111111111111111, 'distinction': 0.1111111111111111, 'artificial': 0.2222222222222222, 'understood': 0.1111111111111111, 'brought': 0.1111111111111111, 'consciousness': 0.1111111111111111, 'mind': 0.1111111111111111, 'Depending': 0.1111111111111111, 'context': 0.1111111111111111, 'term': 0.1111111111111111, 'distinguished': 0.1111111111111111, 'unnatural': 0.1111111111111111, 'supernatural.[2': 0.1111111111111111}\n"
     ]
    }
   ],
   "source": [
    "print(word_frequencies)"
   ]
  },
  {
   "cell_type": "code",
   "execution_count": 17,
   "id": "23971491-8215-4c8e-9bda-f9d2c52cbe5b",
   "metadata": {},
   "outputs": [],
   "source": [
    "#3. Sentence tokenize"
   ]
  },
  {
   "cell_type": "code",
   "execution_count": 18,
   "id": "8dba82e1-624e-4d7d-8d2e-7b7932f16056",
   "metadata": {},
   "outputs": [
    {
     "name": "stdout",
     "output_type": "stream",
     "text": [
      "[ Nature is an inherent character or constitution,[1] particularly of the ecosphere or the universe as a whole. \n",
      ", In this general sense nature refers to the laws, elements and phenomena of the physical world, including life. \n",
      ", Although humans are part of nature, human activity or humans as a whole are often described as at times at odds, \n",
      "or outright separate and even superior to nature.[2]\n",
      "During the advent of modern scientific method in the last several centuries, nature became the passive reality, \n",
      "organized and moved by divine laws.[3][4] With the Industrial Revolution, nature increasingly became seen as the \n",
      "part of reality deprived from intentional intervention: it was hence considered as sacred by some traditions \n",
      "(Rousseau, American transcendentalism) or a mere decorum for divine providence or human history (Hegel, Marx). \n",
      ", However, a vitalist vision of nature, closer to the pre-Socratic one, got reborn at the same time, especially after Charles Darwin.[2]\n",
      "Within the various uses of the word today, \"nature\" often refers to geology and wildlife. \n",
      ", Nature can refer to the general realm of living beings, and in some cases to the processes associated with inanimate objects—the way \n",
      "that particular types of things exist and change of their own accord, such as the weather and geology of the Earth., It is \n",
      "often taken to mean the \"natural environment\" or wilderness—wild animals, rocks, forest, and in general those things that \n",
      "have not been substantially altered by human intervention, or which persist despite human intervention., For example, \n",
      "manufactured objects and human interaction generally are not considered part of nature, unless qualified as, for example, \n",
      "\"human nature\" or \"the whole of nature\"., This more traditional concept of natural things that can still be found today implies a distinction\n",
      "between the natural and the artificial, with the artificial being understood as that which has been brought into being by a human \n",
      "consciousness or a human mind., Depending on the particular context, the term \"natural\" might also be distinguished from the unnatural \n",
      "or the supernatural.[2]]\n"
     ]
    }
   ],
   "source": [
    "sentence_tokens=[sent for sent in doc.sents]\n",
    "print(sentence_tokens)"
   ]
  },
  {
   "cell_type": "code",
   "execution_count": 19,
   "id": "d3d9b577-d56e-4af6-8d00-694a66e68834",
   "metadata": {},
   "outputs": [],
   "source": [
    "sentence_score={}\n",
    "for sent in sentence_tokens:\n",
    "    for word in  sent:\n",
    "        if word.text.lower() in word_frequencies.keys():\n",
    "            if sent not in sentence_score.keys():\n",
    "                sentence_score[sent]=word_frequencies[word.text.lower()]\n",
    "            else:\n",
    "                sentence_score[sent]+=word_frequencies[word.text.lower()]"
   ]
  },
  {
   "cell_type": "code",
   "execution_count": 20,
   "id": "97d868b6-999f-4dea-bd21-f50e2bd4b2ed",
   "metadata": {},
   "outputs": [
    {
     "name": "stdout",
     "output_type": "stream",
     "text": [
      "{ Nature is an inherent character or constitution,[1] particularly of the ecosphere or the universe as a whole. \n",
      ": 1.7777777777777781, In this general sense nature refers to the laws, elements and phenomena of the physical world, including life. \n",
      ": 2.4444444444444446, Although humans are part of nature, human activity or humans as a whole are often described as at times at odds, \n",
      "or outright separate and even superior to nature.[2]\n",
      "During the advent of modern scientific method in the last several centuries, nature became the passive reality, \n",
      "organized and moved by divine laws.[3][4] With the Industrial Revolution, nature increasingly became seen as the \n",
      "part of reality deprived from intentional intervention: it was hence considered as sacred by some traditions \n",
      "(Rousseau, American transcendentalism) or a mere decorum for divine providence or human history (Hegel, Marx). \n",
      ": 9.777777777777773, However, a vitalist vision of nature, closer to the pre-Socratic one, got reborn at the same time, especially after Charles Darwin.[2]\n",
      "Within the various uses of the word today, \"nature\" often refers to geology and wildlife. \n",
      ": 3.8888888888888897, Nature can refer to the general realm of living beings, and in some cases to the processes associated with inanimate objects—the way \n",
      "that particular types of things exist and change of their own accord, such as the weather and geology of the Earth.: 4.111111111111112, It is \n",
      "often taken to mean the \"natural environment\" or wilderness—wild animals, rocks, forest, and in general those things that \n",
      "have not been substantially altered by human intervention, or which persist despite human intervention.: 5.111111111111112, For example, \n",
      "manufactured objects and human interaction generally are not considered part of nature, unless qualified as, for example, \n",
      "\"human nature\" or \"the whole of nature\".: 6.111111111111111, This more traditional concept of natural things that can still be found today implies a distinction\n",
      "between the natural and the artificial, with the artificial being understood as that which has been brought into being by a human \n",
      "consciousness or a human mind.: 4.666666666666666, Depending on the particular context, the term \"natural\" might also be distinguished from the unnatural \n",
      "or the supernatural.[2]: 1.2222222222222223}\n"
     ]
    }
   ],
   "source": [
    "print(sentence_score)"
   ]
  },
  {
   "cell_type": "code",
   "execution_count": 21,
   "id": "1768eba5-b8be-4298-a27f-7612f69a2191",
   "metadata": {},
   "outputs": [],
   "source": [
    "#3)Select 30% sentences with max score"
   ]
  },
  {
   "cell_type": "code",
   "execution_count": 22,
   "id": "e0bdee19-950f-40af-98f6-984916fe430a",
   "metadata": {},
   "outputs": [],
   "source": [
    "from heapq import nlargest"
   ]
  },
  {
   "cell_type": "code",
   "execution_count": 23,
   "id": "5dbab0b2-1235-4d23-a9fd-97f9358da060",
   "metadata": {},
   "outputs": [],
   "source": [
    "select_length=int(len(sentence_tokens))*0.3"
   ]
  },
  {
   "cell_type": "code",
   "execution_count": 24,
   "id": "9eb86eaf-f5cf-42fe-9c50-edaaef9395bc",
   "metadata": {},
   "outputs": [
    {
     "name": "stdout",
     "output_type": "stream",
     "text": [
      "2.6999999999999997\n"
     ]
    }
   ],
   "source": [
    "print(select_length)"
   ]
  },
  {
   "cell_type": "code",
   "execution_count": 25,
   "id": "fe8b9fe1-780b-4326-b91a-5d775b6fc541",
   "metadata": {},
   "outputs": [],
   "source": [
    "#4) Getting the Summery"
   ]
  },
  {
   "cell_type": "code",
   "execution_count": 26,
   "id": "776c92d3-62c6-4f4a-86c2-f2e46131b26a",
   "metadata": {},
   "outputs": [],
   "source": [
    "summary=nlargest(n=int(select_length), iterable=sentence_score, key= sentence_score.get)"
   ]
  },
  {
   "cell_type": "code",
   "execution_count": 27,
   "id": "ba92ef9d-c7dc-4090-ae1a-b3974ccfabbf",
   "metadata": {},
   "outputs": [
    {
     "name": "stdout",
     "output_type": "stream",
     "text": [
      "[Although humans are part of nature, human activity or humans as a whole are often described as at times at odds, \n",
      "or outright separate and even superior to nature.[2]\n",
      "During the advent of modern scientific method in the last several centuries, nature became the passive reality, \n",
      "organized and moved by divine laws.[3][4] With the Industrial Revolution, nature increasingly became seen as the \n",
      "part of reality deprived from intentional intervention: it was hence considered as sacred by some traditions \n",
      "(Rousseau, American transcendentalism) or a mere decorum for divine providence or human history (Hegel, Marx). \n",
      ", For example, \n",
      "manufactured objects and human interaction generally are not considered part of nature, unless qualified as, for example, \n",
      "\"human nature\" or \"the whole of nature\".]\n"
     ]
    }
   ],
   "source": [
    "print(summary)"
   ]
  },
  {
   "cell_type": "code",
   "execution_count": 28,
   "id": "c7b12802-5f8d-432d-8279-520a9754bfd5",
   "metadata": {},
   "outputs": [],
   "source": [
    "final_summary=[word.text for word in summary]"
   ]
  },
  {
   "cell_type": "code",
   "execution_count": 29,
   "id": "f3b041b4-e03d-4ac6-9ab8-eafd79e3e34f",
   "metadata": {},
   "outputs": [
    {
     "data": {
      "text/plain": [
       "['Although humans are part of nature, human activity or humans as a whole are often described as at times at odds, \\nor outright separate and even superior to nature.[2]\\nDuring the advent of modern scientific method in the last several centuries, nature became the passive reality, \\norganized and moved by divine laws.[3][4] With the Industrial Revolution, nature increasingly became seen as the \\npart of reality deprived from intentional intervention: it was hence considered as sacred by some traditions \\n(Rousseau, American transcendentalism) or a mere decorum for divine providence or human history (Hegel, Marx). \\n',\n",
       " 'For example, \\nmanufactured objects and human interaction generally are not considered part of nature, unless qualified as, for example, \\n\"human nature\" or \"the whole of nature\".']"
      ]
     },
     "execution_count": 29,
     "metadata": {},
     "output_type": "execute_result"
    }
   ],
   "source": [
    "final_summary"
   ]
  },
  {
   "cell_type": "code",
   "execution_count": 30,
   "id": "5a709d9e-30d3-4b5c-97e6-737ba616469d",
   "metadata": {},
   "outputs": [],
   "source": [
    "summary=\" \".join(final_summary)"
   ]
  },
  {
   "cell_type": "code",
   "execution_count": 31,
   "id": "c02ab695-1356-4114-b2b9-bda76574b001",
   "metadata": {},
   "outputs": [
    {
     "name": "stdout",
     "output_type": "stream",
     "text": [
      "Although humans are part of nature, human activity or humans as a whole are often described as at times at odds, \n",
      "or outright separate and even superior to nature.[2]\n",
      "During the advent of modern scientific method in the last several centuries, nature became the passive reality, \n",
      "organized and moved by divine laws.[3][4] With the Industrial Revolution, nature increasingly became seen as the \n",
      "part of reality deprived from intentional intervention: it was hence considered as sacred by some traditions \n",
      "(Rousseau, American transcendentalism) or a mere decorum for divine providence or human history (Hegel, Marx). \n",
      " For example, \n",
      "manufactured objects and human interaction generally are not considered part of nature, unless qualified as, for example, \n",
      "\"human nature\" or \"the whole of nature\".\n"
     ]
    }
   ],
   "source": [
    "print(summary)"
   ]
  },
  {
   "cell_type": "code",
   "execution_count": 32,
   "id": "af28a542-6386-4762-886f-bdeb5b37e176",
   "metadata": {},
   "outputs": [
    {
     "data": {
      "text/plain": [
       "2118"
      ]
     },
     "execution_count": 32,
     "metadata": {},
     "output_type": "execute_result"
    }
   ],
   "source": [
    "len(text)"
   ]
  },
  {
   "cell_type": "code",
   "execution_count": 33,
   "id": "fa03717e-025e-4b4d-9ffb-79826c4f1466",
   "metadata": {},
   "outputs": [
    {
     "data": {
      "text/plain": [
       "794"
      ]
     },
     "execution_count": 33,
     "metadata": {},
     "output_type": "execute_result"
    }
   ],
   "source": [
    "len(summary)"
   ]
  }
 ],
 "metadata": {
  "kernelspec": {
   "display_name": "Python 3 (ipykernel)",
   "language": "python",
   "name": "python3"
  },
  "language_info": {
   "codemirror_mode": {
    "name": "ipython",
    "version": 3
   },
   "file_extension": ".py",
   "mimetype": "text/x-python",
   "name": "python",
   "nbconvert_exporter": "python",
   "pygments_lexer": "ipython3",
   "version": "3.11.9"
  }
 },
 "nbformat": 4,
 "nbformat_minor": 5
}
